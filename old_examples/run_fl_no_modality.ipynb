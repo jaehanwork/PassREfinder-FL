{
 "cells": [
  {
   "cell_type": "code",
   "execution_count": 1,
   "id": "3e94e028-9098-4d66-a008-e895ac8858f2",
   "metadata": {},
   "outputs": [],
   "source": [
    "import json\n",
    "import os\n",
    "os.environ[\"CUDA_DEVICE_ORDER\"]=\"PCI_BUS_ID\"\n",
    "os.environ[\"CUDA_VISIBLE_DEVICES\"]=\"0\"\n",
    "import numpy as np\n",
    "import random\n",
    "import torch\n",
    "from torch.optim import Adam\n",
    "import dgl\n",
    "from datetime import datetime\n",
    "\n",
    "from src import *\n",
    "from pprint import pprint\n",
    "current_time = datetime.now().strftime(\"%Y-%m-%d %H:%M:%S\")\n",
    "\n",
    "nclient = 10\n",
    "\n",
    "data_dir = './data_passrefinder-p'\n",
    "output_dir = f\"{data_dir}/output/fl_ablation/modality/{current_time}\""
   ]
  },
  {
   "cell_type": "code",
   "execution_count": 2,
   "id": "a3e4eaca-2e0c-40f8-8501-8e1b37d03c13",
   "metadata": {},
   "outputs": [
    {
     "name": "stdout",
     "output_type": "stream",
     "text": [
      "{'agg_type': 'no_hidden',\n",
      " 'device': 0,\n",
      " 'dropout': 0.5,\n",
      " 'embed_size': 1024,\n",
      " 'eval_batch_size': 2048,\n",
      " 'feature_file': './data_passrefinder-p/data/feature_dict.json',\n",
      " 'gnn_depth': 2,\n",
      " 'hidden_size': 1024,\n",
      " 'max_epoch': 100,\n",
      " 'max_lr': 0.001,\n",
      " 'nclient': 10,\n",
      " 'output_dir': './data_passrefinder-p/output/fl_ablation/modality/2025-03-31 '\n",
      "               '13:26:21',\n",
      " 'random_seed': 42,\n",
      " 'relu': 0.2,\n",
      " 'reuse_rate_file': './data_passrefinder-p/data/reuse_rate_dict.json',\n",
      " 'reuse_th': 0.5,\n",
      " 'train_batch_size': 2048,\n",
      " 'warmup': 0.02}\n"
     ]
    }
   ],
   "source": [
    "from argparse import ArgumentParser\n",
    "parser = ArgumentParser()\n",
    "\n",
    "import argparse\n",
    "from pprint import pprint\n",
    "\n",
    "parser = argparse.ArgumentParser(description=\"Parser for model configuration\")\n",
    "\n",
    "parser.add_argument('--feature_file', type=str, default=f\"{data_dir}/data/feature_dict.json\", help='feature json file')\n",
    "parser.add_argument('--reuse_rate_file', type=str, default=f\"{data_dir}/data/reuse_rate_dict.json\", help='reuse rate json file')\n",
    "# parser.add_argument('--setting', type=str, required=True, help='graph learning setting: inductive/transductive')\n",
    "# parser.add_argument('--model_path', type=str, required=True, default=\"./model/\", help='model file path')\n",
    "parser.add_argument('--output_dir', type=str, default=output_dir, help='output path')\n",
    "parser.add_argument('--agg_type', type=str, default=\"no_hidden\", help='aggregation type')\n",
    "parser.add_argument('--nclient', type=int, default=nclient, help='number of clients')\n",
    "# parser.add_argument('--valid', type=float, default=0.2, help='split ratio of validation set')\n",
    "# parser.add_argument('--test', type=float, default=0.2, help='split ratio of test set')\n",
    "parser.add_argument('--dropout', type=float, default=0.5, help='dropout ratio')\n",
    "parser.add_argument('--random_seed', type=int, default=42, help='random seed for initialization')\n",
    "parser.add_argument('--relu', type=float, default=0.2, help='ReLU threshold')\n",
    "parser.add_argument('--reuse_th', type=float, default=0.5, help='threshold for reuse')\n",
    "parser.add_argument('--train_batch_size', type=int, default=2048, help='batch size for training')\n",
    "parser.add_argument('--eval_batch_size', type=int, default=2048, help='batch size for evaluation')\n",
    "parser.add_argument('--embed_size', type=int, default=1024, help='size of the embedding layer')\n",
    "parser.add_argument('--hidden_size', type=int, default=1024, help='size of the hidden layer')\n",
    "parser.add_argument('--gnn_depth', type=int, default=2, help='depth of the GNN')\n",
    "parser.add_argument('--max_lr', type=float, default=0.001, help='maximum learning rate')\n",
    "parser.add_argument('--warmup', type=float, default=0.02, help='warmup ratio for learning rate')\n",
    "parser.add_argument('--max_epoch', type=int, default=100, help='maximum number of epochs')\n",
    "# parser.add_argument('--early_stop', type=int, default=40, help='early stopping epochs')\n",
    "parser.add_argument('--device', type=int, default=0, help='GPU ID')\n",
    "\n",
    "args = parser.parse_args(args=[])\n",
    "pprint(vars(args))\n",
    "\n",
    "torch.manual_seed(args.random_seed)\n",
    "torch.cuda.manual_seed(args.random_seed)\n",
    "dgl.seed(args.random_seed)\n",
    "np.random.seed(args.random_seed)\n",
    "random.seed(args.random_seed)"
   ]
  },
  {
   "cell_type": "code",
   "execution_count": 3,
   "id": "826581e9-1e24-4e6f-91c2-ae90530983c6",
   "metadata": {},
   "outputs": [
    {
     "name": "stdout",
     "output_type": "stream",
     "text": [
      "Constructing graph...\n",
      "\u001b[FConstructing graph... Done\n",
      "Splitting graph...\n",
      "\u001b[FSplitting graph... Done\n"
     ]
    }
   ],
   "source": [
    "with open(args.feature_file, 'r') as f:\n",
    "    feature_dict = json.load(f)\n",
    "\n",
    "with open(args.reuse_rate_file, 'r') as f:\n",
    "    reuse_rate_dict = json.load(f)\n",
    "    \n",
    "\n",
    "\n",
    "g = construct_graph(feature_dict, reuse_rate_dict, args.reuse_th)\n",
    "g_dict, node_set_list, target_eids_dict = graph_split_FL(g, args.nclient, args.random_seed)\n",
    "\n",
    "\n",
    "\n",
    "# train_loader_list = []\n",
    "# for g, nodes in zip(g_split['train'], node_split['train']):\n",
    "#     train_loader_list.append(get_data_loader(g, nodes, args.train_batch_size, args.gnn_depth, suffle=True))\n",
    "# train_nfeat_list = P.pop_train_node_feature()\n",
    "\n",
    "# valid_loader = get_data_loader(g_split['valid'], node_split['valid'])\n",
    "# valid_nfeat = P.pop_node_feature('valid')\n",
    "# test_loader = get_data_loader(g_split['test'], node_split['test'])\n",
    "# test_nfeat = P.pop_node_feature('test')\n",
    "\n",
    "\n",
    "P = PassREfinder_FL(g_dict, node_set_list, target_eids_dict, args)\n",
    "# P.print_graph()"
   ]
  },
  {
   "cell_type": "code",
   "execution_count": 4,
   "id": "e5673ab1-a63d-40dc-a156-3216b59775c6",
   "metadata": {},
   "outputs": [
    {
     "name": "stdout",
     "output_type": "stream",
     "text": [
      "{'test': Graph(num_nodes={'website': 9927},\n",
      "      num_edges={('website', 'reuse', 'website'): 1211942, ('website', 'user', 'website'): 0},\n",
      "      metagraph=[('website', 'website', 'reuse'), ('website', 'website', 'user')]),\n",
      " 'train': [Graph(num_nodes={'website': 1000},\n",
      "      num_edges={('website', 'reuse', 'website'): 48990, ('website', 'user', 'website'): 0},\n",
      "      metagraph=[('website', 'website', 'reuse'), ('website', 'website', 'user')]),\n",
      "           Graph(num_nodes={'website': 1000},\n",
      "      num_edges={('website', 'reuse', 'website'): 14484, ('website', 'user', 'website'): 0},\n",
      "      metagraph=[('website', 'website', 'reuse'), ('website', 'website', 'user')]),\n",
      "           Graph(num_nodes={'website': 1000},\n",
      "      num_edges={('website', 'reuse', 'website'): 16000, ('website', 'user', 'website'): 0},\n",
      "      metagraph=[('website', 'website', 'reuse'), ('website', 'website', 'user')]),\n",
      "           Graph(num_nodes={'website': 1000},\n",
      "      num_edges={('website', 'reuse', 'website'): 15144, ('website', 'user', 'website'): 0},\n",
      "      metagraph=[('website', 'website', 'reuse'), ('website', 'website', 'user')]),\n",
      "           Graph(num_nodes={'website': 1000},\n",
      "      num_edges={('website', 'reuse', 'website'): 11242, ('website', 'user', 'website'): 0},\n",
      "      metagraph=[('website', 'website', 'reuse'), ('website', 'website', 'user')]),\n",
      "           Graph(num_nodes={'website': 1000},\n",
      "      num_edges={('website', 'reuse', 'website'): 7594, ('website', 'user', 'website'): 0},\n",
      "      metagraph=[('website', 'website', 'reuse'), ('website', 'website', 'user')]),\n",
      "           Graph(num_nodes={'website': 1000},\n",
      "      num_edges={('website', 'reuse', 'website'): 14110, ('website', 'user', 'website'): 0},\n",
      "      metagraph=[('website', 'website', 'reuse'), ('website', 'website', 'user')]),\n",
      "           Graph(num_nodes={'website': 1000},\n",
      "      num_edges={('website', 'reuse', 'website'): 23466, ('website', 'user', 'website'): 0},\n",
      "      metagraph=[('website', 'website', 'reuse'), ('website', 'website', 'user')]),\n",
      "           Graph(num_nodes={'website': 1000},\n",
      "      num_edges={('website', 'reuse', 'website'): 5842, ('website', 'user', 'website'): 0},\n",
      "      metagraph=[('website', 'website', 'reuse'), ('website', 'website', 'user')]),\n",
      "           Graph(num_nodes={'website': 927},\n",
      "      num_edges={('website', 'reuse', 'website'): 9820, ('website', 'user', 'website'): 0},\n",
      "      metagraph=[('website', 'website', 'reuse'), ('website', 'website', 'user')])],\n",
      " 'valid': Graph(num_nodes={'website': 9927},\n",
      "      num_edges={('website', 'reuse', 'website'): 112316, ('website', 'user', 'website'): 0},\n",
      "      metagraph=[('website', 'website', 'reuse'), ('website', 'website', 'user')])}\n"
     ]
    }
   ],
   "source": [
    "pprint(g_dict)"
   ]
  },
  {
   "cell_type": "code",
   "execution_count": 5,
   "id": "39297350-c825-4a1d-9944-39c489028c7f",
   "metadata": {},
   "outputs": [
    {
     "name": "stdout",
     "output_type": "stream",
     "text": [
      "2025-03-31 13:26:33 start\n"
     ]
    },
    {
     "name": "stderr",
     "output_type": "stream",
     "text": [
      "100%|██████████| 10/10 [00:12<00:00,  1.23s/it]\n",
      "100%|██████████| 24/24 [00:04<00:00,  5.50it/s]\n"
     ]
    },
    {
     "name": "stdout",
     "output_type": "stream",
     "text": [
      "2025-03-31 13:26:50 Epoch [1/100], Train Loss: 0.7444, Valid Loss: 0.6993, Precision: 0.5254, Recall: 0.8020, F1: 0.6348\n",
      "Save model!\n"
     ]
    },
    {
     "name": "stderr",
     "output_type": "stream",
     "text": [
      "100%|██████████| 10/10 [00:11<00:00,  1.13s/it]\n",
      "100%|██████████| 24/24 [00:04<00:00,  5.83it/s]\n"
     ]
    },
    {
     "name": "stdout",
     "output_type": "stream",
     "text": [
      "2025-03-31 13:27:05 Epoch [2/100], Train Loss: 0.7464, Valid Loss: 0.6918, Precision: 0.5264, Recall: 0.8760, F1: 0.6576\n",
      "Save model!\n"
     ]
    },
    {
     "name": "stderr",
     "output_type": "stream",
     "text": [
      "100%|██████████| 10/10 [00:11<00:00,  1.11s/it]\n",
      "100%|██████████| 24/24 [00:04<00:00,  5.35it/s]\n"
     ]
    },
    {
     "name": "stdout",
     "output_type": "stream",
     "text": [
      "2025-03-31 13:27:22 Epoch [3/100], Train Loss: 0.6787, Valid Loss: 0.6884, Precision: 0.5259, Recall: 0.9119, F1: 0.6671\n",
      "Save model!\n"
     ]
    },
    {
     "name": "stderr",
     "output_type": "stream",
     "text": [
      "100%|██████████| 10/10 [00:11<00:00,  1.11s/it]\n",
      "100%|██████████| 24/24 [00:04<00:00,  5.85it/s]\n"
     ]
    },
    {
     "name": "stdout",
     "output_type": "stream",
     "text": [
      "2025-03-31 13:27:38 Epoch [4/100], Train Loss: 0.6449, Valid Loss: 0.6862, Precision: 0.5315, Recall: 0.8884, F1: 0.6651\n",
      "Save model!\n"
     ]
    },
    {
     "name": "stderr",
     "output_type": "stream",
     "text": [
      "100%|██████████| 10/10 [00:11<00:00,  1.14s/it]\n",
      "100%|██████████| 24/24 [00:04<00:00,  5.79it/s]\n"
     ]
    },
    {
     "name": "stdout",
     "output_type": "stream",
     "text": [
      "2025-03-31 13:27:54 Epoch [5/100], Train Loss: 0.6365, Valid Loss: 0.6841, Precision: 0.5350, Recall: 0.8512, F1: 0.6571\n",
      "Save model!\n"
     ]
    },
    {
     "name": "stderr",
     "output_type": "stream",
     "text": [
      "100%|██████████| 10/10 [00:11<00:00,  1.14s/it]\n",
      "100%|██████████| 24/24 [00:04<00:00,  5.50it/s]\n"
     ]
    },
    {
     "name": "stdout",
     "output_type": "stream",
     "text": [
      "2025-03-31 13:28:11 Epoch [6/100], Train Loss: 0.6286, Valid Loss: 0.6831, Precision: 0.5364, Recall: 0.8314, F1: 0.6521\n",
      "Save model!\n"
     ]
    },
    {
     "name": "stderr",
     "output_type": "stream",
     "text": [
      "100%|██████████| 10/10 [00:11<00:00,  1.13s/it]\n",
      "100%|██████████| 24/24 [00:04<00:00,  5.84it/s]\n"
     ]
    },
    {
     "name": "stdout",
     "output_type": "stream",
     "text": [
      "2025-03-31 13:28:27 Epoch [7/100], Train Loss: 0.6209, Valid Loss: 0.6809, Precision: 0.5410, Recall: 0.8350, F1: 0.6566\n",
      "Save model!\n"
     ]
    },
    {
     "name": "stderr",
     "output_type": "stream",
     "text": [
      "100%|██████████| 10/10 [00:11<00:00,  1.13s/it]\n",
      "100%|██████████| 24/24 [00:04<00:00,  5.79it/s]\n"
     ]
    },
    {
     "name": "stdout",
     "output_type": "stream",
     "text": [
      "2025-03-31 13:28:43 Epoch [8/100], Train Loss: 0.6171, Valid Loss: 0.6800, Precision: 0.5442, Recall: 0.8148, F1: 0.6525\n",
      "Save model!\n"
     ]
    },
    {
     "name": "stderr",
     "output_type": "stream",
     "text": [
      "100%|██████████| 10/10 [00:11<00:00,  1.17s/it]\n",
      "100%|██████████| 24/24 [00:04<00:00,  5.78it/s]\n"
     ]
    },
    {
     "name": "stdout",
     "output_type": "stream",
     "text": [
      "2025-03-31 13:29:00 Epoch [9/100], Train Loss: 0.6136, Valid Loss: 0.6773, Precision: 0.5480, Recall: 0.8257, F1: 0.6588\n",
      "Save model!\n"
     ]
    },
    {
     "name": "stderr",
     "output_type": "stream",
     "text": [
      "100%|██████████| 10/10 [00:11<00:00,  1.12s/it]\n",
      "100%|██████████| 24/24 [00:04<00:00,  5.68it/s]\n"
     ]
    },
    {
     "name": "stdout",
     "output_type": "stream",
     "text": [
      "2025-03-31 13:29:16 Epoch [10/100], Train Loss: 0.6079, Valid Loss: 0.6731, Precision: 0.5614, Recall: 0.8022, F1: 0.6605\n",
      "Save model!\n"
     ]
    },
    {
     "name": "stderr",
     "output_type": "stream",
     "text": [
      "100%|██████████| 10/10 [00:10<00:00,  1.09s/it]\n",
      "100%|██████████| 24/24 [00:04<00:00,  5.42it/s]\n"
     ]
    },
    {
     "name": "stdout",
     "output_type": "stream",
     "text": [
      "2025-03-31 13:29:33 Epoch [11/100], Train Loss: 0.6079, Valid Loss: 0.6724, Precision: 0.5625, Recall: 0.8017, F1: 0.6612\n",
      "Save model!\n"
     ]
    },
    {
     "name": "stderr",
     "output_type": "stream",
     "text": [
      "100%|██████████| 10/10 [00:11<00:00,  1.16s/it]\n",
      "100%|██████████| 24/24 [00:04<00:00,  5.67it/s]\n"
     ]
    },
    {
     "name": "stdout",
     "output_type": "stream",
     "text": [
      "2025-03-31 13:29:49 Epoch [12/100], Train Loss: 0.6059, Valid Loss: 0.6715, Precision: 0.5652, Recall: 0.7945, F1: 0.6605\n",
      "Save model!\n"
     ]
    },
    {
     "name": "stderr",
     "output_type": "stream",
     "text": [
      "100%|██████████| 10/10 [00:12<00:00,  1.25s/it]\n",
      "100%|██████████| 24/24 [00:04<00:00,  5.53it/s]\n"
     ]
    },
    {
     "name": "stdout",
     "output_type": "stream",
     "text": [
      "2025-03-31 13:30:07 Epoch [13/100], Train Loss: 0.6021, Valid Loss: 0.6673, Precision: 0.5701, Recall: 0.8083, F1: 0.6687\n",
      "Save model!\n"
     ]
    },
    {
     "name": "stderr",
     "output_type": "stream",
     "text": [
      "100%|██████████| 10/10 [00:11<00:00,  1.19s/it]\n",
      "100%|██████████| 24/24 [00:04<00:00,  5.24it/s]\n"
     ]
    },
    {
     "name": "stdout",
     "output_type": "stream",
     "text": [
      "2025-03-31 13:30:24 Epoch [14/100], Train Loss: 0.5993, Valid Loss: 0.6530, Precision: 0.5802, Recall: 0.8737, F1: 0.6973\n",
      "Save model!\n"
     ]
    },
    {
     "name": "stderr",
     "output_type": "stream",
     "text": [
      "100%|██████████| 10/10 [00:12<00:00,  1.21s/it]\n",
      "100%|██████████| 24/24 [00:04<00:00,  5.78it/s]\n"
     ]
    },
    {
     "name": "stdout",
     "output_type": "stream",
     "text": [
      "2025-03-31 13:30:42 Epoch [15/100], Train Loss: 0.5977, Valid Loss: 0.6519, Precision: 0.6216, Recall: 0.7572, F1: 0.6827\n",
      "Save model!\n"
     ]
    },
    {
     "name": "stderr",
     "output_type": "stream",
     "text": [
      "100%|██████████| 10/10 [00:11<00:00,  1.19s/it]\n",
      "100%|██████████| 24/24 [00:04<00:00,  5.75it/s]\n"
     ]
    },
    {
     "name": "stdout",
     "output_type": "stream",
     "text": [
      "2025-03-31 13:30:59 Epoch [16/100], Train Loss: 0.5916, Valid Loss: 0.6448, Precision: 0.6162, Recall: 0.7912, F1: 0.6928\n",
      "Save model!\n"
     ]
    },
    {
     "name": "stderr",
     "output_type": "stream",
     "text": [
      "100%|██████████| 10/10 [00:11<00:00,  1.13s/it]\n",
      "100%|██████████| 24/24 [00:04<00:00,  5.16it/s]\n"
     ]
    },
    {
     "name": "stdout",
     "output_type": "stream",
     "text": [
      "2025-03-31 13:31:15 Epoch [17/100], Train Loss: 0.5850, Valid Loss: 0.6376, Precision: 0.6193, Recall: 0.7861, F1: 0.6928\n",
      "Save model!\n"
     ]
    },
    {
     "name": "stderr",
     "output_type": "stream",
     "text": [
      "100%|██████████| 10/10 [00:11<00:00,  1.16s/it]\n",
      "100%|██████████| 24/24 [00:04<00:00,  5.59it/s]\n"
     ]
    },
    {
     "name": "stdout",
     "output_type": "stream",
     "text": [
      "2025-03-31 13:31:32 Epoch [18/100], Train Loss: 0.5797, Valid Loss: 0.6298, Precision: 0.6433, Recall: 0.7532, F1: 0.6939\n",
      "Save model!\n"
     ]
    },
    {
     "name": "stderr",
     "output_type": "stream",
     "text": [
      "100%|██████████| 10/10 [00:11<00:00,  1.13s/it]\n",
      "100%|██████████| 24/24 [00:04<00:00,  5.62it/s]\n"
     ]
    },
    {
     "name": "stdout",
     "output_type": "stream",
     "text": [
      "2025-03-31 13:31:49 Epoch [19/100], Train Loss: 0.5792, Valid Loss: 0.6278, Precision: 0.6887, Recall: 0.6536, F1: 0.6706\n",
      "Save model!\n"
     ]
    },
    {
     "name": "stderr",
     "output_type": "stream",
     "text": [
      "100%|██████████| 10/10 [00:11<00:00,  1.20s/it]\n",
      "100%|██████████| 24/24 [00:04<00:00,  5.55it/s]\n"
     ]
    },
    {
     "name": "stdout",
     "output_type": "stream",
     "text": [
      "2025-03-31 13:32:06 Epoch [20/100], Train Loss: 0.5767, Valid Loss: 0.6255, Precision: 0.6704, Recall: 0.6889, F1: 0.6795\n",
      "Save model!\n"
     ]
    },
    {
     "name": "stderr",
     "output_type": "stream",
     "text": [
      "100%|██████████| 10/10 [00:11<00:00,  1.12s/it]\n",
      "100%|██████████| 24/24 [00:04<00:00,  5.58it/s]\n"
     ]
    },
    {
     "name": "stdout",
     "output_type": "stream",
     "text": [
      "2025-03-31 13:32:22 Epoch [21/100], Train Loss: 0.5718, Valid Loss: 0.6252, Precision: 0.6774, Recall: 0.6654, F1: 0.6713\n",
      "Save model!\n"
     ]
    },
    {
     "name": "stderr",
     "output_type": "stream",
     "text": [
      "100%|██████████| 10/10 [00:11<00:00,  1.10s/it]\n",
      "100%|██████████| 24/24 [00:04<00:00,  5.45it/s]\n"
     ]
    },
    {
     "name": "stdout",
     "output_type": "stream",
     "text": [
      "2025-03-31 13:32:38 Epoch [22/100], Train Loss: 0.5668, Valid Loss: 0.6225, Precision: 0.7085, Recall: 0.6178, F1: 0.6601\n",
      "Save model!\n"
     ]
    },
    {
     "name": "stderr",
     "output_type": "stream",
     "text": [
      "100%|██████████| 10/10 [00:11<00:00,  1.17s/it]\n",
      "100%|██████████| 24/24 [00:04<00:00,  5.62it/s]\n"
     ]
    },
    {
     "name": "stdout",
     "output_type": "stream",
     "text": [
      "2025-03-31 13:32:55 Epoch [23/100], Train Loss: 0.5635, Valid Loss: 0.6201, Precision: 0.7000, Recall: 0.6474, F1: 0.6726\n",
      "Save model!\n"
     ]
    },
    {
     "name": "stderr",
     "output_type": "stream",
     "text": [
      "100%|██████████| 10/10 [00:11<00:00,  1.17s/it]\n",
      "100%|██████████| 24/24 [00:04<00:00,  5.65it/s]\n"
     ]
    },
    {
     "name": "stdout",
     "output_type": "stream",
     "text": [
      "2025-03-31 13:33:12 Epoch [24/100], Train Loss: 0.5636, Valid Loss: 0.6177, Precision: 0.6937, Recall: 0.6559, F1: 0.6743\n",
      "Save model!\n"
     ]
    },
    {
     "name": "stderr",
     "output_type": "stream",
     "text": [
      "100%|██████████| 10/10 [00:11<00:00,  1.12s/it]\n",
      "100%|██████████| 24/24 [00:04<00:00,  5.34it/s]\n"
     ]
    },
    {
     "name": "stdout",
     "output_type": "stream",
     "text": [
      "2025-03-31 13:33:29 Epoch [25/100], Train Loss: 0.5638, Valid Loss: 0.6165, Precision: 0.7209, Recall: 0.6308, F1: 0.6729\n",
      "Save model!\n"
     ]
    },
    {
     "name": "stderr",
     "output_type": "stream",
     "text": [
      "100%|██████████| 10/10 [00:10<00:00,  1.09s/it]\n",
      "100%|██████████| 24/24 [00:04<00:00,  5.72it/s]\n"
     ]
    },
    {
     "name": "stdout",
     "output_type": "stream",
     "text": [
      "2025-03-31 13:33:45 Epoch [26/100], Train Loss: 0.5571, Valid Loss: 0.6224, Precision: 0.7248, Recall: 0.6065, F1: 0.6604\n"
     ]
    },
    {
     "name": "stderr",
     "output_type": "stream",
     "text": [
      "100%|██████████| 10/10 [00:11<00:00,  1.16s/it]\n",
      "100%|██████████| 24/24 [00:04<00:00,  5.82it/s]\n"
     ]
    },
    {
     "name": "stdout",
     "output_type": "stream",
     "text": [
      "2025-03-31 13:34:01 Epoch [27/100], Train Loss: 0.5529, Valid Loss: 0.6149, Precision: 0.7369, Recall: 0.6053, F1: 0.6646\n",
      "Save model!\n"
     ]
    },
    {
     "name": "stderr",
     "output_type": "stream",
     "text": [
      "100%|██████████| 10/10 [00:11<00:00,  1.17s/it]\n",
      "100%|██████████| 24/24 [00:04<00:00,  5.63it/s]\n"
     ]
    },
    {
     "name": "stdout",
     "output_type": "stream",
     "text": [
      "2025-03-31 13:34:18 Epoch [28/100], Train Loss: 0.5468, Valid Loss: 0.6112, Precision: 0.7438, Recall: 0.6139, F1: 0.6726\n",
      "Save model!\n"
     ]
    },
    {
     "name": "stderr",
     "output_type": "stream",
     "text": [
      "100%|██████████| 10/10 [00:11<00:00,  1.14s/it]\n",
      "100%|██████████| 24/24 [00:04<00:00,  5.68it/s]\n"
     ]
    },
    {
     "name": "stdout",
     "output_type": "stream",
     "text": [
      "2025-03-31 13:34:34 Epoch [29/100], Train Loss: 0.5451, Valid Loss: 0.6108, Precision: 0.7503, Recall: 0.6058, F1: 0.6704\n",
      "Save model!\n"
     ]
    },
    {
     "name": "stderr",
     "output_type": "stream",
     "text": [
      "100%|██████████| 10/10 [00:11<00:00,  1.17s/it]\n",
      "100%|██████████| 24/24 [00:04<00:00,  5.32it/s]\n"
     ]
    },
    {
     "name": "stdout",
     "output_type": "stream",
     "text": [
      "2025-03-31 13:34:51 Epoch [30/100], Train Loss: 0.5473, Valid Loss: 0.6102, Precision: 0.7523, Recall: 0.5974, F1: 0.6660\n",
      "Save model!\n"
     ]
    },
    {
     "name": "stderr",
     "output_type": "stream",
     "text": [
      "100%|██████████| 10/10 [00:11<00:00,  1.12s/it]\n",
      "100%|██████████| 24/24 [00:04<00:00,  5.85it/s]\n"
     ]
    },
    {
     "name": "stdout",
     "output_type": "stream",
     "text": [
      "2025-03-31 13:35:07 Epoch [31/100], Train Loss: 0.5444, Valid Loss: 0.6070, Precision: 0.7451, Recall: 0.6092, F1: 0.6703\n",
      "Save model!\n"
     ]
    },
    {
     "name": "stderr",
     "output_type": "stream",
     "text": [
      "100%|██████████| 10/10 [00:11<00:00,  1.15s/it]\n",
      "100%|██████████| 24/24 [00:04<00:00,  5.76it/s]\n"
     ]
    },
    {
     "name": "stdout",
     "output_type": "stream",
     "text": [
      "2025-03-31 13:35:24 Epoch [32/100], Train Loss: 0.5374, Valid Loss: 0.6141, Precision: 0.7420, Recall: 0.6089, F1: 0.6689\n"
     ]
    },
    {
     "name": "stderr",
     "output_type": "stream",
     "text": [
      "100%|██████████| 10/10 [00:11<00:00,  1.16s/it]\n",
      "100%|██████████| 24/24 [00:04<00:00,  5.34it/s]\n"
     ]
    },
    {
     "name": "stdout",
     "output_type": "stream",
     "text": [
      "2025-03-31 13:35:40 Epoch [33/100], Train Loss: 0.5326, Valid Loss: 0.6124, Precision: 0.7485, Recall: 0.6091, F1: 0.6716\n"
     ]
    },
    {
     "name": "stderr",
     "output_type": "stream",
     "text": [
      "100%|██████████| 10/10 [00:11<00:00,  1.11s/it]\n",
      "100%|██████████| 24/24 [00:04<00:00,  5.79it/s]\n"
     ]
    },
    {
     "name": "stdout",
     "output_type": "stream",
     "text": [
      "2025-03-31 13:35:56 Epoch [34/100], Train Loss: 0.5338, Valid Loss: 0.6119, Precision: 0.7555, Recall: 0.5957, F1: 0.6662\n"
     ]
    },
    {
     "name": "stderr",
     "output_type": "stream",
     "text": [
      "100%|██████████| 10/10 [00:10<00:00,  1.10s/it]\n",
      "100%|██████████| 24/24 [00:04<00:00,  5.85it/s]\n"
     ]
    },
    {
     "name": "stdout",
     "output_type": "stream",
     "text": [
      "2025-03-31 13:36:11 Epoch [35/100], Train Loss: 0.5286, Valid Loss: 0.6124, Precision: 0.7463, Recall: 0.6124, F1: 0.6727\n"
     ]
    },
    {
     "name": "stderr",
     "output_type": "stream",
     "text": [
      "100%|██████████| 10/10 [00:11<00:00,  1.16s/it]\n",
      "100%|██████████| 24/24 [00:04<00:00,  5.34it/s]\n"
     ]
    },
    {
     "name": "stdout",
     "output_type": "stream",
     "text": [
      "2025-03-31 13:36:28 Epoch [36/100], Train Loss: 0.5226, Valid Loss: 0.6177, Precision: 0.7556, Recall: 0.5904, F1: 0.6629\n"
     ]
    },
    {
     "name": "stderr",
     "output_type": "stream",
     "text": [
      "100%|██████████| 10/10 [00:11<00:00,  1.11s/it]\n",
      "100%|██████████| 24/24 [00:04<00:00,  5.81it/s]\n"
     ]
    },
    {
     "name": "stdout",
     "output_type": "stream",
     "text": [
      "2025-03-31 13:36:43 Epoch [37/100], Train Loss: 0.5208, Valid Loss: 0.6163, Precision: 0.7505, Recall: 0.6129, F1: 0.6748\n"
     ]
    },
    {
     "name": "stderr",
     "output_type": "stream",
     "text": [
      "100%|██████████| 10/10 [00:11<00:00,  1.15s/it]\n",
      "100%|██████████| 24/24 [00:04<00:00,  5.74it/s]\n"
     ]
    },
    {
     "name": "stdout",
     "output_type": "stream",
     "text": [
      "2025-03-31 13:36:59 Epoch [38/100], Train Loss: 0.5198, Valid Loss: 0.6073, Precision: 0.7495, Recall: 0.6203, F1: 0.6788\n"
     ]
    },
    {
     "name": "stderr",
     "output_type": "stream",
     "text": [
      "100%|██████████| 10/10 [00:11<00:00,  1.11s/it]\n",
      "100%|██████████| 24/24 [00:04<00:00,  5.53it/s]\n"
     ]
    },
    {
     "name": "stdout",
     "output_type": "stream",
     "text": [
      "2025-03-31 13:37:15 Epoch [39/100], Train Loss: 0.5147, Valid Loss: 0.6122, Precision: 0.7517, Recall: 0.6118, F1: 0.6746\n"
     ]
    },
    {
     "name": "stderr",
     "output_type": "stream",
     "text": [
      "100%|██████████| 10/10 [00:11<00:00,  1.17s/it]\n",
      "100%|██████████| 24/24 [00:04<00:00,  5.78it/s]\n"
     ]
    },
    {
     "name": "stdout",
     "output_type": "stream",
     "text": [
      "2025-03-31 13:37:31 Epoch [40/100], Train Loss: 0.5147, Valid Loss: 0.6234, Precision: 0.7604, Recall: 0.5863, F1: 0.6621\n"
     ]
    },
    {
     "name": "stderr",
     "output_type": "stream",
     "text": [
      "100%|██████████| 10/10 [00:11<00:00,  1.14s/it]\n",
      "100%|██████████| 24/24 [00:04<00:00,  5.39it/s]\n"
     ]
    },
    {
     "name": "stdout",
     "output_type": "stream",
     "text": [
      "2025-03-31 13:37:48 Epoch [41/100], Train Loss: 0.5164, Valid Loss: 0.6109, Precision: 0.7553, Recall: 0.6149, F1: 0.6779\n"
     ]
    },
    {
     "name": "stderr",
     "output_type": "stream",
     "text": [
      "100%|██████████| 10/10 [00:10<00:00,  1.09s/it]\n",
      "100%|██████████| 24/24 [00:04<00:00,  5.64it/s]\n"
     ]
    },
    {
     "name": "stdout",
     "output_type": "stream",
     "text": [
      "2025-03-31 13:38:03 Epoch [42/100], Train Loss: 0.5083, Valid Loss: 0.6220, Precision: 0.7625, Recall: 0.5959, F1: 0.6690\n"
     ]
    },
    {
     "name": "stderr",
     "output_type": "stream",
     "text": [
      "100%|██████████| 10/10 [00:11<00:00,  1.17s/it]\n",
      "100%|██████████| 24/24 [00:04<00:00,  5.80it/s]\n"
     ]
    },
    {
     "name": "stdout",
     "output_type": "stream",
     "text": [
      "2025-03-31 13:38:19 Epoch [43/100], Train Loss: 0.5087, Valid Loss: 0.6227, Precision: 0.7522, Recall: 0.6313, F1: 0.6864\n"
     ]
    },
    {
     "name": "stderr",
     "output_type": "stream",
     "text": [
      "100%|██████████| 10/10 [00:11<00:00,  1.13s/it]\n",
      "100%|██████████| 24/24 [00:04<00:00,  5.48it/s]\n"
     ]
    },
    {
     "name": "stdout",
     "output_type": "stream",
     "text": [
      "2025-03-31 13:38:35 Epoch [44/100], Train Loss: 0.4991, Valid Loss: 0.6135, Precision: 0.7561, Recall: 0.6087, F1: 0.6744\n"
     ]
    },
    {
     "name": "stderr",
     "output_type": "stream",
     "text": [
      "100%|██████████| 10/10 [00:11<00:00,  1.11s/it]\n",
      "100%|██████████| 24/24 [00:04<00:00,  5.76it/s]\n"
     ]
    },
    {
     "name": "stdout",
     "output_type": "stream",
     "text": [
      "2025-03-31 13:38:51 Epoch [45/100], Train Loss: 0.5078, Valid Loss: 0.6141, Precision: 0.7625, Recall: 0.5948, F1: 0.6683\n"
     ]
    },
    {
     "name": "stderr",
     "output_type": "stream",
     "text": [
      "100%|██████████| 10/10 [00:10<00:00,  1.09s/it]\n",
      "100%|██████████| 24/24 [00:04<00:00,  5.73it/s]\n"
     ]
    },
    {
     "name": "stdout",
     "output_type": "stream",
     "text": [
      "2025-03-31 13:39:06 Epoch [46/100], Train Loss: 0.5029, Valid Loss: 0.6140, Precision: 0.7642, Recall: 0.5924, F1: 0.6674\n"
     ]
    },
    {
     "name": "stderr",
     "output_type": "stream",
     "text": [
      "100%|██████████| 10/10 [00:11<00:00,  1.16s/it]\n",
      "100%|██████████| 24/24 [00:04<00:00,  5.49it/s]\n"
     ]
    },
    {
     "name": "stdout",
     "output_type": "stream",
     "text": [
      "2025-03-31 13:39:23 Epoch [47/100], Train Loss: 0.4979, Valid Loss: 0.6186, Precision: 0.7623, Recall: 0.6108, F1: 0.6782\n"
     ]
    },
    {
     "name": "stderr",
     "output_type": "stream",
     "text": [
      "100%|██████████| 10/10 [00:11<00:00,  1.12s/it]\n",
      "100%|██████████| 24/24 [00:04<00:00,  5.76it/s]\n"
     ]
    },
    {
     "name": "stdout",
     "output_type": "stream",
     "text": [
      "2025-03-31 13:39:38 Epoch [48/100], Train Loss: 0.4928, Valid Loss: 0.6120, Precision: 0.7542, Recall: 0.6265, F1: 0.6844\n"
     ]
    },
    {
     "name": "stderr",
     "output_type": "stream",
     "text": [
      "100%|██████████| 10/10 [00:11<00:00,  1.12s/it]\n",
      "100%|██████████| 24/24 [00:04<00:00,  5.73it/s]\n"
     ]
    },
    {
     "name": "stdout",
     "output_type": "stream",
     "text": [
      "2025-03-31 13:39:54 Epoch [49/100], Train Loss: 0.4931, Valid Loss: 0.6189, Precision: 0.7777, Recall: 0.5959, F1: 0.6748\n"
     ]
    },
    {
     "name": "stderr",
     "output_type": "stream",
     "text": [
      "100%|██████████| 10/10 [00:11<00:00,  1.15s/it]\n",
      "100%|██████████| 24/24 [00:04<00:00,  5.72it/s]\n"
     ]
    },
    {
     "name": "stdout",
     "output_type": "stream",
     "text": [
      "2025-03-31 13:40:10 Epoch [50/100], Train Loss: 0.4925, Valid Loss: 0.6133, Precision: 0.7581, Recall: 0.6134, F1: 0.6781\n"
     ]
    },
    {
     "name": "stderr",
     "output_type": "stream",
     "text": [
      "100%|██████████| 10/10 [00:10<00:00,  1.08s/it]\n",
      "100%|██████████| 24/24 [00:04<00:00,  5.83it/s]\n"
     ]
    },
    {
     "name": "stdout",
     "output_type": "stream",
     "text": [
      "2025-03-31 13:40:26 Epoch [51/100], Train Loss: 0.4871, Valid Loss: 0.6167, Precision: 0.7621, Recall: 0.6133, F1: 0.6796\n"
     ]
    },
    {
     "name": "stderr",
     "output_type": "stream",
     "text": [
      "100%|██████████| 10/10 [00:11<00:00,  1.17s/it]\n",
      "100%|██████████| 24/24 [00:04<00:00,  5.44it/s]\n"
     ]
    },
    {
     "name": "stdout",
     "output_type": "stream",
     "text": [
      "2025-03-31 13:40:42 Epoch [52/100], Train Loss: 0.4866, Valid Loss: 0.6285, Precision: 0.7750, Recall: 0.5774, F1: 0.6618\n"
     ]
    },
    {
     "name": "stderr",
     "output_type": "stream",
     "text": [
      "100%|██████████| 10/10 [00:11<00:00,  1.15s/it]\n",
      "100%|██████████| 24/24 [00:04<00:00,  5.62it/s]\n"
     ]
    },
    {
     "name": "stdout",
     "output_type": "stream",
     "text": [
      "2025-03-31 13:40:58 Epoch [53/100], Train Loss: 0.4866, Valid Loss: 0.6087, Precision: 0.7596, Recall: 0.6206, F1: 0.6831\n"
     ]
    },
    {
     "name": "stderr",
     "output_type": "stream",
     "text": [
      "100%|██████████| 10/10 [00:10<00:00,  1.09s/it]\n",
      "100%|██████████| 24/24 [00:04<00:00,  5.58it/s]\n"
     ]
    },
    {
     "name": "stdout",
     "output_type": "stream",
     "text": [
      "2025-03-31 13:41:14 Epoch [54/100], Train Loss: 0.4839, Valid Loss: 0.6132, Precision: 0.7677, Recall: 0.6112, F1: 0.6806\n"
     ]
    },
    {
     "name": "stderr",
     "output_type": "stream",
     "text": [
      "100%|██████████| 10/10 [00:11<00:00,  1.14s/it]\n",
      "100%|██████████| 24/24 [00:04<00:00,  5.37it/s]\n"
     ]
    },
    {
     "name": "stdout",
     "output_type": "stream",
     "text": [
      "2025-03-31 13:41:30 Epoch [55/100], Train Loss: 0.4838, Valid Loss: 0.6155, Precision: 0.7702, Recall: 0.6089, F1: 0.6801\n"
     ]
    },
    {
     "name": "stderr",
     "output_type": "stream",
     "text": [
      "100%|██████████| 10/10 [00:11<00:00,  1.16s/it]\n",
      "100%|██████████| 24/24 [00:04<00:00,  5.78it/s]\n"
     ]
    },
    {
     "name": "stdout",
     "output_type": "stream",
     "text": [
      "2025-03-31 13:41:46 Epoch [56/100], Train Loss: 0.4777, Valid Loss: 0.6136, Precision: 0.7693, Recall: 0.6075, F1: 0.6789\n"
     ]
    },
    {
     "name": "stderr",
     "output_type": "stream",
     "text": [
      "100%|██████████| 10/10 [00:11<00:00,  1.14s/it]\n",
      "100%|██████████| 24/24 [00:04<00:00,  5.60it/s]\n"
     ]
    },
    {
     "name": "stdout",
     "output_type": "stream",
     "text": [
      "2025-03-31 13:42:02 Epoch [57/100], Train Loss: 0.4790, Valid Loss: 0.6109, Precision: 0.7735, Recall: 0.6054, F1: 0.6792\n"
     ]
    },
    {
     "name": "stderr",
     "output_type": "stream",
     "text": [
      "100%|██████████| 10/10 [00:12<00:00,  1.24s/it]\n",
      "100%|██████████| 24/24 [00:04<00:00,  5.26it/s]\n"
     ]
    },
    {
     "name": "stdout",
     "output_type": "stream",
     "text": [
      "2025-03-31 13:42:19 Epoch [58/100], Train Loss: 0.4752, Valid Loss: 0.6255, Precision: 0.7755, Recall: 0.6039, F1: 0.6791\n"
     ]
    },
    {
     "name": "stderr",
     "output_type": "stream",
     "text": [
      "100%|██████████| 10/10 [00:11<00:00,  1.11s/it]\n",
      "100%|██████████| 24/24 [00:04<00:00,  5.81it/s]\n"
     ]
    },
    {
     "name": "stdout",
     "output_type": "stream",
     "text": [
      "2025-03-31 13:42:35 Epoch [59/100], Train Loss: 0.4752, Valid Loss: 0.6179, Precision: 0.7766, Recall: 0.6007, F1: 0.6775\n"
     ]
    },
    {
     "name": "stderr",
     "output_type": "stream",
     "text": [
      "100%|██████████| 10/10 [00:11<00:00,  1.12s/it]\n",
      "100%|██████████| 24/24 [00:04<00:00,  5.70it/s]\n"
     ]
    },
    {
     "name": "stdout",
     "output_type": "stream",
     "text": [
      "2025-03-31 13:42:51 Epoch [60/100], Train Loss: 0.4726, Valid Loss: 0.6143, Precision: 0.7787, Recall: 0.5920, F1: 0.6727\n"
     ]
    },
    {
     "name": "stderr",
     "output_type": "stream",
     "text": [
      "100%|██████████| 10/10 [00:12<00:00,  1.21s/it]\n",
      "100%|██████████| 24/24 [00:04<00:00,  5.80it/s]\n"
     ]
    },
    {
     "name": "stdout",
     "output_type": "stream",
     "text": [
      "2025-03-31 13:43:07 Epoch [61/100], Train Loss: 0.4720, Valid Loss: 0.6228, Precision: 0.7794, Recall: 0.5927, F1: 0.6733\n"
     ]
    },
    {
     "name": "stderr",
     "output_type": "stream",
     "text": [
      "100%|██████████| 10/10 [00:11<00:00,  1.11s/it]\n",
      "100%|██████████| 24/24 [00:04<00:00,  5.68it/s]"
     ]
    },
    {
     "name": "stdout",
     "output_type": "stream",
     "text": [
      "2025-03-31 13:43:23 Epoch [62/100], Train Loss: 0.4658, Valid Loss: 0.6164, Precision: 0.7802, Recall: 0.6007, F1: 0.6788\n"
     ]
    },
    {
     "name": "stderr",
     "output_type": "stream",
     "text": [
      "\n",
      "100%|██████████| 10/10 [00:11<00:00,  1.13s/it]\n",
      "100%|██████████| 24/24 [00:04<00:00,  5.69it/s]\n"
     ]
    },
    {
     "name": "stdout",
     "output_type": "stream",
     "text": [
      "2025-03-31 13:43:39 Epoch [63/100], Train Loss: 0.4700, Valid Loss: 0.6022, Precision: 0.7770, Recall: 0.6113, F1: 0.6843\n",
      "Save model!\n"
     ]
    },
    {
     "name": "stderr",
     "output_type": "stream",
     "text": [
      "100%|██████████| 10/10 [00:12<00:00,  1.25s/it]\n",
      "100%|██████████| 24/24 [00:04<00:00,  5.67it/s]\n"
     ]
    },
    {
     "name": "stdout",
     "output_type": "stream",
     "text": [
      "2025-03-31 13:43:56 Epoch [64/100], Train Loss: 0.4662, Valid Loss: 0.6130, Precision: 0.7829, Recall: 0.5862, F1: 0.6704\n"
     ]
    },
    {
     "name": "stderr",
     "output_type": "stream",
     "text": [
      "100%|██████████| 10/10 [00:11<00:00,  1.12s/it]\n",
      "100%|██████████| 24/24 [00:04<00:00,  5.85it/s]\n"
     ]
    },
    {
     "name": "stdout",
     "output_type": "stream",
     "text": [
      "2025-03-31 13:44:12 Epoch [65/100], Train Loss: 0.4676, Valid Loss: 0.6044, Precision: 0.7789, Recall: 0.6033, F1: 0.6800\n"
     ]
    },
    {
     "name": "stderr",
     "output_type": "stream",
     "text": [
      "100%|██████████| 10/10 [00:11<00:00,  1.13s/it]\n",
      "100%|██████████| 24/24 [00:04<00:00,  5.42it/s]\n"
     ]
    },
    {
     "name": "stdout",
     "output_type": "stream",
     "text": [
      "2025-03-31 13:44:28 Epoch [66/100], Train Loss: 0.4630, Valid Loss: 0.6068, Precision: 0.7853, Recall: 0.5941, F1: 0.6764\n"
     ]
    },
    {
     "name": "stderr",
     "output_type": "stream",
     "text": [
      "100%|██████████| 10/10 [00:11<00:00,  1.18s/it]\n",
      "100%|██████████| 24/24 [00:04<00:00,  5.80it/s]\n"
     ]
    },
    {
     "name": "stdout",
     "output_type": "stream",
     "text": [
      "2025-03-31 13:44:44 Epoch [67/100], Train Loss: 0.4620, Valid Loss: 0.6092, Precision: 0.7876, Recall: 0.5930, F1: 0.6766\n"
     ]
    },
    {
     "name": "stderr",
     "output_type": "stream",
     "text": [
      "100%|██████████| 10/10 [00:10<00:00,  1.10s/it]\n",
      "100%|██████████| 24/24 [00:04<00:00,  5.72it/s]\n"
     ]
    },
    {
     "name": "stdout",
     "output_type": "stream",
     "text": [
      "2025-03-31 13:45:00 Epoch [68/100], Train Loss: 0.4547, Valid Loss: 0.5903, Precision: 0.7796, Recall: 0.6083, F1: 0.6834\n",
      "Save model!\n"
     ]
    },
    {
     "name": "stderr",
     "output_type": "stream",
     "text": [
      "100%|██████████| 10/10 [00:10<00:00,  1.09s/it]\n",
      "100%|██████████| 24/24 [00:04<00:00,  5.48it/s]\n"
     ]
    },
    {
     "name": "stdout",
     "output_type": "stream",
     "text": [
      "2025-03-31 13:45:16 Epoch [69/100], Train Loss: 0.4640, Valid Loss: 0.6044, Precision: 0.7869, Recall: 0.5957, F1: 0.6781\n"
     ]
    },
    {
     "name": "stderr",
     "output_type": "stream",
     "text": [
      "100%|██████████| 10/10 [00:11<00:00,  1.20s/it]\n",
      "100%|██████████| 24/24 [00:04<00:00,  5.70it/s]\n"
     ]
    },
    {
     "name": "stdout",
     "output_type": "stream",
     "text": [
      "2025-03-31 13:45:32 Epoch [70/100], Train Loss: 0.4558, Valid Loss: 0.6045, Precision: 0.7822, Recall: 0.6004, F1: 0.6794\n"
     ]
    },
    {
     "name": "stderr",
     "output_type": "stream",
     "text": [
      "100%|██████████| 10/10 [00:11<00:00,  1.11s/it]\n",
      "100%|██████████| 24/24 [00:04<00:00,  5.65it/s]\n"
     ]
    },
    {
     "name": "stdout",
     "output_type": "stream",
     "text": [
      "2025-03-31 13:45:48 Epoch [71/100], Train Loss: 0.4573, Valid Loss: 0.5894, Precision: 0.7775, Recall: 0.6127, F1: 0.6853\n",
      "Save model!\n"
     ]
    },
    {
     "name": "stderr",
     "output_type": "stream",
     "text": [
      "100%|██████████| 10/10 [00:11<00:00,  1.14s/it]\n",
      "100%|██████████| 24/24 [00:04<00:00,  5.36it/s]\n"
     ]
    },
    {
     "name": "stdout",
     "output_type": "stream",
     "text": [
      "2025-03-31 13:46:05 Epoch [72/100], Train Loss: 0.4546, Valid Loss: 0.5808, Precision: 0.7787, Recall: 0.6215, F1: 0.6912\n",
      "Save model!\n"
     ]
    },
    {
     "name": "stderr",
     "output_type": "stream",
     "text": [
      "100%|██████████| 10/10 [00:11<00:00,  1.13s/it]\n",
      "100%|██████████| 24/24 [00:04<00:00,  5.72it/s]\n"
     ]
    },
    {
     "name": "stdout",
     "output_type": "stream",
     "text": [
      "2025-03-31 13:46:21 Epoch [73/100], Train Loss: 0.4536, Valid Loss: 0.5771, Precision: 0.7781, Recall: 0.6241, F1: 0.6926\n",
      "Save model!\n"
     ]
    },
    {
     "name": "stderr",
     "output_type": "stream",
     "text": [
      "100%|██████████| 10/10 [00:11<00:00,  1.13s/it]\n",
      "100%|██████████| 24/24 [00:04<00:00,  5.79it/s]\n"
     ]
    },
    {
     "name": "stdout",
     "output_type": "stream",
     "text": [
      "2025-03-31 13:46:38 Epoch [74/100], Train Loss: 0.4548, Valid Loss: 0.5742, Precision: 0.7761, Recall: 0.6277, F1: 0.6940\n",
      "Save model!\n"
     ]
    },
    {
     "name": "stderr",
     "output_type": "stream",
     "text": [
      "100%|██████████| 10/10 [00:11<00:00,  1.18s/it]\n",
      "100%|██████████| 24/24 [00:04<00:00,  5.37it/s]\n"
     ]
    },
    {
     "name": "stdout",
     "output_type": "stream",
     "text": [
      "2025-03-31 13:46:55 Epoch [75/100], Train Loss: 0.4589, Valid Loss: 0.5772, Precision: 0.7756, Recall: 0.6287, F1: 0.6945\n"
     ]
    },
    {
     "name": "stderr",
     "output_type": "stream",
     "text": [
      "100%|██████████| 10/10 [00:11<00:00,  1.12s/it]\n",
      "100%|██████████| 24/24 [00:04<00:00,  5.72it/s]\n"
     ]
    },
    {
     "name": "stdout",
     "output_type": "stream",
     "text": [
      "2025-03-31 13:47:10 Epoch [76/100], Train Loss: 0.4530, Valid Loss: 0.5786, Precision: 0.7835, Recall: 0.6170, F1: 0.6903\n"
     ]
    },
    {
     "name": "stderr",
     "output_type": "stream",
     "text": [
      "100%|██████████| 10/10 [00:11<00:00,  1.14s/it]\n",
      "100%|██████████| 24/24 [00:04<00:00,  5.76it/s]\n"
     ]
    },
    {
     "name": "stdout",
     "output_type": "stream",
     "text": [
      "2025-03-31 13:47:26 Epoch [77/100], Train Loss: 0.4544, Valid Loss: 0.5777, Precision: 0.7772, Recall: 0.6185, F1: 0.6888\n"
     ]
    },
    {
     "name": "stderr",
     "output_type": "stream",
     "text": [
      "100%|██████████| 10/10 [00:11<00:00,  1.12s/it]\n",
      "100%|██████████| 24/24 [00:04<00:00,  5.50it/s]\n"
     ]
    },
    {
     "name": "stdout",
     "output_type": "stream",
     "text": [
      "2025-03-31 13:47:42 Epoch [78/100], Train Loss: 0.4525, Valid Loss: 0.5747, Precision: 0.7788, Recall: 0.6246, F1: 0.6932\n"
     ]
    },
    {
     "name": "stderr",
     "output_type": "stream",
     "text": [
      "100%|██████████| 10/10 [00:11<00:00,  1.11s/it]\n",
      "100%|██████████| 24/24 [00:04<00:00,  5.76it/s]\n"
     ]
    },
    {
     "name": "stdout",
     "output_type": "stream",
     "text": [
      "2025-03-31 13:47:58 Epoch [79/100], Train Loss: 0.4516, Valid Loss: 0.5716, Precision: 0.7804, Recall: 0.6240, F1: 0.6935\n",
      "Save model!\n"
     ]
    },
    {
     "name": "stderr",
     "output_type": "stream",
     "text": [
      "100%|██████████| 10/10 [00:11<00:00,  1.11s/it]\n",
      "100%|██████████| 24/24 [00:04<00:00,  5.62it/s]\n"
     ]
    },
    {
     "name": "stdout",
     "output_type": "stream",
     "text": [
      "2025-03-31 13:48:14 Epoch [80/100], Train Loss: 0.4563, Valid Loss: 0.5696, Precision: 0.7833, Recall: 0.6268, F1: 0.6964\n",
      "Save model!\n"
     ]
    },
    {
     "name": "stderr",
     "output_type": "stream",
     "text": [
      "100%|██████████| 10/10 [00:11<00:00,  1.18s/it]\n",
      "100%|██████████| 24/24 [00:04<00:00,  5.43it/s]\n"
     ]
    },
    {
     "name": "stdout",
     "output_type": "stream",
     "text": [
      "2025-03-31 13:48:31 Epoch [81/100], Train Loss: 0.4507, Valid Loss: 0.5692, Precision: 0.7817, Recall: 0.6250, F1: 0.6946\n",
      "Save model!\n"
     ]
    },
    {
     "name": "stderr",
     "output_type": "stream",
     "text": [
      "100%|██████████| 10/10 [00:11<00:00,  1.14s/it]\n",
      "100%|██████████| 24/24 [00:04<00:00,  5.72it/s]\n"
     ]
    },
    {
     "name": "stdout",
     "output_type": "stream",
     "text": [
      "2025-03-31 13:48:48 Epoch [82/100], Train Loss: 0.4576, Valid Loss: 0.5721, Precision: 0.7809, Recall: 0.6205, F1: 0.6915\n"
     ]
    },
    {
     "name": "stderr",
     "output_type": "stream",
     "text": [
      "100%|██████████| 10/10 [00:11<00:00,  1.13s/it]\n",
      "100%|██████████| 24/24 [00:04<00:00,  5.75it/s]\n"
     ]
    },
    {
     "name": "stdout",
     "output_type": "stream",
     "text": [
      "2025-03-31 13:49:03 Epoch [83/100], Train Loss: 0.4554, Valid Loss: 0.5688, Precision: 0.7811, Recall: 0.6222, F1: 0.6927\n",
      "Save model!\n"
     ]
    },
    {
     "name": "stderr",
     "output_type": "stream",
     "text": [
      "100%|██████████| 10/10 [00:11<00:00,  1.10s/it]\n",
      "100%|██████████| 24/24 [00:04<00:00,  5.46it/s]\n"
     ]
    },
    {
     "name": "stdout",
     "output_type": "stream",
     "text": [
      "2025-03-31 13:49:20 Epoch [84/100], Train Loss: 0.4568, Valid Loss: 0.5687, Precision: 0.7831, Recall: 0.6257, F1: 0.6956\n",
      "Save model!\n"
     ]
    },
    {
     "name": "stderr",
     "output_type": "stream",
     "text": [
      "100%|██████████| 10/10 [00:11<00:00,  1.15s/it]\n",
      "100%|██████████| 24/24 [00:04<00:00,  5.71it/s]\n"
     ]
    },
    {
     "name": "stdout",
     "output_type": "stream",
     "text": [
      "2025-03-31 13:49:36 Epoch [85/100], Train Loss: 0.4580, Valid Loss: 0.5713, Precision: 0.7841, Recall: 0.6236, F1: 0.6947\n"
     ]
    },
    {
     "name": "stderr",
     "output_type": "stream",
     "text": [
      "100%|██████████| 10/10 [00:11<00:00,  1.14s/it]\n",
      "100%|██████████| 24/24 [00:04<00:00,  5.32it/s]\n"
     ]
    },
    {
     "name": "stdout",
     "output_type": "stream",
     "text": [
      "2025-03-31 13:49:52 Epoch [86/100], Train Loss: 0.4559, Valid Loss: 0.5668, Precision: 0.7840, Recall: 0.6243, F1: 0.6951\n",
      "Save model!\n"
     ]
    },
    {
     "name": "stderr",
     "output_type": "stream",
     "text": [
      "100%|██████████| 10/10 [00:11<00:00,  1.13s/it]\n",
      "100%|██████████| 24/24 [00:04<00:00,  5.66it/s]\n"
     ]
    },
    {
     "name": "stdout",
     "output_type": "stream",
     "text": [
      "2025-03-31 13:50:09 Epoch [87/100], Train Loss: 0.4538, Valid Loss: 0.5644, Precision: 0.7844, Recall: 0.6258, F1: 0.6962\n",
      "Save model!\n"
     ]
    },
    {
     "name": "stderr",
     "output_type": "stream",
     "text": [
      "100%|██████████| 10/10 [00:11<00:00,  1.13s/it]\n",
      "100%|██████████| 24/24 [00:04<00:00,  5.75it/s]\n"
     ]
    },
    {
     "name": "stdout",
     "output_type": "stream",
     "text": [
      "2025-03-31 13:50:25 Epoch [88/100], Train Loss: 0.4578, Valid Loss: 0.5624, Precision: 0.7842, Recall: 0.6253, F1: 0.6958\n",
      "Save model!\n"
     ]
    },
    {
     "name": "stderr",
     "output_type": "stream",
     "text": [
      "100%|██████████| 10/10 [00:11<00:00,  1.15s/it]\n",
      "100%|██████████| 24/24 [00:04<00:00,  5.21it/s]\n"
     ]
    },
    {
     "name": "stdout",
     "output_type": "stream",
     "text": [
      "2025-03-31 13:50:42 Epoch [89/100], Train Loss: 0.4614, Valid Loss: 0.5614, Precision: 0.7835, Recall: 0.6269, F1: 0.6965\n",
      "Save model!\n"
     ]
    },
    {
     "name": "stderr",
     "output_type": "stream",
     "text": [
      "100%|██████████| 10/10 [00:10<00:00,  1.08s/it]\n",
      "100%|██████████| 24/24 [00:04<00:00,  5.81it/s]\n"
     ]
    },
    {
     "name": "stdout",
     "output_type": "stream",
     "text": [
      "2025-03-31 13:50:58 Epoch [90/100], Train Loss: 0.4626, Valid Loss: 0.5622, Precision: 0.7841, Recall: 0.6267, F1: 0.6966\n"
     ]
    },
    {
     "name": "stderr",
     "output_type": "stream",
     "text": [
      "100%|██████████| 10/10 [00:11<00:00,  1.16s/it]\n",
      "100%|██████████| 24/24 [00:04<00:00,  5.76it/s]\n"
     ]
    },
    {
     "name": "stdout",
     "output_type": "stream",
     "text": [
      "2025-03-31 13:51:14 Epoch [91/100], Train Loss: 0.4634, Valid Loss: 0.5595, Precision: 0.7859, Recall: 0.6259, F1: 0.6969\n",
      "Save model!\n"
     ]
    },
    {
     "name": "stderr",
     "output_type": "stream",
     "text": [
      "100%|██████████| 10/10 [00:11<00:00,  1.15s/it]\n",
      "100%|██████████| 24/24 [00:04<00:00,  5.29it/s]\n"
     ]
    },
    {
     "name": "stdout",
     "output_type": "stream",
     "text": [
      "2025-03-31 13:51:31 Epoch [92/100], Train Loss: 0.4635, Valid Loss: 0.5570, Precision: 0.7860, Recall: 0.6279, F1: 0.6981\n",
      "Save model!\n"
     ]
    },
    {
     "name": "stderr",
     "output_type": "stream",
     "text": [
      "100%|██████████| 10/10 [00:11<00:00,  1.12s/it]\n",
      "100%|██████████| 24/24 [00:04<00:00,  5.68it/s]\n"
     ]
    },
    {
     "name": "stdout",
     "output_type": "stream",
     "text": [
      "2025-03-31 13:51:47 Epoch [93/100], Train Loss: 0.4621, Valid Loss: 0.5579, Precision: 0.7871, Recall: 0.6248, F1: 0.6966\n"
     ]
    },
    {
     "name": "stderr",
     "output_type": "stream",
     "text": [
      "100%|██████████| 10/10 [00:11<00:00,  1.11s/it]\n",
      "100%|██████████| 24/24 [00:04<00:00,  5.85it/s]\n"
     ]
    },
    {
     "name": "stdout",
     "output_type": "stream",
     "text": [
      "2025-03-31 13:52:03 Epoch [94/100], Train Loss: 0.4634, Valid Loss: 0.5581, Precision: 0.7856, Recall: 0.6263, F1: 0.6970\n"
     ]
    },
    {
     "name": "stderr",
     "output_type": "stream",
     "text": [
      "100%|██████████| 10/10 [00:12<00:00,  1.23s/it]\n",
      "100%|██████████| 24/24 [00:04<00:00,  5.81it/s]\n"
     ]
    },
    {
     "name": "stdout",
     "output_type": "stream",
     "text": [
      "2025-03-31 13:52:20 Epoch [95/100], Train Loss: 0.4652, Valid Loss: 0.5575, Precision: 0.7847, Recall: 0.6284, F1: 0.6979\n"
     ]
    },
    {
     "name": "stderr",
     "output_type": "stream",
     "text": [
      "100%|██████████| 10/10 [00:11<00:00,  1.12s/it]\n",
      "100%|██████████| 24/24 [00:04<00:00,  5.66it/s]\n"
     ]
    },
    {
     "name": "stdout",
     "output_type": "stream",
     "text": [
      "2025-03-31 13:52:35 Epoch [96/100], Train Loss: 0.4678, Valid Loss: 0.5544, Precision: 0.7865, Recall: 0.6282, F1: 0.6985\n",
      "Save model!\n"
     ]
    },
    {
     "name": "stderr",
     "output_type": "stream",
     "text": [
      "100%|██████████| 10/10 [00:11<00:00,  1.16s/it]\n",
      "100%|██████████| 24/24 [00:04<00:00,  5.20it/s]\n"
     ]
    },
    {
     "name": "stdout",
     "output_type": "stream",
     "text": [
      "2025-03-31 13:52:52 Epoch [97/100], Train Loss: 0.4687, Valid Loss: 0.5547, Precision: 0.7853, Recall: 0.6297, F1: 0.6989\n"
     ]
    },
    {
     "name": "stderr",
     "output_type": "stream",
     "text": [
      "100%|██████████| 10/10 [00:11<00:00,  1.13s/it]\n",
      "100%|██████████| 24/24 [00:04<00:00,  5.77it/s]\n"
     ]
    },
    {
     "name": "stdout",
     "output_type": "stream",
     "text": [
      "2025-03-31 13:53:08 Epoch [98/100], Train Loss: 0.4737, Valid Loss: 0.5548, Precision: 0.7845, Recall: 0.6298, F1: 0.6987\n"
     ]
    },
    {
     "name": "stderr",
     "output_type": "stream",
     "text": [
      "100%|██████████| 10/10 [00:11<00:00,  1.12s/it]\n",
      "100%|██████████| 24/24 [00:04<00:00,  5.65it/s]\n"
     ]
    },
    {
     "name": "stdout",
     "output_type": "stream",
     "text": [
      "2025-03-31 13:53:24 Epoch [99/100], Train Loss: 0.4768, Valid Loss: 0.5557, Precision: 0.7845, Recall: 0.6291, F1: 0.6983\n"
     ]
    },
    {
     "name": "stderr",
     "output_type": "stream",
     "text": [
      "100%|██████████| 10/10 [00:11<00:00,  1.15s/it]\n",
      "100%|██████████| 24/24 [00:04<00:00,  5.31it/s]\n"
     ]
    },
    {
     "name": "stdout",
     "output_type": "stream",
     "text": [
      "2025-03-31 13:53:40 Epoch [100/100], Train Loss: 0.4780, Valid Loss: 0.5541, Precision: 0.7851, Recall: 0.6299, F1: 0.6990\n",
      "Save model!\n"
     ]
    }
   ],
   "source": [
    "os.makedirs(args.output_dir, exist_ok=True)\n",
    "\n",
    "with open(os.path.join(args.output_dir, 'arguments.json'), 'w') as f:\n",
    "    json.dump(vars(args), f)\n",
    "\n",
    "# args.device = torch.device(f'cuda:{args.device}' if torch.cuda.is_available() else 'cpu')\n",
    "\n",
    "P.train()"
   ]
  },
  {
   "cell_type": "code",
   "execution_count": 6,
   "id": "61819d4c-53ea-4080-bbd4-2e11ae02ca02",
   "metadata": {},
   "outputs": [
    {
     "name": "stdout",
     "output_type": "stream",
     "text": [
      "Evaluating...\n"
     ]
    },
    {
     "name": "stderr",
     "output_type": "stream",
     "text": [
      "  0%|          | 0/511 [00:00<?, ?it/s]/home/jaehan/research/passrefinder-p/src/trainer.py:263: UserWarning: Implicit dimension choice for softmax has been deprecated. Change the call to include dim=X as an argument.\n",
      "  score_values = F.softmax(batch_pred.detach().cpu())[:,1].numpy().tolist()\n",
      "100%|██████████| 511/511 [06:47<00:00,  1.25it/s]\n"
     ]
    },
    {
     "name": "stdout",
     "output_type": "stream",
     "text": [
      "Precision: 0.8730, Recall: 0.6396, F1: 0.7383\n",
      "CPU times: user 23min 42s, sys: 4.2 s, total: 23min 46s\n",
      "Wall time: 6min 49s\n"
     ]
    }
   ],
   "source": [
    "%%time\n",
    "P.model = load_model(os.path.join(P.args.output_dir, 'model.pt'), P.model)\n",
    "result = P.evaluate()\n",
    "f1 = result['eval_f1']\n",
    "precision = result['eval_precision']\n",
    "recall = result['eval_recall']\n",
    "print(f'Precision: {precision:.4f}, Recall: {recall:.4f}, F1: {f1:.4f}')\n",
    "\n",
    "with open(os.path.join(args.output_dir, 'eval_results.json'), 'w') as f:\n",
    "    json.dump(result, f)"
   ]
  },
  {
   "cell_type": "code",
   "execution_count": null,
   "id": "efd49381-9a3b-4c71-af87-e8fe78aaef0d",
   "metadata": {},
   "outputs": [],
   "source": []
  }
 ],
 "metadata": {
  "kernelspec": {
   "display_name": "passrefinder",
   "language": "python",
   "name": "passrefinder"
  },
  "language_info": {
   "codemirror_mode": {
    "name": "ipython",
    "version": 3
   },
   "file_extension": ".py",
   "mimetype": "text/x-python",
   "name": "python",
   "nbconvert_exporter": "python",
   "pygments_lexer": "ipython3",
   "version": "3.10.14"
  }
 },
 "nbformat": 4,
 "nbformat_minor": 5
}
