{
 "cells": [
  {
   "cell_type": "code",
   "execution_count": 1,
   "id": "3e94e028-9098-4d66-a008-e895ac8858f2",
   "metadata": {},
   "outputs": [],
   "source": [
    "import json\n",
    "import os\n",
    "os.environ[\"CUDA_DEVICE_ORDER\"]=\"PCI_BUS_ID\"\n",
    "os.environ[\"CUDA_VISIBLE_DEVICES\"]=\"0\"\n",
    "import numpy as np\n",
    "import random\n",
    "import torch\n",
    "from torch.optim import Adam\n",
    "import dgl\n",
    "from datetime import datetime\n",
    "\n",
    "from src import *\n",
    "from pprint import pprint\n",
    "current_time = datetime.now().strftime(\"%Y-%m-%d %H:%M:%S\")\n",
    "\n",
    "data_dir = './data_passrefinder-p'\n",
    "output_dir = f\"{data_dir}/output/base_passrefinder/tmp/{current_time}\""
   ]
  },
  {
   "cell_type": "code",
   "execution_count": null,
   "id": "a3e4eaca-2e0c-40f8-8501-8e1b37d03c13",
   "metadata": {},
   "outputs": [],
   "source": [
    "from argparse import ArgumentParser\n",
    "parser = ArgumentParser()\n",
    "\n",
    "import argparse\n",
    "from pprint import pprint\n",
    "\n",
    "parser = argparse.ArgumentParser(description=\"Parser for model configuration\")\n",
    "\n",
    "parser.add_argument('--feature_file', type=str, default=f\"{data_dir}/data/feature_dict.json\", help='feature json file')\n",
    "parser.add_argument('--reuse_rate_file', type=str, default=f\"{data_dir}/data/reuse_rate_dict.json\", help='reuse rate json file')\n",
    "parser.add_argument('--sim_file', type=str, default=f\"{data_dir}/data/pair_to_sim_induct.json\", help='reuse rate json file')\n",
    "# parser.add_argument('--setting', type=str, required=True, help='graph learning setting: inductive/transductive')\n",
    "# parser.add_argument('--model_path', type=str, required=True, default=\"./model/\", help='model file path')\n",
    "parser.add_argument('--output_dir', type=str, default=output_dir, help='output path')\n",
    "parser.add_argument('--agg_type', type=str, default=\"attn\", help='aggregation type')\n",
    "# parser.add_argument('--nclient', type=int, default=5, help='number of clients')\n",
    "# parser.add_argument('--valid', type=float, default=0.2, help='split ratio of validation set')\n",
    "# parser.add_argument('--test', type=float, default=0.2, help='split ratio of test set')\n",
    "parser.add_argument('--dropout', type=float, default=0.5, help='dropout ratio')\n",
    "parser.add_argument('--random_seed', type=int, default=42, help='random seed for initialization')\n",
    "parser.add_argument('--relu', type=float, default=0.2, help='ReLU threshold')\n",
    "parser.add_argument('--reuse_th', type=float, default=0.5, help='threshold for reuse')\n",
    "parser.add_argument('--train_batch_size', type=int, default=2048, help='batch size for training')\n",
    "parser.add_argument('--eval_batch_size', type=int, default=2048, help='batch size for evaluation')\n",
    "parser.add_argument('--embed_size', type=int, default=1024, help='size of the embedding layer')\n",
    "parser.add_argument('--hidden_size', type=int, default=1024, help='size of the hidden layer')\n",
    "parser.add_argument('--gnn_depth', type=int, default=2, help='depth of the GNN')\n",
    "parser.add_argument('--max_lr', type=float, default=0.001, help='maximum learning rate')\n",
    "parser.add_argument('--warmup', type=float, default=0.02, help='warmup ratio for learning rate')\n",
    "parser.add_argument('--max_epoch', type=int, default=100, help='maximum number of epochs')\n",
    "# parser.add_argument('--early_stop', type=int, default=40, help='early stopping epochs')\n",
    "parser.add_argument('--device', type=int, default=0, help='GPU ID')\n",
    "\n",
    "args = parser.parse_args(args=[])\n",
    "pprint(args)\n",
    "\n",
    "torch.manual_seed(args.random_seed)\n",
    "torch.cuda.manual_seed(args.random_seed)\n",
    "dgl.seed(args.random_seed)\n",
    "np.random.seed(args.random_seed)\n",
    "random.seed(args.random_seed)"
   ]
  },
  {
   "cell_type": "code",
   "execution_count": 3,
   "id": "b0535fd2-ff5b-41ad-a722-a82a52c05534",
   "metadata": {},
   "outputs": [],
   "source": [
    "def construct_graph_sim(feature_dict, reuse_rate_dict, reuse_th, pair_to_sim):\n",
    "    print('Constructing graph...')\n",
    "    \n",
    "    source_to_id = {s: i for i, s in enumerate(feature_dict.keys())}\n",
    "    id_to_source = {v: k for k, v in source_to_id.items()}\n",
    "\n",
    "    id_to_feature = {source_to_id[k]: {'numerical': v['numerical'], 'categorical': v['categorical'], 'url_encoding': v['url_encoding'], 'ip': v['ip'], 'text': v['text']} for k, v in feature_dict.items()}\n",
    "\n",
    "    score_dict = {}\n",
    "    label_list = []\n",
    "    src_list = []\n",
    "    dst_list = []\n",
    "    src_list_sim = []\n",
    "    dst_list_sim = []\n",
    "\n",
    "    for s1, id1 in source_to_id.items():\n",
    "        s2_list = reuse_rate_dict[s1]\n",
    "\n",
    "        for s2, score in s2_list.items():\n",
    "            id2 = source_to_id.get(s2)\n",
    "            score = 0 if score < reuse_th else 1\n",
    "\n",
    "            if id2:\n",
    "                pair = tuple(sorted((id1, id2)))\n",
    "\n",
    "                if pair in score_dict:\n",
    "                    continue\n",
    "\n",
    "                score_dict[pair] = score\n",
    "\n",
    "                src_list.append(id1)\n",
    "                dst_list.append(id2)\n",
    "                label_list.append(score)\n",
    "\n",
    "                if pair_to_sim[str(id1)][str(id2)] > 0.6145861872979802:\n",
    "                    src_list_sim.append(id1)\n",
    "                    dst_list_sim.append(id2)\n",
    "\n",
    "    data_dict = {\n",
    "        ('website', 'user', 'website'): (src_list_sim, dst_list_sim),\n",
    "        ('website', 'reuse', 'website'): (src_list, dst_list),\n",
    "    }           \n",
    "\n",
    "    g = dgl.to_bidirected(dgl.heterograph(data_dict))\n",
    "\n",
    "    g.ndata['numerical'] = torch.tensor([v['numerical'] for v in id_to_feature.values()])\n",
    "    g.ndata['categorical'] = torch.tensor([v['categorical'] for v in id_to_feature.values()])\n",
    "    g.ndata['url_encoding'] = torch.tensor([v['url_encoding'] for v in id_to_feature.values()])\n",
    "    g.ndata['text'] = torch.tensor([v['text'] for v in id_to_feature.values()])\n",
    "    g.ndata['ip'] = torch.tensor([v['ip'] for v in id_to_feature.values()], dtype=torch.float)\n",
    "\n",
    "    g.edata['mask'] = {('website', 'reuse', 'website'): torch.zeros(len(src_list)*2, dtype=torch.float)}\n",
    "    g.edata['mask'][('website', 'reuse', 'website')][g.edge_ids(src_list, dst_list, etype='reuse')] = torch.tensor(label_list, dtype=torch.float)\n",
    "    g.edata['mask'][('website', 'reuse', 'website')][g.edge_ids(dst_list, src_list, etype='reuse')] = torch.tensor(label_list, dtype=torch.float)\n",
    "\n",
    "    g.edata['label'] = {('website', 'reuse', 'website'): torch.zeros(len(src_list)*2, dtype=torch.long)}\n",
    "    g.edata['label'][('website', 'reuse', 'website')][g.edge_ids(src_list, dst_list, etype='reuse')] = torch.tensor(label_list)\n",
    "    g.edata['label'][('website', 'reuse', 'website')][g.edge_ids(dst_list, src_list, etype='reuse')] = torch.tensor(label_list)\n",
    "    \n",
    "    sys.stdout.write(\"\\033[F\")\n",
    "    print('Constructing graph... Done')\n",
    "\n",
    "    return g"
   ]
  },
  {
   "cell_type": "code",
   "execution_count": 4,
   "id": "826581e9-1e24-4e6f-91c2-ae90530983c6",
   "metadata": {},
   "outputs": [
    {
     "name": "stdout",
     "output_type": "stream",
     "text": [
      "Constructing graph...\n",
      "\u001b[FConstructing graph... Done\n",
      "Splitting graph...\n",
      "\u001b[FSplitting graph... Done\n"
     ]
    }
   ],
   "source": [
    "with open(args.feature_file, 'r') as f:\n",
    "    feature_dict = json.load(f)\n",
    "\n",
    "with open(args.reuse_rate_file, 'r') as f:\n",
    "    reuse_rate_dict = json.load(f)\n",
    "\n",
    "with open(args.sim_file, 'r') as f:\n",
    "    pair_to_sim = json.load(f)\n",
    "    \n",
    "\n",
    "\n",
    "g = construct_graph_sim(feature_dict, reuse_rate_dict, args.reuse_th, pair_to_sim=pair_to_sim)\n",
    "g_dict, target_eids_dict = graph_split_base(g, args.random_seed)\n",
    "\n",
    "\n",
    "\n",
    "# train_loader_list = []\n",
    "# for g, nodes in zip(g_split['train'], node_split['train']):\n",
    "#     train_loader_list.append(get_data_loader(g, nodes, args.train_batch_size, args.gnn_depth, suffle=True))\n",
    "# train_nfeat_list = P.pop_train_node_feature()\n",
    "\n",
    "# valid_loader = get_data_loader(g_split['valid'], node_split['valid'])\n",
    "# valid_nfeat = P.pop_node_feature('valid')\n",
    "# test_loader = get_data_loader(g_split['test'], node_split['test'])\n",
    "# test_nfeat = P.pop_node_feature('test')\n",
    "\n",
    "\n",
    "P = PassREfinder_Base(g_dict, target_eids_dict, args)\n",
    "# P.print_graph()"
   ]
  },
  {
   "cell_type": "code",
   "execution_count": 5,
   "id": "e82957aa-b50e-4805-9793-64591fe53921",
   "metadata": {},
   "outputs": [
    {
     "name": "stdout",
     "output_type": "stream",
     "text": [
      "Graph(num_nodes={'website': 9927},\n",
      "      num_edges={('website', 'reuse', 'website'): 1211942, ('website', 'user', 'website'): 615584},\n",
      "      metagraph=[('website', 'website', 'reuse'), ('website', 'website', 'user')])\n"
     ]
    }
   ],
   "source": [
    "print(g)"
   ]
  },
  {
   "cell_type": "code",
   "execution_count": 7,
   "id": "39297350-c825-4a1d-9944-39c489028c7f",
   "metadata": {},
   "outputs": [
    {
     "name": "stdout",
     "output_type": "stream",
     "text": [
      "2025-03-27 14:20:37 start\n"
     ]
    },
    {
     "name": "stderr",
     "output_type": "stream",
     "text": [
      "100%|██████████| 24/24 [00:04<00:00,  5.09it/s]\n",
      "100%|██████████| 24/24 [00:04<00:00,  4.91it/s]\n"
     ]
    },
    {
     "name": "stdout",
     "output_type": "stream",
     "text": [
      "2025-03-27 14:20:47 Epoch [1/100], Train Loss: 0.6976, Valid Loss: 0.6866, Precision: 0.7962, Recall: 0.0217, F1: 0.0423\n",
      "Save model!\n"
     ]
    },
    {
     "name": "stderr",
     "output_type": "stream",
     "text": [
      "100%|██████████| 24/24 [00:04<00:00,  5.81it/s]\n",
      "100%|██████████| 24/24 [00:04<00:00,  5.33it/s]\n"
     ]
    },
    {
     "name": "stdout",
     "output_type": "stream",
     "text": [
      "2025-03-27 14:20:56 Epoch [2/100], Train Loss: 0.7069, Valid Loss: 0.6853, Precision: 0.6894, Recall: 0.0036, F1: 0.0072\n",
      "Save model!\n"
     ]
    },
    {
     "name": "stderr",
     "output_type": "stream",
     "text": [
      "100%|██████████| 24/24 [00:04<00:00,  5.72it/s]\n",
      "100%|██████████| 24/24 [00:04<00:00,  5.39it/s]\n"
     ]
    },
    {
     "name": "stdout",
     "output_type": "stream",
     "text": [
      "2025-03-27 14:21:06 Epoch [3/100], Train Loss: 0.6940, Valid Loss: 0.6782, Precision: 0.5270, Recall: 0.9981, F1: 0.6898\n",
      "Save model!\n"
     ]
    },
    {
     "name": "stderr",
     "output_type": "stream",
     "text": [
      "100%|██████████| 24/24 [00:04<00:00,  5.82it/s]\n",
      "100%|██████████| 24/24 [00:04<00:00,  4.97it/s]\n"
     ]
    },
    {
     "name": "stdout",
     "output_type": "stream",
     "text": [
      "2025-03-27 14:21:16 Epoch [4/100], Train Loss: 0.6884, Valid Loss: 0.6067, Precision: 0.7778, Recall: 0.6436, F1: 0.7044\n",
      "Save model!\n"
     ]
    },
    {
     "name": "stderr",
     "output_type": "stream",
     "text": [
      "100%|██████████| 24/24 [00:04<00:00,  5.33it/s]\n",
      "100%|██████████| 24/24 [00:04<00:00,  5.32it/s]\n"
     ]
    },
    {
     "name": "stdout",
     "output_type": "stream",
     "text": [
      "2025-03-27 14:21:26 Epoch [5/100], Train Loss: 0.5833, Valid Loss: 0.5808, Precision: 0.9612, Recall: 0.4521, F1: 0.6150\n",
      "Save model!\n"
     ]
    },
    {
     "name": "stderr",
     "output_type": "stream",
     "text": [
      "100%|██████████| 24/24 [00:04<00:00,  5.64it/s]\n",
      "100%|██████████| 24/24 [00:04<00:00,  5.31it/s]\n"
     ]
    },
    {
     "name": "stdout",
     "output_type": "stream",
     "text": [
      "2025-03-27 14:21:35 Epoch [6/100], Train Loss: 0.5430, Valid Loss: 0.6509, Precision: 0.9664, Recall: 0.2056, F1: 0.3390\n"
     ]
    },
    {
     "name": "stderr",
     "output_type": "stream",
     "text": [
      "100%|██████████| 24/24 [00:04<00:00,  5.88it/s]\n",
      "100%|██████████| 24/24 [00:04<00:00,  5.35it/s]\n"
     ]
    },
    {
     "name": "stdout",
     "output_type": "stream",
     "text": [
      "2025-03-27 14:21:44 Epoch [7/100], Train Loss: 0.5021, Valid Loss: 0.7110, Precision: 0.9788, Recall: 0.2070, F1: 0.3418\n"
     ]
    },
    {
     "name": "stderr",
     "output_type": "stream",
     "text": [
      "100%|██████████| 24/24 [00:04<00:00,  5.68it/s]\n",
      "100%|██████████| 24/24 [00:04<00:00,  4.84it/s]\n"
     ]
    },
    {
     "name": "stdout",
     "output_type": "stream",
     "text": [
      "2025-03-27 14:21:53 Epoch [8/100], Train Loss: 0.5192, Valid Loss: 0.6044, Precision: 0.9503, Recall: 0.4349, F1: 0.5967\n"
     ]
    },
    {
     "name": "stderr",
     "output_type": "stream",
     "text": [
      "100%|██████████| 24/24 [00:04<00:00,  5.74it/s]\n",
      "100%|██████████| 24/24 [00:04<00:00,  5.32it/s]\n"
     ]
    },
    {
     "name": "stdout",
     "output_type": "stream",
     "text": [
      "2025-03-27 14:22:02 Epoch [9/100], Train Loss: 0.4943, Valid Loss: 0.5544, Precision: 0.8949, Recall: 0.5568, F1: 0.6864\n",
      "Save model!\n"
     ]
    },
    {
     "name": "stderr",
     "output_type": "stream",
     "text": [
      "100%|██████████| 24/24 [00:04<00:00,  5.74it/s]\n",
      "100%|██████████| 24/24 [00:04<00:00,  5.21it/s]\n"
     ]
    },
    {
     "name": "stdout",
     "output_type": "stream",
     "text": [
      "2025-03-27 14:22:12 Epoch [10/100], Train Loss: 0.4785, Valid Loss: 0.5183, Precision: 0.8908, Recall: 0.5914, F1: 0.7108\n",
      "Save model!\n"
     ]
    },
    {
     "name": "stderr",
     "output_type": "stream",
     "text": [
      "100%|██████████| 24/24 [00:04<00:00,  5.17it/s]\n",
      "100%|██████████| 24/24 [00:05<00:00,  4.53it/s]"
     ]
    },
    {
     "name": "stdout",
     "output_type": "stream",
     "text": [
      "2025-03-27 14:22:23 Epoch [11/100], Train Loss: 0.4634, Valid Loss: 0.5335, Precision: 0.9018, Recall: 0.5831, F1: 0.7082\n"
     ]
    },
    {
     "name": "stderr",
     "output_type": "stream",
     "text": [
      "\n",
      "100%|██████████| 24/24 [00:04<00:00,  5.16it/s]\n",
      "100%|██████████| 24/24 [00:04<00:00,  5.24it/s]\n"
     ]
    },
    {
     "name": "stdout",
     "output_type": "stream",
     "text": [
      "2025-03-27 14:22:32 Epoch [12/100], Train Loss: 0.4784, Valid Loss: 0.5184, Precision: 0.8996, Recall: 0.5112, F1: 0.6520\n"
     ]
    },
    {
     "name": "stderr",
     "output_type": "stream",
     "text": [
      "100%|██████████| 24/24 [00:04<00:00,  5.80it/s]\n",
      "100%|██████████| 24/24 [00:04<00:00,  4.96it/s]"
     ]
    },
    {
     "name": "stdout",
     "output_type": "stream",
     "text": [
      "2025-03-27 14:22:41 Epoch [13/100], Train Loss: 0.4697, Valid Loss: 0.4764, Precision: 0.8371, Recall: 0.6795, F1: 0.7501\n"
     ]
    },
    {
     "name": "stderr",
     "output_type": "stream",
     "text": [
      "\n"
     ]
    },
    {
     "name": "stdout",
     "output_type": "stream",
     "text": [
      "Save model!\n"
     ]
    },
    {
     "name": "stderr",
     "output_type": "stream",
     "text": [
      "100%|██████████| 24/24 [00:04<00:00,  5.66it/s]\n",
      "100%|██████████| 24/24 [00:04<00:00,  5.31it/s]\n"
     ]
    },
    {
     "name": "stdout",
     "output_type": "stream",
     "text": [
      "2025-03-27 14:22:51 Epoch [14/100], Train Loss: 0.4709, Valid Loss: 0.5246, Precision: 0.8910, Recall: 0.5610, F1: 0.6885\n"
     ]
    },
    {
     "name": "stderr",
     "output_type": "stream",
     "text": [
      "100%|██████████| 24/24 [00:04<00:00,  5.85it/s]\n",
      "100%|██████████| 24/24 [00:04<00:00,  4.85it/s]\n"
     ]
    },
    {
     "name": "stdout",
     "output_type": "stream",
     "text": [
      "2025-03-27 14:23:00 Epoch [15/100], Train Loss: 0.4921, Valid Loss: 0.5642, Precision: 0.9087, Recall: 0.5329, F1: 0.6718\n"
     ]
    },
    {
     "name": "stderr",
     "output_type": "stream",
     "text": [
      "100%|██████████| 24/24 [00:04<00:00,  5.81it/s]\n",
      "100%|██████████| 24/24 [00:04<00:00,  5.23it/s]\n"
     ]
    },
    {
     "name": "stdout",
     "output_type": "stream",
     "text": [
      "2025-03-27 14:23:09 Epoch [16/100], Train Loss: 0.4893, Valid Loss: 0.5505, Precision: 0.8584, Recall: 0.5601, F1: 0.6779\n"
     ]
    },
    {
     "name": "stderr",
     "output_type": "stream",
     "text": [
      "100%|██████████| 24/24 [00:04<00:00,  5.75it/s]\n",
      "100%|██████████| 24/24 [00:04<00:00,  4.95it/s]\n"
     ]
    },
    {
     "name": "stdout",
     "output_type": "stream",
     "text": [
      "2025-03-27 14:23:18 Epoch [17/100], Train Loss: 0.5043, Valid Loss: 0.4785, Precision: 0.8311, Recall: 0.7121, F1: 0.7670\n"
     ]
    },
    {
     "name": "stderr",
     "output_type": "stream",
     "text": [
      "100%|██████████| 24/24 [00:04<00:00,  5.90it/s]\n",
      "100%|██████████| 24/24 [00:04<00:00,  5.29it/s]\n"
     ]
    },
    {
     "name": "stdout",
     "output_type": "stream",
     "text": [
      "2025-03-27 14:23:27 Epoch [18/100], Train Loss: 0.4628, Valid Loss: 0.5256, Precision: 0.9345, Recall: 0.5593, F1: 0.6998\n"
     ]
    },
    {
     "name": "stderr",
     "output_type": "stream",
     "text": [
      "100%|██████████| 24/24 [00:04<00:00,  5.38it/s]\n",
      "100%|██████████| 24/24 [00:04<00:00,  5.26it/s]\n"
     ]
    },
    {
     "name": "stdout",
     "output_type": "stream",
     "text": [
      "2025-03-27 14:23:36 Epoch [19/100], Train Loss: 0.4416, Valid Loss: 0.4930, Precision: 0.9127, Recall: 0.5249, F1: 0.6665\n"
     ]
    },
    {
     "name": "stderr",
     "output_type": "stream",
     "text": [
      "100%|██████████| 24/24 [00:04<00:00,  5.87it/s]\n",
      "100%|██████████| 24/24 [00:04<00:00,  5.18it/s]\n"
     ]
    },
    {
     "name": "stdout",
     "output_type": "stream",
     "text": [
      "2025-03-27 14:23:45 Epoch [20/100], Train Loss: 0.4458, Valid Loss: 0.5306, Precision: 0.8672, Recall: 0.5130, F1: 0.6447\n"
     ]
    },
    {
     "name": "stderr",
     "output_type": "stream",
     "text": [
      "100%|██████████| 24/24 [00:04<00:00,  5.80it/s]\n",
      "100%|██████████| 24/24 [00:04<00:00,  5.33it/s]\n"
     ]
    },
    {
     "name": "stdout",
     "output_type": "stream",
     "text": [
      "2025-03-27 14:23:53 Epoch [21/100], Train Loss: 0.4499, Valid Loss: 0.5207, Precision: 0.9067, Recall: 0.5837, F1: 0.7102\n"
     ]
    },
    {
     "name": "stderr",
     "output_type": "stream",
     "text": [
      "100%|██████████| 24/24 [00:04<00:00,  5.83it/s]\n",
      "100%|██████████| 24/24 [00:04<00:00,  4.88it/s]\n"
     ]
    },
    {
     "name": "stdout",
     "output_type": "stream",
     "text": [
      "2025-03-27 14:24:03 Epoch [22/100], Train Loss: 0.4958, Valid Loss: 0.5035, Precision: 0.9174, Recall: 0.5021, F1: 0.6490\n"
     ]
    },
    {
     "name": "stderr",
     "output_type": "stream",
     "text": [
      "100%|██████████| 24/24 [00:04<00:00,  5.84it/s]\n",
      "100%|██████████| 24/24 [00:04<00:00,  5.36it/s]\n"
     ]
    },
    {
     "name": "stdout",
     "output_type": "stream",
     "text": [
      "2025-03-27 14:24:11 Epoch [23/100], Train Loss: 0.4971, Valid Loss: 0.4865, Precision: 0.8552, Recall: 0.6537, F1: 0.7410\n"
     ]
    },
    {
     "name": "stderr",
     "output_type": "stream",
     "text": [
      "100%|██████████| 24/24 [00:04<00:00,  5.88it/s]\n",
      "100%|██████████| 24/24 [00:04<00:00,  5.33it/s]\n"
     ]
    },
    {
     "name": "stdout",
     "output_type": "stream",
     "text": [
      "2025-03-27 14:24:20 Epoch [24/100], Train Loss: 0.4592, Valid Loss: 0.4625, Precision: 0.8479, Recall: 0.6986, F1: 0.7660\n",
      "Save model!\n"
     ]
    },
    {
     "name": "stderr",
     "output_type": "stream",
     "text": [
      "100%|██████████| 24/24 [00:04<00:00,  5.71it/s]\n",
      "100%|██████████| 24/24 [00:04<00:00,  4.81it/s]\n"
     ]
    },
    {
     "name": "stdout",
     "output_type": "stream",
     "text": [
      "2025-03-27 14:24:30 Epoch [25/100], Train Loss: 0.4245, Valid Loss: 0.4809, Precision: 0.8328, Recall: 0.6798, F1: 0.7485\n"
     ]
    },
    {
     "name": "stderr",
     "output_type": "stream",
     "text": [
      "100%|██████████| 24/24 [00:04<00:00,  5.91it/s]\n",
      "100%|██████████| 24/24 [00:04<00:00,  5.32it/s]\n"
     ]
    },
    {
     "name": "stdout",
     "output_type": "stream",
     "text": [
      "2025-03-27 14:24:39 Epoch [26/100], Train Loss: 0.4315, Valid Loss: 0.4836, Precision: 0.8513, Recall: 0.6830, F1: 0.7579\n"
     ]
    },
    {
     "name": "stderr",
     "output_type": "stream",
     "text": [
      "100%|██████████| 24/24 [00:04<00:00,  5.87it/s]\n",
      "100%|██████████| 24/24 [00:04<00:00,  5.27it/s]\n"
     ]
    },
    {
     "name": "stdout",
     "output_type": "stream",
     "text": [
      "2025-03-27 14:24:48 Epoch [27/100], Train Loss: 0.4409, Valid Loss: 0.5017, Precision: 0.7509, Recall: 0.8286, F1: 0.7878\n"
     ]
    },
    {
     "name": "stderr",
     "output_type": "stream",
     "text": [
      "100%|██████████| 24/24 [00:04<00:00,  5.92it/s]\n",
      "100%|██████████| 24/24 [00:04<00:00,  5.28it/s]\n"
     ]
    },
    {
     "name": "stdout",
     "output_type": "stream",
     "text": [
      "2025-03-27 14:24:56 Epoch [28/100], Train Loss: 0.4377, Valid Loss: 0.5119, Precision: 0.8327, Recall: 0.6320, F1: 0.7186\n"
     ]
    },
    {
     "name": "stderr",
     "output_type": "stream",
     "text": [
      "100%|██████████| 24/24 [00:04<00:00,  5.93it/s]\n",
      "100%|██████████| 24/24 [00:05<00:00,  4.58it/s]\n"
     ]
    },
    {
     "name": "stdout",
     "output_type": "stream",
     "text": [
      "2025-03-27 14:25:06 Epoch [29/100], Train Loss: 0.4176, Valid Loss: 0.5184, Precision: 0.9156, Recall: 0.5690, F1: 0.7019\n"
     ]
    },
    {
     "name": "stderr",
     "output_type": "stream",
     "text": [
      "100%|██████████| 24/24 [00:04<00:00,  5.21it/s]\n",
      "100%|██████████| 24/24 [00:04<00:00,  5.23it/s]\n"
     ]
    },
    {
     "name": "stdout",
     "output_type": "stream",
     "text": [
      "2025-03-27 14:25:15 Epoch [30/100], Train Loss: 0.4319, Valid Loss: 0.4743, Precision: 0.8200, Recall: 0.6992, F1: 0.7548\n"
     ]
    },
    {
     "name": "stderr",
     "output_type": "stream",
     "text": [
      "100%|██████████| 24/24 [00:04<00:00,  5.85it/s]\n",
      "100%|██████████| 24/24 [00:04<00:00,  5.32it/s]\n"
     ]
    },
    {
     "name": "stdout",
     "output_type": "stream",
     "text": [
      "2025-03-27 14:25:24 Epoch [31/100], Train Loss: 0.4146, Valid Loss: 0.4966, Precision: 0.8802, Recall: 0.6454, F1: 0.7447\n"
     ]
    },
    {
     "name": "stderr",
     "output_type": "stream",
     "text": [
      "100%|██████████| 24/24 [00:04<00:00,  5.85it/s]\n",
      "100%|██████████| 24/24 [00:04<00:00,  4.86it/s]\n"
     ]
    },
    {
     "name": "stdout",
     "output_type": "stream",
     "text": [
      "2025-03-27 14:25:33 Epoch [32/100], Train Loss: 0.4222, Valid Loss: 0.4624, Precision: 0.8560, Recall: 0.6844, F1: 0.7607\n",
      "Save model!\n"
     ]
    },
    {
     "name": "stderr",
     "output_type": "stream",
     "text": [
      "100%|██████████| 24/24 [00:04<00:00,  5.79it/s]\n",
      "100%|██████████| 24/24 [00:04<00:00,  5.28it/s]\n"
     ]
    },
    {
     "name": "stdout",
     "output_type": "stream",
     "text": [
      "2025-03-27 14:25:42 Epoch [33/100], Train Loss: 0.4280, Valid Loss: 0.4845, Precision: 0.8841, Recall: 0.6084, F1: 0.7208\n"
     ]
    },
    {
     "name": "stderr",
     "output_type": "stream",
     "text": [
      "100%|██████████| 24/24 [00:04<00:00,  5.86it/s]\n",
      "100%|██████████| 24/24 [00:04<00:00,  5.32it/s]\n"
     ]
    },
    {
     "name": "stdout",
     "output_type": "stream",
     "text": [
      "2025-03-27 14:25:51 Epoch [34/100], Train Loss: 0.4147, Valid Loss: 0.5379, Precision: 0.8886, Recall: 0.5643, F1: 0.6902\n"
     ]
    },
    {
     "name": "stderr",
     "output_type": "stream",
     "text": [
      "100%|██████████| 24/24 [00:04<00:00,  5.82it/s]\n",
      "100%|██████████| 24/24 [00:04<00:00,  5.27it/s]\n"
     ]
    },
    {
     "name": "stdout",
     "output_type": "stream",
     "text": [
      "2025-03-27 14:26:00 Epoch [35/100], Train Loss: 0.4080, Valid Loss: 0.4701, Precision: 0.8834, Recall: 0.6395, F1: 0.7419\n"
     ]
    },
    {
     "name": "stderr",
     "output_type": "stream",
     "text": [
      "100%|██████████| 24/24 [00:04<00:00,  5.37it/s]\n",
      "100%|██████████| 24/24 [00:04<00:00,  5.22it/s]\n"
     ]
    },
    {
     "name": "stdout",
     "output_type": "stream",
     "text": [
      "2025-03-27 14:26:09 Epoch [36/100], Train Loss: 0.4456, Valid Loss: 0.4794, Precision: 0.8605, Recall: 0.6576, F1: 0.7455\n"
     ]
    },
    {
     "name": "stderr",
     "output_type": "stream",
     "text": [
      "100%|██████████| 24/24 [00:04<00:00,  5.81it/s]\n",
      "100%|██████████| 24/24 [00:04<00:00,  5.16it/s]\n"
     ]
    },
    {
     "name": "stdout",
     "output_type": "stream",
     "text": [
      "2025-03-27 14:26:18 Epoch [37/100], Train Loss: 0.4409, Valid Loss: 0.4926, Precision: 0.8316, Recall: 0.6782, F1: 0.7471\n"
     ]
    },
    {
     "name": "stderr",
     "output_type": "stream",
     "text": [
      "100%|██████████| 24/24 [00:04<00:00,  5.76it/s]\n",
      "100%|██████████| 24/24 [00:04<00:00,  5.35it/s]\n"
     ]
    },
    {
     "name": "stdout",
     "output_type": "stream",
     "text": [
      "2025-03-27 14:26:27 Epoch [38/100], Train Loss: 0.4197, Valid Loss: 0.4655, Precision: 0.8691, Recall: 0.6691, F1: 0.7561\n"
     ]
    },
    {
     "name": "stderr",
     "output_type": "stream",
     "text": [
      "100%|██████████| 24/24 [00:04<00:00,  5.81it/s]\n",
      "100%|██████████| 24/24 [00:04<00:00,  4.87it/s]\n"
     ]
    },
    {
     "name": "stdout",
     "output_type": "stream",
     "text": [
      "2025-03-27 14:26:36 Epoch [39/100], Train Loss: 0.4180, Valid Loss: 0.4603, Precision: 0.7963, Recall: 0.7656, F1: 0.7807\n",
      "Save model!\n"
     ]
    },
    {
     "name": "stderr",
     "output_type": "stream",
     "text": [
      "100%|██████████| 24/24 [00:04<00:00,  5.74it/s]\n",
      "100%|██████████| 24/24 [00:04<00:00,  5.31it/s]\n"
     ]
    },
    {
     "name": "stdout",
     "output_type": "stream",
     "text": [
      "2025-03-27 14:26:46 Epoch [40/100], Train Loss: 0.4040, Valid Loss: 0.4636, Precision: 0.8865, Recall: 0.6587, F1: 0.7558\n"
     ]
    },
    {
     "name": "stderr",
     "output_type": "stream",
     "text": [
      "100%|██████████| 24/24 [00:04<00:00,  5.86it/s]\n",
      "100%|██████████| 24/24 [00:04<00:00,  5.16it/s]\n"
     ]
    },
    {
     "name": "stdout",
     "output_type": "stream",
     "text": [
      "2025-03-27 14:26:54 Epoch [41/100], Train Loss: 0.3931, Valid Loss: 0.4610, Precision: 0.8820, Recall: 0.6642, F1: 0.7578\n"
     ]
    },
    {
     "name": "stderr",
     "output_type": "stream",
     "text": [
      "100%|██████████| 24/24 [00:04<00:00,  5.85it/s]\n",
      "100%|██████████| 24/24 [00:04<00:00,  4.98it/s]\n"
     ]
    },
    {
     "name": "stdout",
     "output_type": "stream",
     "text": [
      "2025-03-27 14:27:03 Epoch [42/100], Train Loss: 0.3848, Valid Loss: 0.4902, Precision: 0.8649, Recall: 0.6658, F1: 0.7524\n"
     ]
    },
    {
     "name": "stderr",
     "output_type": "stream",
     "text": [
      "100%|██████████| 24/24 [00:04<00:00,  5.94it/s]\n",
      "100%|██████████| 24/24 [00:04<00:00,  5.35it/s]\n"
     ]
    },
    {
     "name": "stdout",
     "output_type": "stream",
     "text": [
      "2025-03-27 14:27:12 Epoch [43/100], Train Loss: 0.4029, Valid Loss: 0.4654, Precision: 0.8493, Recall: 0.7127, F1: 0.7750\n"
     ]
    },
    {
     "name": "stderr",
     "output_type": "stream",
     "text": [
      "100%|██████████| 24/24 [00:04<00:00,  5.81it/s]\n",
      "100%|██████████| 24/24 [00:04<00:00,  5.32it/s]\n"
     ]
    },
    {
     "name": "stdout",
     "output_type": "stream",
     "text": [
      "2025-03-27 14:27:21 Epoch [44/100], Train Loss: 0.4185, Valid Loss: 0.5094, Precision: 0.8786, Recall: 0.6189, F1: 0.7262\n"
     ]
    },
    {
     "name": "stderr",
     "output_type": "stream",
     "text": [
      "100%|██████████| 24/24 [00:04<00:00,  5.88it/s]\n",
      "100%|██████████| 24/24 [00:05<00:00,  4.54it/s]\n"
     ]
    },
    {
     "name": "stdout",
     "output_type": "stream",
     "text": [
      "2025-03-27 14:27:30 Epoch [45/100], Train Loss: 0.3957, Valid Loss: 0.5011, Precision: 0.8945, Recall: 0.5954, F1: 0.7149\n"
     ]
    },
    {
     "name": "stderr",
     "output_type": "stream",
     "text": [
      "100%|██████████| 24/24 [00:04<00:00,  5.25it/s]\n",
      "100%|██████████| 24/24 [00:05<00:00,  4.42it/s]"
     ]
    },
    {
     "name": "stdout",
     "output_type": "stream",
     "text": [
      "2025-03-27 14:27:40 Epoch [46/100], Train Loss: 0.3924, Valid Loss: 0.5040, Precision: 0.8854, Recall: 0.6162, F1: 0.7267\n"
     ]
    },
    {
     "name": "stderr",
     "output_type": "stream",
     "text": [
      "\n",
      "100%|██████████| 24/24 [00:04<00:00,  5.76it/s]\n",
      "100%|██████████| 24/24 [00:04<00:00,  5.35it/s]\n"
     ]
    },
    {
     "name": "stdout",
     "output_type": "stream",
     "text": [
      "2025-03-27 14:27:49 Epoch [47/100], Train Loss: 0.3762, Valid Loss: 0.4861, Precision: 0.8576, Recall: 0.6568, F1: 0.7439\n"
     ]
    },
    {
     "name": "stderr",
     "output_type": "stream",
     "text": [
      "100%|██████████| 24/24 [00:04<00:00,  5.21it/s]\n",
      "100%|██████████| 24/24 [00:04<00:00,  5.29it/s]\n"
     ]
    },
    {
     "name": "stdout",
     "output_type": "stream",
     "text": [
      "2025-03-27 14:27:58 Epoch [48/100], Train Loss: 0.3686, Valid Loss: 0.4837, Precision: 0.8587, Recall: 0.6347, F1: 0.7299\n"
     ]
    },
    {
     "name": "stderr",
     "output_type": "stream",
     "text": [
      "100%|██████████| 24/24 [00:04<00:00,  5.48it/s]\n",
      "100%|██████████| 24/24 [00:05<00:00,  4.57it/s]\n"
     ]
    },
    {
     "name": "stdout",
     "output_type": "stream",
     "text": [
      "2025-03-27 14:28:08 Epoch [49/100], Train Loss: 0.3721, Valid Loss: 0.5274, Precision: 0.9003, Recall: 0.5802, F1: 0.7056\n"
     ]
    },
    {
     "name": "stderr",
     "output_type": "stream",
     "text": [
      "100%|██████████| 24/24 [00:04<00:00,  5.78it/s]\n",
      "100%|██████████| 24/24 [00:04<00:00,  5.25it/s]\n"
     ]
    },
    {
     "name": "stdout",
     "output_type": "stream",
     "text": [
      "2025-03-27 14:28:17 Epoch [50/100], Train Loss: 0.3726, Valid Loss: 0.4982, Precision: 0.8630, Recall: 0.6391, F1: 0.7343\n"
     ]
    },
    {
     "name": "stderr",
     "output_type": "stream",
     "text": [
      "100%|██████████| 24/24 [00:04<00:00,  5.45it/s]\n",
      "100%|██████████| 24/24 [00:05<00:00,  4.52it/s]"
     ]
    },
    {
     "name": "stdout",
     "output_type": "stream",
     "text": [
      "2025-03-27 14:28:27 Epoch [51/100], Train Loss: 0.3751, Valid Loss: 0.5220, Precision: 0.8910, Recall: 0.5593, F1: 0.6872\n"
     ]
    },
    {
     "name": "stderr",
     "output_type": "stream",
     "text": [
      "\n",
      "100%|██████████| 24/24 [00:04<00:00,  5.68it/s]\n",
      "100%|██████████| 24/24 [00:04<00:00,  5.20it/s]\n"
     ]
    },
    {
     "name": "stdout",
     "output_type": "stream",
     "text": [
      "2025-03-27 14:28:36 Epoch [52/100], Train Loss: 0.3613, Valid Loss: 0.4752, Precision: 0.8806, Recall: 0.6418, F1: 0.7425\n"
     ]
    },
    {
     "name": "stderr",
     "output_type": "stream",
     "text": [
      "100%|██████████| 24/24 [00:04<00:00,  5.79it/s]\n",
      "100%|██████████| 24/24 [00:04<00:00,  4.82it/s]\n"
     ]
    },
    {
     "name": "stdout",
     "output_type": "stream",
     "text": [
      "2025-03-27 14:28:45 Epoch [53/100], Train Loss: 0.3603, Valid Loss: 0.5083, Precision: 0.8853, Recall: 0.6120, F1: 0.7237\n"
     ]
    },
    {
     "name": "stderr",
     "output_type": "stream",
     "text": [
      "100%|██████████| 24/24 [00:04<00:00,  5.69it/s]\n",
      "100%|██████████| 24/24 [00:04<00:00,  5.35it/s]\n"
     ]
    },
    {
     "name": "stdout",
     "output_type": "stream",
     "text": [
      "2025-03-27 14:28:53 Epoch [54/100], Train Loss: 0.3618, Valid Loss: 0.5260, Precision: 0.8800, Recall: 0.5505, F1: 0.6773\n"
     ]
    },
    {
     "name": "stderr",
     "output_type": "stream",
     "text": [
      "100%|██████████| 24/24 [00:04<00:00,  5.68it/s]\n",
      "100%|██████████| 24/24 [00:04<00:00,  5.27it/s]\n"
     ]
    },
    {
     "name": "stdout",
     "output_type": "stream",
     "text": [
      "2025-03-27 14:29:02 Epoch [55/100], Train Loss: 0.3603, Valid Loss: 0.4843, Precision: 0.8583, Recall: 0.6499, F1: 0.7397\n"
     ]
    },
    {
     "name": "stderr",
     "output_type": "stream",
     "text": [
      "100%|██████████| 24/24 [00:04<00:00,  5.89it/s]\n",
      "100%|██████████| 24/24 [00:04<00:00,  5.33it/s]\n"
     ]
    },
    {
     "name": "stdout",
     "output_type": "stream",
     "text": [
      "2025-03-27 14:29:11 Epoch [56/100], Train Loss: 0.3635, Valid Loss: 0.4854, Precision: 0.8964, Recall: 0.6156, F1: 0.7299\n"
     ]
    },
    {
     "name": "stderr",
     "output_type": "stream",
     "text": [
      "100%|██████████| 24/24 [00:04<00:00,  5.31it/s]\n",
      "100%|██████████| 24/24 [00:04<00:00,  5.26it/s]\n"
     ]
    },
    {
     "name": "stdout",
     "output_type": "stream",
     "text": [
      "2025-03-27 14:29:20 Epoch [57/100], Train Loss: 0.3592, Valid Loss: 0.4972, Precision: 0.8479, Recall: 0.6663, F1: 0.7462\n"
     ]
    },
    {
     "name": "stderr",
     "output_type": "stream",
     "text": [
      "100%|██████████| 24/24 [00:04<00:00,  5.82it/s]\n",
      "100%|██████████| 24/24 [00:04<00:00,  5.29it/s]\n"
     ]
    },
    {
     "name": "stdout",
     "output_type": "stream",
     "text": [
      "2025-03-27 14:29:29 Epoch [58/100], Train Loss: 0.3915, Valid Loss: 0.5100, Precision: 0.9126, Recall: 0.5658, F1: 0.6985\n"
     ]
    },
    {
     "name": "stderr",
     "output_type": "stream",
     "text": [
      "100%|██████████| 24/24 [00:04<00:00,  5.63it/s]\n",
      "100%|██████████| 24/24 [00:04<00:00,  5.33it/s]\n"
     ]
    },
    {
     "name": "stdout",
     "output_type": "stream",
     "text": [
      "2025-03-27 14:29:38 Epoch [59/100], Train Loss: 0.3759, Valid Loss: 0.4842, Precision: 0.8727, Recall: 0.6478, F1: 0.7436\n"
     ]
    },
    {
     "name": "stderr",
     "output_type": "stream",
     "text": [
      "100%|██████████| 24/24 [00:04<00:00,  5.47it/s]\n",
      "100%|██████████| 24/24 [00:04<00:00,  4.88it/s]\n"
     ]
    },
    {
     "name": "stdout",
     "output_type": "stream",
     "text": [
      "2025-03-27 14:29:47 Epoch [60/100], Train Loss: 0.3622, Valid Loss: 0.4876, Precision: 0.8867, Recall: 0.6198, F1: 0.7296\n"
     ]
    },
    {
     "name": "stderr",
     "output_type": "stream",
     "text": [
      "100%|██████████| 24/24 [00:04<00:00,  5.85it/s]\n",
      "100%|██████████| 24/24 [00:04<00:00,  5.28it/s]\n"
     ]
    },
    {
     "name": "stdout",
     "output_type": "stream",
     "text": [
      "2025-03-27 14:29:56 Epoch [61/100], Train Loss: 0.3838, Valid Loss: 0.5314, Precision: 0.8968, Recall: 0.5724, F1: 0.6988\n"
     ]
    },
    {
     "name": "stderr",
     "output_type": "stream",
     "text": [
      "100%|██████████| 24/24 [00:04<00:00,  5.67it/s]\n",
      "100%|██████████| 24/24 [00:04<00:00,  5.20it/s]\n"
     ]
    },
    {
     "name": "stdout",
     "output_type": "stream",
     "text": [
      "2025-03-27 14:30:05 Epoch [62/100], Train Loss: 0.3624, Valid Loss: 0.4761, Precision: 0.8441, Recall: 0.6959, F1: 0.7629\n"
     ]
    },
    {
     "name": "stderr",
     "output_type": "stream",
     "text": [
      "100%|██████████| 24/24 [00:04<00:00,  5.73it/s]\n",
      "100%|██████████| 24/24 [00:04<00:00,  4.92it/s]\n"
     ]
    },
    {
     "name": "stdout",
     "output_type": "stream",
     "text": [
      "2025-03-27 14:30:14 Epoch [63/100], Train Loss: 0.3800, Valid Loss: 0.4897, Precision: 0.8614, Recall: 0.6526, F1: 0.7426\n"
     ]
    },
    {
     "name": "stderr",
     "output_type": "stream",
     "text": [
      "100%|██████████| 24/24 [00:04<00:00,  5.71it/s]\n",
      "100%|██████████| 24/24 [00:04<00:00,  5.25it/s]\n"
     ]
    },
    {
     "name": "stdout",
     "output_type": "stream",
     "text": [
      "2025-03-27 14:30:23 Epoch [64/100], Train Loss: 0.3469, Valid Loss: 0.4654, Precision: 0.8454, Recall: 0.6885, F1: 0.7589\n"
     ]
    },
    {
     "name": "stderr",
     "output_type": "stream",
     "text": [
      "100%|██████████| 24/24 [00:04<00:00,  5.84it/s]\n",
      "100%|██████████| 24/24 [00:04<00:00,  4.99it/s]"
     ]
    },
    {
     "name": "stdout",
     "output_type": "stream",
     "text": [
      "2025-03-27 14:30:32 Epoch [65/100], Train Loss: 0.3488, Valid Loss: 0.4712, Precision: 0.8193, Recall: 0.7159, F1: 0.7641\n"
     ]
    },
    {
     "name": "stderr",
     "output_type": "stream",
     "text": [
      "\n",
      "100%|██████████| 24/24 [00:04<00:00,  5.43it/s]\n",
      "100%|██████████| 24/24 [00:04<00:00,  5.28it/s]\n"
     ]
    },
    {
     "name": "stdout",
     "output_type": "stream",
     "text": [
      "2025-03-27 14:30:41 Epoch [66/100], Train Loss: 0.3469, Valid Loss: 0.4447, Precision: 0.8430, Recall: 0.7145, F1: 0.7734\n",
      "Save model!\n"
     ]
    },
    {
     "name": "stderr",
     "output_type": "stream",
     "text": [
      "100%|██████████| 24/24 [00:04<00:00,  5.25it/s]\n",
      "100%|██████████| 24/24 [00:04<00:00,  5.26it/s]\n"
     ]
    },
    {
     "name": "stdout",
     "output_type": "stream",
     "text": [
      "2025-03-27 14:30:51 Epoch [67/100], Train Loss: 0.3483, Valid Loss: 0.4597, Precision: 0.8289, Recall: 0.7183, F1: 0.7696\n"
     ]
    },
    {
     "name": "stderr",
     "output_type": "stream",
     "text": [
      "100%|██████████| 24/24 [00:04<00:00,  5.78it/s]\n",
      "100%|██████████| 24/24 [00:04<00:00,  5.30it/s]\n"
     ]
    },
    {
     "name": "stdout",
     "output_type": "stream",
     "text": [
      "2025-03-27 14:31:00 Epoch [68/100], Train Loss: 0.3534, Valid Loss: 0.4757, Precision: 0.8743, Recall: 0.6564, F1: 0.7499\n"
     ]
    },
    {
     "name": "stderr",
     "output_type": "stream",
     "text": [
      "100%|██████████| 24/24 [00:04<00:00,  5.83it/s]\n",
      "100%|██████████| 24/24 [00:04<00:00,  5.31it/s]\n"
     ]
    },
    {
     "name": "stdout",
     "output_type": "stream",
     "text": [
      "2025-03-27 14:31:09 Epoch [69/100], Train Loss: 0.3374, Valid Loss: 0.4983, Precision: 0.8835, Recall: 0.6293, F1: 0.7351\n"
     ]
    },
    {
     "name": "stderr",
     "output_type": "stream",
     "text": [
      "100%|██████████| 24/24 [00:04<00:00,  5.81it/s]\n",
      "100%|██████████| 24/24 [00:04<00:00,  5.00it/s]\n"
     ]
    },
    {
     "name": "stdout",
     "output_type": "stream",
     "text": [
      "2025-03-27 14:31:18 Epoch [70/100], Train Loss: 0.3356, Valid Loss: 0.5033, Precision: 0.8659, Recall: 0.6553, F1: 0.7460\n"
     ]
    },
    {
     "name": "stderr",
     "output_type": "stream",
     "text": [
      "100%|██████████| 24/24 [00:04<00:00,  5.32it/s]\n",
      "100%|██████████| 24/24 [00:04<00:00,  5.23it/s]\n"
     ]
    },
    {
     "name": "stdout",
     "output_type": "stream",
     "text": [
      "2025-03-27 14:31:27 Epoch [71/100], Train Loss: 0.3272, Valid Loss: 0.4845, Precision: 0.8786, Recall: 0.6451, F1: 0.7440\n"
     ]
    },
    {
     "name": "stderr",
     "output_type": "stream",
     "text": [
      "100%|██████████| 24/24 [00:04<00:00,  5.88it/s]\n",
      "100%|██████████| 24/24 [00:04<00:00,  5.28it/s]\n"
     ]
    },
    {
     "name": "stdout",
     "output_type": "stream",
     "text": [
      "2025-03-27 14:31:36 Epoch [72/100], Train Loss: 0.3226, Valid Loss: 0.4919, Precision: 0.8695, Recall: 0.6519, F1: 0.7452\n"
     ]
    },
    {
     "name": "stderr",
     "output_type": "stream",
     "text": [
      "100%|██████████| 24/24 [00:04<00:00,  5.43it/s]\n",
      "100%|██████████| 24/24 [00:04<00:00,  4.91it/s]\n"
     ]
    },
    {
     "name": "stdout",
     "output_type": "stream",
     "text": [
      "2025-03-27 14:31:45 Epoch [73/100], Train Loss: 0.3330, Valid Loss: 0.4819, Precision: 0.8504, Recall: 0.6852, F1: 0.7589\n"
     ]
    },
    {
     "name": "stderr",
     "output_type": "stream",
     "text": [
      "100%|██████████| 24/24 [00:04<00:00,  5.81it/s]\n",
      "100%|██████████| 24/24 [00:04<00:00,  5.24it/s]\n"
     ]
    },
    {
     "name": "stdout",
     "output_type": "stream",
     "text": [
      "2025-03-27 14:31:54 Epoch [74/100], Train Loss: 0.3225, Valid Loss: 0.4884, Precision: 0.8822, Recall: 0.6350, F1: 0.7384\n"
     ]
    },
    {
     "name": "stderr",
     "output_type": "stream",
     "text": [
      "100%|██████████| 24/24 [00:04<00:00,  5.80it/s]\n",
      "100%|██████████| 24/24 [00:04<00:00,  5.13it/s]"
     ]
    },
    {
     "name": "stdout",
     "output_type": "stream",
     "text": [
      "2025-03-27 14:32:03 Epoch [75/100], Train Loss: 0.3278, Valid Loss: 0.5066, Precision: 0.8775, Recall: 0.6397, F1: 0.7400\n"
     ]
    },
    {
     "name": "stderr",
     "output_type": "stream",
     "text": [
      "\n",
      "100%|██████████| 24/24 [00:04<00:00,  5.84it/s]\n",
      "100%|██████████| 24/24 [00:04<00:00,  4.95it/s]\n"
     ]
    },
    {
     "name": "stdout",
     "output_type": "stream",
     "text": [
      "2025-03-27 14:32:12 Epoch [76/100], Train Loss: 0.3183, Valid Loss: 0.4844, Precision: 0.8688, Recall: 0.6567, F1: 0.7480\n"
     ]
    },
    {
     "name": "stderr",
     "output_type": "stream",
     "text": [
      "100%|██████████| 24/24 [00:04<00:00,  5.82it/s]\n",
      "100%|██████████| 24/24 [00:05<00:00,  4.80it/s]\n"
     ]
    },
    {
     "name": "stdout",
     "output_type": "stream",
     "text": [
      "2025-03-27 14:32:21 Epoch [77/100], Train Loss: 0.3173, Valid Loss: 0.5065, Precision: 0.8888, Recall: 0.6286, F1: 0.7364\n"
     ]
    },
    {
     "name": "stderr",
     "output_type": "stream",
     "text": [
      "100%|██████████| 24/24 [00:04<00:00,  5.85it/s]\n",
      "100%|██████████| 24/24 [00:04<00:00,  5.23it/s]\n"
     ]
    },
    {
     "name": "stdout",
     "output_type": "stream",
     "text": [
      "2025-03-27 14:32:30 Epoch [78/100], Train Loss: 0.3149, Valid Loss: 0.5052, Precision: 0.8755, Recall: 0.6496, F1: 0.7458\n"
     ]
    },
    {
     "name": "stderr",
     "output_type": "stream",
     "text": [
      "100%|██████████| 24/24 [00:04<00:00,  5.73it/s]\n",
      "100%|██████████| 24/24 [00:04<00:00,  5.21it/s]\n"
     ]
    },
    {
     "name": "stdout",
     "output_type": "stream",
     "text": [
      "2025-03-27 14:32:39 Epoch [79/100], Train Loss: 0.3121, Valid Loss: 0.4913, Precision: 0.8745, Recall: 0.6569, F1: 0.7503\n"
     ]
    },
    {
     "name": "stderr",
     "output_type": "stream",
     "text": [
      "100%|██████████| 24/24 [00:04<00:00,  5.80it/s]\n",
      "100%|██████████| 24/24 [00:04<00:00,  4.93it/s]\n"
     ]
    },
    {
     "name": "stdout",
     "output_type": "stream",
     "text": [
      "2025-03-27 14:32:48 Epoch [80/100], Train Loss: 0.3103, Valid Loss: 0.4992, Precision: 0.8762, Recall: 0.6492, F1: 0.7458\n"
     ]
    },
    {
     "name": "stderr",
     "output_type": "stream",
     "text": [
      "100%|██████████| 24/24 [00:04<00:00,  5.83it/s]\n",
      "100%|██████████| 24/24 [00:04<00:00,  5.34it/s]\n"
     ]
    },
    {
     "name": "stdout",
     "output_type": "stream",
     "text": [
      "2025-03-27 14:32:56 Epoch [81/100], Train Loss: 0.3113, Valid Loss: 0.4928, Precision: 0.8666, Recall: 0.6617, F1: 0.7504\n"
     ]
    },
    {
     "name": "stderr",
     "output_type": "stream",
     "text": [
      "100%|██████████| 24/24 [00:04<00:00,  5.63it/s]\n",
      "100%|██████████| 24/24 [00:04<00:00,  5.34it/s]\n"
     ]
    },
    {
     "name": "stdout",
     "output_type": "stream",
     "text": [
      "2025-03-27 14:33:05 Epoch [82/100], Train Loss: 0.3102, Valid Loss: 0.4981, Precision: 0.8858, Recall: 0.6395, F1: 0.7428\n"
     ]
    },
    {
     "name": "stderr",
     "output_type": "stream",
     "text": [
      "100%|██████████| 24/24 [00:04<00:00,  5.70it/s]\n",
      "100%|██████████| 24/24 [00:04<00:00,  5.25it/s]\n"
     ]
    },
    {
     "name": "stdout",
     "output_type": "stream",
     "text": [
      "2025-03-27 14:33:14 Epoch [83/100], Train Loss: 0.3057, Valid Loss: 0.4815, Precision: 0.8602, Recall: 0.6798, F1: 0.7594\n"
     ]
    },
    {
     "name": "stderr",
     "output_type": "stream",
     "text": [
      "100%|██████████| 24/24 [00:04<00:00,  5.06it/s]\n",
      "100%|██████████| 24/24 [00:04<00:00,  5.22it/s]\n"
     ]
    },
    {
     "name": "stdout",
     "output_type": "stream",
     "text": [
      "2025-03-27 14:33:24 Epoch [84/100], Train Loss: 0.3161, Valid Loss: 0.4929, Precision: 0.8765, Recall: 0.6576, F1: 0.7514\n"
     ]
    },
    {
     "name": "stderr",
     "output_type": "stream",
     "text": [
      "100%|██████████| 24/24 [00:04<00:00,  5.85it/s]\n",
      "100%|██████████| 24/24 [00:04<00:00,  5.31it/s]\n"
     ]
    },
    {
     "name": "stdout",
     "output_type": "stream",
     "text": [
      "2025-03-27 14:33:32 Epoch [85/100], Train Loss: 0.3050, Valid Loss: 0.4964, Precision: 0.8695, Recall: 0.6575, F1: 0.7488\n"
     ]
    },
    {
     "name": "stderr",
     "output_type": "stream",
     "text": [
      "100%|██████████| 24/24 [00:04<00:00,  5.67it/s]\n",
      "100%|██████████| 24/24 [00:04<00:00,  5.25it/s]\n"
     ]
    },
    {
     "name": "stdout",
     "output_type": "stream",
     "text": [
      "2025-03-27 14:33:41 Epoch [86/100], Train Loss: 0.2991, Valid Loss: 0.4948, Precision: 0.8710, Recall: 0.6621, F1: 0.7524\n"
     ]
    },
    {
     "name": "stderr",
     "output_type": "stream",
     "text": [
      "100%|██████████| 24/24 [00:04<00:00,  5.69it/s]\n",
      "100%|██████████| 24/24 [00:05<00:00,  4.78it/s]\n"
     ]
    },
    {
     "name": "stdout",
     "output_type": "stream",
     "text": [
      "2025-03-27 14:33:50 Epoch [87/100], Train Loss: 0.3054, Valid Loss: 0.5018, Precision: 0.8742, Recall: 0.6521, F1: 0.7470\n"
     ]
    },
    {
     "name": "stderr",
     "output_type": "stream",
     "text": [
      "100%|██████████| 24/24 [00:04<00:00,  5.72it/s]\n",
      "100%|██████████| 24/24 [00:04<00:00,  5.17it/s]\n"
     ]
    },
    {
     "name": "stdout",
     "output_type": "stream",
     "text": [
      "2025-03-27 14:33:59 Epoch [88/100], Train Loss: 0.3021, Valid Loss: 0.4960, Precision: 0.8704, Recall: 0.6575, F1: 0.7491\n"
     ]
    },
    {
     "name": "stderr",
     "output_type": "stream",
     "text": [
      "100%|██████████| 24/24 [00:04<00:00,  5.81it/s]\n",
      "100%|██████████| 24/24 [00:04<00:00,  5.28it/s]\n"
     ]
    },
    {
     "name": "stdout",
     "output_type": "stream",
     "text": [
      "2025-03-27 14:34:08 Epoch [89/100], Train Loss: 0.3010, Valid Loss: 0.4965, Precision: 0.8720, Recall: 0.6583, F1: 0.7502\n"
     ]
    },
    {
     "name": "stderr",
     "output_type": "stream",
     "text": [
      "100%|██████████| 24/24 [00:04<00:00,  5.66it/s]\n",
      "100%|██████████| 24/24 [00:04<00:00,  4.92it/s]"
     ]
    },
    {
     "name": "stdout",
     "output_type": "stream",
     "text": [
      "2025-03-27 14:34:17 Epoch [90/100], Train Loss: 0.2992, Valid Loss: 0.4967, Precision: 0.8744, Recall: 0.6568, F1: 0.7501\n"
     ]
    },
    {
     "name": "stderr",
     "output_type": "stream",
     "text": [
      "\n",
      "100%|██████████| 24/24 [00:04<00:00,  5.76it/s]\n",
      "100%|██████████| 24/24 [00:04<00:00,  5.32it/s]\n"
     ]
    },
    {
     "name": "stdout",
     "output_type": "stream",
     "text": [
      "2025-03-27 14:34:26 Epoch [91/100], Train Loss: 0.2963, Valid Loss: 0.4943, Precision: 0.8746, Recall: 0.6563, F1: 0.7499\n"
     ]
    },
    {
     "name": "stderr",
     "output_type": "stream",
     "text": [
      "100%|██████████| 24/24 [00:04<00:00,  5.56it/s]\n",
      "100%|██████████| 24/24 [00:04<00:00,  5.27it/s]\n"
     ]
    },
    {
     "name": "stdout",
     "output_type": "stream",
     "text": [
      "2025-03-27 14:34:35 Epoch [92/100], Train Loss: 0.2941, Valid Loss: 0.4940, Precision: 0.8724, Recall: 0.6575, F1: 0.7499\n"
     ]
    },
    {
     "name": "stderr",
     "output_type": "stream",
     "text": [
      "100%|██████████| 24/24 [00:04<00:00,  5.87it/s]\n",
      "100%|██████████| 24/24 [00:04<00:00,  5.31it/s]\n"
     ]
    },
    {
     "name": "stdout",
     "output_type": "stream",
     "text": [
      "2025-03-27 14:34:44 Epoch [93/100], Train Loss: 0.3006, Valid Loss: 0.4916, Precision: 0.8698, Recall: 0.6615, F1: 0.7515\n"
     ]
    },
    {
     "name": "stderr",
     "output_type": "stream",
     "text": [
      "100%|██████████| 24/24 [00:04<00:00,  5.64it/s]\n",
      "100%|██████████| 24/24 [00:04<00:00,  4.82it/s]\n"
     ]
    },
    {
     "name": "stdout",
     "output_type": "stream",
     "text": [
      "2025-03-27 14:34:53 Epoch [94/100], Train Loss: 0.2973, Valid Loss: 0.4911, Precision: 0.8687, Recall: 0.6637, F1: 0.7524\n"
     ]
    },
    {
     "name": "stderr",
     "output_type": "stream",
     "text": [
      "100%|██████████| 24/24 [00:04<00:00,  5.74it/s]\n",
      "100%|██████████| 24/24 [00:04<00:00,  5.30it/s]\n"
     ]
    },
    {
     "name": "stdout",
     "output_type": "stream",
     "text": [
      "2025-03-27 14:35:02 Epoch [95/100], Train Loss: 0.2967, Valid Loss: 0.4931, Precision: 0.8693, Recall: 0.6621, F1: 0.7517\n"
     ]
    },
    {
     "name": "stderr",
     "output_type": "stream",
     "text": [
      "100%|██████████| 24/24 [00:04<00:00,  5.58it/s]\n",
      "100%|██████████| 24/24 [00:04<00:00,  5.23it/s]\n"
     ]
    },
    {
     "name": "stdout",
     "output_type": "stream",
     "text": [
      "2025-03-27 14:35:11 Epoch [96/100], Train Loss: 0.2991, Valid Loss: 0.4949, Precision: 0.8704, Recall: 0.6596, F1: 0.7504\n"
     ]
    },
    {
     "name": "stderr",
     "output_type": "stream",
     "text": [
      "100%|██████████| 24/24 [00:04<00:00,  5.81it/s]\n",
      "100%|██████████| 24/24 [00:05<00:00,  4.77it/s]\n"
     ]
    },
    {
     "name": "stdout",
     "output_type": "stream",
     "text": [
      "2025-03-27 14:35:20 Epoch [97/100], Train Loss: 0.3016, Valid Loss: 0.4962, Precision: 0.8705, Recall: 0.6573, F1: 0.7491\n"
     ]
    },
    {
     "name": "stderr",
     "output_type": "stream",
     "text": [
      "100%|██████████| 24/24 [00:04<00:00,  5.86it/s]\n",
      "100%|██████████| 24/24 [00:04<00:00,  5.25it/s]\n"
     ]
    },
    {
     "name": "stdout",
     "output_type": "stream",
     "text": [
      "2025-03-27 14:35:29 Epoch [98/100], Train Loss: 0.3072, Valid Loss: 0.4964, Precision: 0.8711, Recall: 0.6568, F1: 0.7489\n"
     ]
    },
    {
     "name": "stderr",
     "output_type": "stream",
     "text": [
      "100%|██████████| 24/24 [00:04<00:00,  5.72it/s]\n",
      "100%|██████████| 24/24 [00:04<00:00,  5.28it/s]\n"
     ]
    },
    {
     "name": "stdout",
     "output_type": "stream",
     "text": [
      "2025-03-27 14:35:38 Epoch [99/100], Train Loss: 0.2969, Valid Loss: 0.4964, Precision: 0.8712, Recall: 0.6568, F1: 0.7489\n"
     ]
    },
    {
     "name": "stderr",
     "output_type": "stream",
     "text": [
      "100%|██████████| 24/24 [00:04<00:00,  5.48it/s]\n",
      "100%|██████████| 24/24 [00:04<00:00,  4.85it/s]\n"
     ]
    },
    {
     "name": "stdout",
     "output_type": "stream",
     "text": [
      "2025-03-27 14:35:47 Epoch [100/100], Train Loss: 0.3001, Valid Loss: 0.4964, Precision: 0.8711, Recall: 0.6568, F1: 0.7489\n"
     ]
    }
   ],
   "source": [
    "os.makedirs(args.output_dir, exist_ok=True)\n",
    "\n",
    "with open(os.path.join(args.output_dir, 'arguments.json'), 'w') as f:\n",
    "    json.dump(vars(args), f)\n",
    "\n",
    "# args.device = torch.device(f'cuda:{args.device}' if torch.cuda.is_available() else 'cpu')\n",
    "\n",
    "P.train()"
   ]
  },
  {
   "cell_type": "code",
   "execution_count": 8,
   "id": "61819d4c-53ea-4080-bbd4-2e11ae02ca02",
   "metadata": {},
   "outputs": [
    {
     "name": "stdout",
     "output_type": "stream",
     "text": [
      "Evaluating...\n",
      "Precision: 0.8851, Recall: 0.6971, F1: 0.7799\n",
      "CPU times: user 24min, sys: 6.05 s, total: 24min 6s\n",
      "Wall time: 6min 57s\n"
     ]
    }
   ],
   "source": [
    "%%time\n",
    "P.model = load_model(os.path.join(P.args.output_dir, 'model.pt'), P.model)\n",
    "result = P.evaluate()\n",
    "f1 = result['eval_f1']\n",
    "precision = result['eval_precision']\n",
    "recall = result['eval_recall']\n",
    "print(f'Precision: {precision:.4f}, Recall: {recall:.4f}, F1: {f1:.4f}')\n",
    "\n",
    "with open(os.path.join(args.output_dir, 'eval_results.json'), 'w') as f:\n",
    "    json.dump(result, f)\n",
    "\n",
    "print(f\"Saved to {args.output_dir}\")"
   ]
  },
  {
   "cell_type": "code",
   "execution_count": null,
   "id": "4a2380ca-6958-4b0a-b4a9-2f137df27422",
   "metadata": {},
   "outputs": [],
   "source": []
  }
 ],
 "metadata": {
  "kernelspec": {
   "display_name": "passrefinder",
   "language": "python",
   "name": "passrefinder"
  },
  "language_info": {
   "codemirror_mode": {
    "name": "ipython",
    "version": 3
   },
   "file_extension": ".py",
   "mimetype": "text/x-python",
   "name": "python",
   "nbconvert_exporter": "python",
   "pygments_lexer": "ipython3",
   "version": "3.10.14"
  }
 },
 "nbformat": 4,
 "nbformat_minor": 5
}
