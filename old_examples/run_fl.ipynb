{
 "cells": [
  {
   "cell_type": "code",
   "execution_count": 1,
   "id": "3e94e028-9098-4d66-a008-e895ac8858f2",
   "metadata": {},
   "outputs": [],
   "source": [
    "import json\n",
    "import os\n",
    "os.environ[\"CUDA_DEVICE_ORDER\"]=\"PCI_BUS_ID\"\n",
    "os.environ[\"CUDA_VISIBLE_DEVICES\"]=\"0\"\n",
    "import numpy as np\n",
    "import random\n",
    "import torch\n",
    "from torch.optim import Adam\n",
    "import dgl\n",
    "from datetime import datetime\n",
    "\n",
    "from src import *\n",
    "from pprint import pprint\n",
    "current_time = datetime.now().strftime(\"%Y-%m-%d %H:%M:%S\")\n",
    "\n",
    "nclient = 2\n",
    "\n",
    "data_dir = './data_passrefinder-p'\n",
    "output_dir = f\"{data_dir}/output/fl_passrefinder/client_{nclient}/{current_time}\""
   ]
  },
  {
   "cell_type": "code",
   "execution_count": 2,
   "id": "a3e4eaca-2e0c-40f8-8501-8e1b37d03c13",
   "metadata": {},
   "outputs": [
    {
     "name": "stdout",
     "output_type": "stream",
     "text": [
      "{'agg_type': 'no_hidden',\n",
      " 'device': 0,\n",
      " 'dropout': 0.5,\n",
      " 'embed_size': 1024,\n",
      " 'eval_batch_size': 2048,\n",
      " 'feature_file': './data_passrefinder-p/data/feature_dict.json',\n",
      " 'gnn_depth': 2,\n",
      " 'hidden_size': 1024,\n",
      " 'max_epoch': 100,\n",
      " 'max_lr': 0.001,\n",
      " 'nclient': 2,\n",
      " 'output_dir': './data_passrefinder-p/output/fl_passrefinder/client_2/2025-09-01 '\n",
      "               '20:45:15',\n",
      " 'random_seed': 42,\n",
      " 'relu': 0.2,\n",
      " 'reuse_rate_file': './data_passrefinder-p/data/reuse_rate_dict.json',\n",
      " 'reuse_th': 0.5,\n",
      " 'train_batch_size': 2048,\n",
      " 'warmup': 0.02}\n"
     ]
    }
   ],
   "source": [
    "from argparse import ArgumentParser\n",
    "parser = ArgumentParser()\n",
    "\n",
    "import argparse\n",
    "from pprint import pprint\n",
    "\n",
    "parser = argparse.ArgumentParser(description=\"Parser for model configuration\")\n",
    "\n",
    "parser.add_argument('--feature_file', type=str, default=f\"{data_dir}/data/feature_dict.json\", help='feature json file')\n",
    "parser.add_argument('--reuse_rate_file', type=str, default=f\"{data_dir}/data/reuse_rate_dict.json\", help='reuse rate json file')\n",
    "# parser.add_argument('--setting', type=str, required=True, help='graph learning setting: inductive/transductive')\n",
    "# parser.add_argument('--model_path', type=str, required=True, default=\"./model/\", help='model file path')\n",
    "parser.add_argument('--output_dir', type=str, default=output_dir, help='output path')\n",
    "parser.add_argument('--agg_type', type=str, default=\"no_hidden\", help='aggregation type')\n",
    "parser.add_argument('--nclient', type=int, default=nclient, help='number of clients')\n",
    "# parser.add_argument('--valid', type=float, default=0.2, help='split ratio of validation set')\n",
    "# parser.add_argument('--test', type=float, default=0.2, help='split ratio of test set')\n",
    "parser.add_argument('--dropout', type=float, default=0.5, help='dropout ratio')\n",
    "parser.add_argument('--random_seed', type=int, default=42, help='random seed for initialization')\n",
    "parser.add_argument('--relu', type=float, default=0.2, help='ReLU threshold')\n",
    "parser.add_argument('--reuse_th', type=float, default=0.5, help='threshold for reuse')\n",
    "parser.add_argument('--train_batch_size', type=int, default=2048, help='batch size for training')\n",
    "parser.add_argument('--eval_batch_size', type=int, default=2048, help='batch size for evaluation')\n",
    "parser.add_argument('--embed_size', type=int, default=1024, help='size of the embedding layer')\n",
    "parser.add_argument('--hidden_size', type=int, default=1024, help='size of the hidden layer')\n",
    "parser.add_argument('--gnn_depth', type=int, default=2, help='depth of the GNN')\n",
    "parser.add_argument('--max_lr', type=float, default=0.001, help='maximum learning rate')\n",
    "parser.add_argument('--warmup', type=float, default=0.02, help='warmup ratio for learning rate')\n",
    "parser.add_argument('--max_epoch', type=int, default=100, help='maximum number of epochs')\n",
    "# parser.add_argument('--early_stop', type=int, default=40, help='early stopping epochs')\n",
    "parser.add_argument('--device', type=int, default=0, help='GPU ID')\n",
    "\n",
    "args = parser.parse_args(args=[])\n",
    "pprint(vars(args))\n",
    "\n",
    "torch.manual_seed(args.random_seed)\n",
    "torch.cuda.manual_seed(args.random_seed)\n",
    "dgl.seed(args.random_seed)\n",
    "np.random.seed(args.random_seed)\n",
    "random.seed(args.random_seed)"
   ]
  },
  {
   "cell_type": "code",
   "execution_count": 3,
   "id": "826581e9-1e24-4e6f-91c2-ae90530983c6",
   "metadata": {},
   "outputs": [
    {
     "name": "stdout",
     "output_type": "stream",
     "text": [
      "Constructing graph...\n",
      "\u001b[FConstructing graph... Done\n",
      "Splitting graph...\n",
      "\u001b[FSplitting graph... Done\n"
     ]
    }
   ],
   "source": [
    "with open(args.feature_file, 'r') as f:\n",
    "    feature_dict = json.load(f)\n",
    "\n",
    "with open(args.reuse_rate_file, 'r') as f:\n",
    "    reuse_rate_dict = json.load(f)\n",
    "    \n",
    "\n",
    "\n",
    "g = construct_graph(feature_dict, reuse_rate_dict, args.reuse_th)\n",
    "g_dict, node_set_list, target_eids_dict = graph_split_FL(g, args.nclient, args.random_seed)\n",
    "\n",
    "\n",
    "\n",
    "# train_loader_list = []\n",
    "# for g, nodes in zip(g_split['train'], node_split['train']):\n",
    "#     train_loader_list.append(get_data_loader(g, nodes, args.train_batch_size, args.gnn_depth, suffle=True))\n",
    "# train_nfeat_list = P.pop_train_node_feature()\n",
    "\n",
    "# valid_loader = get_data_loader(g_split['valid'], node_split['valid'])\n",
    "# valid_nfeat = P.pop_node_feature('valid')\n",
    "# test_loader = get_data_loader(g_split['test'], node_split['test'])\n",
    "# test_nfeat = P.pop_node_feature('test')\n",
    "\n",
    "\n",
    "P = PassREfinder_FL(g_dict, node_set_list, target_eids_dict, args)\n",
    "# P.print_graph()"
   ]
  },
  {
   "cell_type": "code",
   "execution_count": 4,
   "id": "e5673ab1-a63d-40dc-a156-3216b59775c6",
   "metadata": {},
   "outputs": [
    {
     "name": "stdout",
     "output_type": "stream",
     "text": [
      "{'test': Graph(num_nodes={'website': 9927},\n",
      "      num_edges={('website', 'reuse', 'website'): 1211942, ('website', 'user', 'website'): 0},\n",
      "      metagraph=[('website', 'website', 'reuse'), ('website', 'website', 'user')]),\n",
      " 'train': [Graph(num_nodes={'website': 1000},\n",
      "      num_edges={('website', 'reuse', 'website'): 48990, ('website', 'user', 'website'): 0},\n",
      "      metagraph=[('website', 'website', 'reuse'), ('website', 'website', 'user')]),\n",
      "           Graph(num_nodes={'website': 1000},\n",
      "      num_edges={('website', 'reuse', 'website'): 14484, ('website', 'user', 'website'): 0},\n",
      "      metagraph=[('website', 'website', 'reuse'), ('website', 'website', 'user')])],\n",
      " 'valid': Graph(num_nodes={'website': 9927},\n",
      "      num_edges={('website', 'reuse', 'website'): 112316, ('website', 'user', 'website'): 0},\n",
      "      metagraph=[('website', 'website', 'reuse'), ('website', 'website', 'user')])}\n"
     ]
    }
   ],
   "source": [
    "pprint(g_dict)"
   ]
  },
  {
   "cell_type": "code",
   "execution_count": 5,
   "id": "39297350-c825-4a1d-9944-39c489028c7f",
   "metadata": {},
   "outputs": [
    {
     "name": "stdout",
     "output_type": "stream",
     "text": [
      "2025-09-01 20:45:25 start\n"
     ]
    },
    {
     "name": "stderr",
     "output_type": "stream",
     "text": [
      "100%|██████████| 2/2 [00:05<00:00,  2.94s/it]\n",
      "100%|██████████| 24/24 [00:05<00:00,  4.49it/s]"
     ]
    },
    {
     "name": "stdout",
     "output_type": "stream",
     "text": [
      "2025-09-01 20:45:37 Epoch [1/100], Train Loss: 0.7739, Valid Loss: 0.6946, Precision: 0.5316, Recall: 0.8632, F1: 0.6580\n"
     ]
    },
    {
     "name": "stderr",
     "output_type": "stream",
     "text": [
      "\n"
     ]
    },
    {
     "name": "stdout",
     "output_type": "stream",
     "text": [
      "Save model!\n"
     ]
    },
    {
     "name": "stderr",
     "output_type": "stream",
     "text": [
      "100%|██████████| 2/2 [00:04<00:00,  2.50s/it]\n",
      "100%|██████████| 24/24 [00:04<00:00,  5.44it/s]\n"
     ]
    },
    {
     "name": "stdout",
     "output_type": "stream",
     "text": [
      "2025-09-01 20:45:47 Epoch [2/100], Train Loss: 0.7967, Valid Loss: 0.6814, Precision: 0.5671, Recall: 0.6596, F1: 0.6098\n",
      "Save model!\n"
     ]
    },
    {
     "name": "stderr",
     "output_type": "stream",
     "text": [
      "100%|██████████| 2/2 [00:05<00:00,  2.59s/it]\n",
      "100%|██████████| 24/24 [00:04<00:00,  5.40it/s]\n"
     ]
    },
    {
     "name": "stdout",
     "output_type": "stream",
     "text": [
      "2025-09-01 20:45:57 Epoch [3/100], Train Loss: 0.7097, Valid Loss: 0.6775, Precision: 0.5785, Recall: 0.7771, F1: 0.6633\n",
      "Save model!\n"
     ]
    },
    {
     "name": "stderr",
     "output_type": "stream",
     "text": [
      "100%|██████████| 2/2 [00:05<00:00,  2.53s/it]\n",
      "100%|██████████| 24/24 [00:04<00:00,  4.99it/s]\n"
     ]
    },
    {
     "name": "stdout",
     "output_type": "stream",
     "text": [
      "2025-09-01 20:46:07 Epoch [4/100], Train Loss: 0.6944, Valid Loss: 0.6777, Precision: 0.6329, Recall: 0.4394, F1: 0.5187\n"
     ]
    },
    {
     "name": "stderr",
     "output_type": "stream",
     "text": [
      "100%|██████████| 2/2 [00:04<00:00,  2.46s/it]\n",
      "100%|██████████| 24/24 [00:04<00:00,  5.38it/s]\n"
     ]
    },
    {
     "name": "stdout",
     "output_type": "stream",
     "text": [
      "2025-09-01 20:46:17 Epoch [5/100], Train Loss: 0.6875, Valid Loss: 0.6749, Precision: 0.6657, Recall: 0.3375, F1: 0.4479\n",
      "Save model!\n"
     ]
    },
    {
     "name": "stderr",
     "output_type": "stream",
     "text": [
      "100%|██████████| 2/2 [00:04<00:00,  2.42s/it]\n",
      "100%|██████████| 24/24 [00:04<00:00,  5.28it/s]\n"
     ]
    },
    {
     "name": "stdout",
     "output_type": "stream",
     "text": [
      "2025-09-01 20:46:27 Epoch [6/100], Train Loss: 0.6679, Valid Loss: 0.6635, Precision: 0.6839, Recall: 0.5359, F1: 0.6009\n",
      "Save model!\n"
     ]
    },
    {
     "name": "stderr",
     "output_type": "stream",
     "text": [
      "100%|██████████| 2/2 [00:04<00:00,  2.37s/it]\n",
      "100%|██████████| 24/24 [00:04<00:00,  5.22it/s]\n"
     ]
    },
    {
     "name": "stdout",
     "output_type": "stream",
     "text": [
      "2025-09-01 20:46:37 Epoch [7/100], Train Loss: 0.6612, Valid Loss: 0.6599, Precision: 0.6932, Recall: 0.5000, F1: 0.5809\n",
      "Save model!\n"
     ]
    },
    {
     "name": "stderr",
     "output_type": "stream",
     "text": [
      "100%|██████████| 2/2 [00:04<00:00,  2.49s/it]\n",
      "100%|██████████| 24/24 [00:04<00:00,  5.51it/s]\n"
     ]
    },
    {
     "name": "stdout",
     "output_type": "stream",
     "text": [
      "2025-09-01 20:46:47 Epoch [8/100], Train Loss: 0.6641, Valid Loss: 0.6578, Precision: 0.6985, Recall: 0.4768, F1: 0.5667\n",
      "Save model!\n"
     ]
    },
    {
     "name": "stderr",
     "output_type": "stream",
     "text": [
      "100%|██████████| 2/2 [00:04<00:00,  2.37s/it]\n",
      "100%|██████████| 24/24 [00:04<00:00,  5.54it/s]\n"
     ]
    },
    {
     "name": "stdout",
     "output_type": "stream",
     "text": [
      "2025-09-01 20:46:57 Epoch [9/100], Train Loss: 0.6591, Valid Loss: 0.6573, Precision: 0.6868, Recall: 0.5523, F1: 0.6122\n",
      "Save model!\n"
     ]
    },
    {
     "name": "stderr",
     "output_type": "stream",
     "text": [
      "100%|██████████| 2/2 [00:04<00:00,  2.39s/it]\n",
      "100%|██████████| 24/24 [00:04<00:00,  5.09it/s]\n"
     ]
    },
    {
     "name": "stdout",
     "output_type": "stream",
     "text": [
      "2025-09-01 20:47:07 Epoch [10/100], Train Loss: 0.6574, Valid Loss: 0.6541, Precision: 0.7053, Recall: 0.4820, F1: 0.5726\n",
      "Save model!\n"
     ]
    },
    {
     "name": "stderr",
     "output_type": "stream",
     "text": [
      "100%|██████████| 2/2 [00:04<00:00,  2.36s/it]\n",
      "100%|██████████| 24/24 [00:04<00:00,  5.25it/s]\n"
     ]
    },
    {
     "name": "stdout",
     "output_type": "stream",
     "text": [
      "2025-09-01 20:47:17 Epoch [11/100], Train Loss: 0.6535, Valid Loss: 0.6513, Precision: 0.6800, Recall: 0.5926, F1: 0.6333\n",
      "Save model!\n"
     ]
    },
    {
     "name": "stderr",
     "output_type": "stream",
     "text": [
      "100%|██████████| 2/2 [00:04<00:00,  2.42s/it]\n",
      "100%|██████████| 24/24 [00:04<00:00,  5.52it/s]\n"
     ]
    },
    {
     "name": "stdout",
     "output_type": "stream",
     "text": [
      "2025-09-01 20:47:27 Epoch [12/100], Train Loss: 0.6527, Valid Loss: 0.6542, Precision: 0.6508, Recall: 0.6416, F1: 0.6461\n"
     ]
    },
    {
     "name": "stderr",
     "output_type": "stream",
     "text": [
      "100%|██████████| 2/2 [00:04<00:00,  2.33s/it]\n",
      "100%|██████████| 24/24 [00:05<00:00,  4.69it/s]\n"
     ]
    },
    {
     "name": "stdout",
     "output_type": "stream",
     "text": [
      "2025-09-01 20:47:37 Epoch [13/100], Train Loss: 0.6572, Valid Loss: 0.6519, Precision: 0.6830, Recall: 0.5904, F1: 0.6333\n"
     ]
    },
    {
     "name": "stderr",
     "output_type": "stream",
     "text": [
      "100%|██████████| 2/2 [00:04<00:00,  2.39s/it]\n",
      "100%|██████████| 24/24 [00:04<00:00,  5.01it/s]"
     ]
    },
    {
     "name": "stdout",
     "output_type": "stream",
     "text": [
      "2025-09-01 20:47:46 Epoch [14/100], Train Loss: 0.6535, Valid Loss: 0.6525, Precision: 0.7222, Recall: 0.3799, F1: 0.4979\n"
     ]
    },
    {
     "name": "stderr",
     "output_type": "stream",
     "text": [
      "\n",
      "100%|██████████| 2/2 [00:04<00:00,  2.42s/it]\n",
      "100%|██████████| 24/24 [00:04<00:00,  5.53it/s]\n"
     ]
    },
    {
     "name": "stdout",
     "output_type": "stream",
     "text": [
      "2025-09-01 20:47:56 Epoch [15/100], Train Loss: 0.6502, Valid Loss: 0.6507, Precision: 0.6584, Recall: 0.7419, F1: 0.6977\n",
      "Save model!\n"
     ]
    },
    {
     "name": "stderr",
     "output_type": "stream",
     "text": [
      "100%|██████████| 2/2 [00:04<00:00,  2.47s/it]\n",
      "100%|██████████| 24/24 [00:04<00:00,  5.48it/s]\n"
     ]
    },
    {
     "name": "stdout",
     "output_type": "stream",
     "text": [
      "2025-09-01 20:48:06 Epoch [16/100], Train Loss: 0.6470, Valid Loss: 0.6460, Precision: 0.7184, Recall: 0.4982, F1: 0.5884\n",
      "Save model!\n"
     ]
    },
    {
     "name": "stderr",
     "output_type": "stream",
     "text": [
      "100%|██████████| 2/2 [00:04<00:00,  2.36s/it]\n",
      "100%|██████████| 24/24 [00:04<00:00,  5.53it/s]\n"
     ]
    },
    {
     "name": "stdout",
     "output_type": "stream",
     "text": [
      "2025-09-01 20:48:15 Epoch [17/100], Train Loss: 0.6545, Valid Loss: 0.6484, Precision: 0.6875, Recall: 0.6220, F1: 0.6532\n"
     ]
    },
    {
     "name": "stderr",
     "output_type": "stream",
     "text": [
      "100%|██████████| 2/2 [00:04<00:00,  2.39s/it]\n",
      "100%|██████████| 24/24 [00:04<00:00,  4.86it/s]\n"
     ]
    },
    {
     "name": "stdout",
     "output_type": "stream",
     "text": [
      "2025-09-01 20:48:25 Epoch [18/100], Train Loss: 0.6512, Valid Loss: 0.6568, Precision: 0.7268, Recall: 0.4347, F1: 0.5440\n"
     ]
    },
    {
     "name": "stderr",
     "output_type": "stream",
     "text": [
      "100%|██████████| 2/2 [00:04<00:00,  2.35s/it]\n",
      "100%|██████████| 24/24 [00:04<00:00,  4.91it/s]\n"
     ]
    },
    {
     "name": "stdout",
     "output_type": "stream",
     "text": [
      "2025-09-01 20:48:35 Epoch [19/100], Train Loss: 0.6423, Valid Loss: 0.6465, Precision: 0.6117, Recall: 0.8427, F1: 0.7089\n"
     ]
    },
    {
     "name": "stderr",
     "output_type": "stream",
     "text": [
      "100%|██████████| 2/2 [00:04<00:00,  2.42s/it]\n",
      "100%|██████████| 24/24 [00:04<00:00,  5.03it/s]\n"
     ]
    },
    {
     "name": "stdout",
     "output_type": "stream",
     "text": [
      "2025-09-01 20:48:45 Epoch [20/100], Train Loss: 0.6480, Valid Loss: 0.6311, Precision: 0.6969, Recall: 0.6387, F1: 0.6665\n",
      "Save model!\n"
     ]
    },
    {
     "name": "stderr",
     "output_type": "stream",
     "text": [
      "100%|██████████| 2/2 [00:04<00:00,  2.33s/it]\n",
      "100%|██████████| 24/24 [00:04<00:00,  5.14it/s]\n"
     ]
    },
    {
     "name": "stdout",
     "output_type": "stream",
     "text": [
      "2025-09-01 20:48:55 Epoch [21/100], Train Loss: 0.6492, Valid Loss: 0.6537, Precision: 0.6835, Recall: 0.5013, F1: 0.5784\n"
     ]
    },
    {
     "name": "stderr",
     "output_type": "stream",
     "text": [
      "100%|██████████| 2/2 [00:05<00:00,  2.54s/it]\n",
      "100%|██████████| 24/24 [00:04<00:00,  5.26it/s]"
     ]
    },
    {
     "name": "stdout",
     "output_type": "stream",
     "text": [
      "2025-09-01 20:49:05 Epoch [22/100], Train Loss: 0.6473, Valid Loss: 0.6422, Precision: 0.6485, Recall: 0.7544, F1: 0.6974\n"
     ]
    },
    {
     "name": "stderr",
     "output_type": "stream",
     "text": [
      "\n",
      "100%|██████████| 2/2 [00:04<00:00,  2.37s/it]\n",
      "100%|██████████| 24/24 [00:04<00:00,  5.33it/s]\n"
     ]
    },
    {
     "name": "stdout",
     "output_type": "stream",
     "text": [
      "2025-09-01 20:49:14 Epoch [23/100], Train Loss: 0.6436, Valid Loss: 0.6319, Precision: 0.6903, Recall: 0.6754, F1: 0.6828\n"
     ]
    },
    {
     "name": "stderr",
     "output_type": "stream",
     "text": [
      "100%|██████████| 2/2 [00:04<00:00,  2.43s/it]\n",
      "100%|██████████| 24/24 [00:05<00:00,  4.42it/s]\n"
     ]
    },
    {
     "name": "stdout",
     "output_type": "stream",
     "text": [
      "2025-09-01 20:49:24 Epoch [24/100], Train Loss: 0.6398, Valid Loss: 0.6358, Precision: 0.6988, Recall: 0.6347, F1: 0.6652\n"
     ]
    },
    {
     "name": "stderr",
     "output_type": "stream",
     "text": [
      "100%|██████████| 2/2 [00:04<00:00,  2.36s/it]\n",
      "100%|██████████| 24/24 [00:05<00:00,  4.65it/s]"
     ]
    },
    {
     "name": "stdout",
     "output_type": "stream",
     "text": [
      "2025-09-01 20:49:34 Epoch [25/100], Train Loss: 0.6372, Valid Loss: 0.6323, Precision: 0.7166, Recall: 0.6421, F1: 0.6773\n"
     ]
    },
    {
     "name": "stderr",
     "output_type": "stream",
     "text": [
      "\n",
      "100%|██████████| 2/2 [00:04<00:00,  2.43s/it]\n",
      "100%|██████████| 24/24 [00:04<00:00,  5.46it/s]\n"
     ]
    },
    {
     "name": "stdout",
     "output_type": "stream",
     "text": [
      "2025-09-01 20:49:44 Epoch [26/100], Train Loss: 0.6347, Valid Loss: 0.6366, Precision: 0.7076, Recall: 0.5953, F1: 0.6466\n"
     ]
    },
    {
     "name": "stderr",
     "output_type": "stream",
     "text": [
      "100%|██████████| 2/2 [00:04<00:00,  2.40s/it]\n",
      "100%|██████████| 24/24 [00:04<00:00,  5.46it/s]\n"
     ]
    },
    {
     "name": "stdout",
     "output_type": "stream",
     "text": [
      "2025-09-01 20:49:53 Epoch [27/100], Train Loss: 0.6380, Valid Loss: 0.6438, Precision: 0.7579, Recall: 0.4217, F1: 0.5419\n"
     ]
    },
    {
     "name": "stderr",
     "output_type": "stream",
     "text": [
      "100%|██████████| 2/2 [00:04<00:00,  2.47s/it]\n",
      "100%|██████████| 24/24 [00:04<00:00,  5.27it/s]\n"
     ]
    },
    {
     "name": "stdout",
     "output_type": "stream",
     "text": [
      "2025-09-01 20:50:03 Epoch [28/100], Train Loss: 0.6260, Valid Loss: 0.6287, Precision: 0.6500, Recall: 0.7620, F1: 0.7016\n",
      "Save model!\n"
     ]
    },
    {
     "name": "stderr",
     "output_type": "stream",
     "text": [
      "100%|██████████| 2/2 [00:04<00:00,  2.37s/it]\n",
      "100%|██████████| 24/24 [00:04<00:00,  5.55it/s]"
     ]
    },
    {
     "name": "stdout",
     "output_type": "stream",
     "text": [
      "2025-09-01 20:50:13 Epoch [29/100], Train Loss: 0.6369, Valid Loss: 0.6326, Precision: 0.6973, Recall: 0.6503, F1: 0.6730\n"
     ]
    },
    {
     "name": "stderr",
     "output_type": "stream",
     "text": [
      "\n",
      "100%|██████████| 2/2 [00:04<00:00,  2.31s/it]\n",
      "100%|██████████| 24/24 [00:04<00:00,  5.52it/s]\n"
     ]
    },
    {
     "name": "stdout",
     "output_type": "stream",
     "text": [
      "2025-09-01 20:50:22 Epoch [30/100], Train Loss: 0.6387, Valid Loss: 0.6379, Precision: 0.6618, Recall: 0.6819, F1: 0.6717\n"
     ]
    },
    {
     "name": "stderr",
     "output_type": "stream",
     "text": [
      "100%|██████████| 2/2 [00:04<00:00,  2.38s/it]\n",
      "100%|██████████| 24/24 [00:04<00:00,  5.09it/s]\n"
     ]
    },
    {
     "name": "stdout",
     "output_type": "stream",
     "text": [
      "2025-09-01 20:50:31 Epoch [31/100], Train Loss: 0.6325, Valid Loss: 0.6389, Precision: 0.7432, Recall: 0.4488, F1: 0.5597\n"
     ]
    },
    {
     "name": "stderr",
     "output_type": "stream",
     "text": [
      "100%|██████████| 2/2 [00:04<00:00,  2.40s/it]\n",
      "100%|██████████| 24/24 [00:04<00:00,  5.21it/s]\n"
     ]
    },
    {
     "name": "stdout",
     "output_type": "stream",
     "text": [
      "2025-09-01 20:50:41 Epoch [32/100], Train Loss: 0.6330, Valid Loss: 0.6198, Precision: 0.6625, Recall: 0.7545, F1: 0.7055\n",
      "Save model!\n"
     ]
    },
    {
     "name": "stderr",
     "output_type": "stream",
     "text": [
      "100%|██████████| 2/2 [00:04<00:00,  2.39s/it]\n",
      "100%|██████████| 24/24 [00:04<00:00,  5.18it/s]\n"
     ]
    },
    {
     "name": "stdout",
     "output_type": "stream",
     "text": [
      "2025-09-01 20:50:51 Epoch [33/100], Train Loss: 0.6318, Valid Loss: 0.6279, Precision: 0.7418, Recall: 0.5377, F1: 0.6235\n"
     ]
    },
    {
     "name": "stderr",
     "output_type": "stream",
     "text": [
      "100%|██████████| 2/2 [00:04<00:00,  2.45s/it]\n",
      "100%|██████████| 24/24 [00:04<00:00,  5.06it/s]"
     ]
    },
    {
     "name": "stdout",
     "output_type": "stream",
     "text": [
      "2025-09-01 20:51:01 Epoch [34/100], Train Loss: 0.6265, Valid Loss: 0.6212, Precision: 0.6701, Recall: 0.7301, F1: 0.6989\n"
     ]
    },
    {
     "name": "stderr",
     "output_type": "stream",
     "text": [
      "\n",
      "100%|██████████| 2/2 [00:04<00:00,  2.43s/it]\n",
      "100%|██████████| 24/24 [00:04<00:00,  5.60it/s]\n"
     ]
    },
    {
     "name": "stdout",
     "output_type": "stream",
     "text": [
      "2025-09-01 20:51:10 Epoch [35/100], Train Loss: 0.6241, Valid Loss: 0.6260, Precision: 0.7516, Recall: 0.5039, F1: 0.6033\n"
     ]
    },
    {
     "name": "stderr",
     "output_type": "stream",
     "text": [
      "100%|██████████| 2/2 [00:04<00:00,  2.34s/it]\n",
      "100%|██████████| 24/24 [00:04<00:00,  5.48it/s]\n"
     ]
    },
    {
     "name": "stdout",
     "output_type": "stream",
     "text": [
      "2025-09-01 20:51:19 Epoch [36/100], Train Loss: 0.6197, Valid Loss: 0.6139, Precision: 0.7128, Recall: 0.6290, F1: 0.6683\n",
      "Save model!\n"
     ]
    },
    {
     "name": "stderr",
     "output_type": "stream",
     "text": [
      "100%|██████████| 2/2 [00:04<00:00,  2.44s/it]\n",
      "100%|██████████| 24/24 [00:05<00:00,  4.36it/s]"
     ]
    },
    {
     "name": "stdout",
     "output_type": "stream",
     "text": [
      "2025-09-01 20:51:30 Epoch [37/100], Train Loss: 0.6232, Valid Loss: 0.6183, Precision: 0.6870, Recall: 0.7081, F1: 0.6974\n"
     ]
    },
    {
     "name": "stderr",
     "output_type": "stream",
     "text": [
      "\n",
      "100%|██████████| 2/2 [00:05<00:00,  2.52s/it]\n",
      "100%|██████████| 24/24 [00:04<00:00,  5.49it/s]\n"
     ]
    },
    {
     "name": "stdout",
     "output_type": "stream",
     "text": [
      "2025-09-01 20:51:40 Epoch [38/100], Train Loss: 0.6249, Valid Loss: 0.6117, Precision: 0.6825, Recall: 0.7150, F1: 0.6984\n",
      "Save model!\n"
     ]
    },
    {
     "name": "stderr",
     "output_type": "stream",
     "text": [
      "100%|██████████| 2/2 [00:04<00:00,  2.39s/it]\n",
      "100%|██████████| 24/24 [00:04<00:00,  5.59it/s]\n"
     ]
    },
    {
     "name": "stdout",
     "output_type": "stream",
     "text": [
      "2025-09-01 20:51:50 Epoch [39/100], Train Loss: 0.6184, Valid Loss: 0.6203, Precision: 0.7689, Recall: 0.4471, F1: 0.5654\n"
     ]
    },
    {
     "name": "stderr",
     "output_type": "stream",
     "text": [
      "100%|██████████| 2/2 [00:04<00:00,  2.32s/it]\n",
      "100%|██████████| 24/24 [00:04<00:00,  5.10it/s]\n"
     ]
    },
    {
     "name": "stdout",
     "output_type": "stream",
     "text": [
      "2025-09-01 20:51:59 Epoch [40/100], Train Loss: 0.6228, Valid Loss: 0.6105, Precision: 0.6970, Recall: 0.7015, F1: 0.6993\n",
      "Save model!\n"
     ]
    },
    {
     "name": "stderr",
     "output_type": "stream",
     "text": [
      "100%|██████████| 2/2 [00:04<00:00,  2.37s/it]\n",
      "100%|██████████| 24/24 [00:04<00:00,  5.42it/s]\n"
     ]
    },
    {
     "name": "stdout",
     "output_type": "stream",
     "text": [
      "2025-09-01 20:52:09 Epoch [41/100], Train Loss: 0.6183, Valid Loss: 0.6204, Precision: 0.7588, Recall: 0.4740, F1: 0.5835\n"
     ]
    },
    {
     "name": "stderr",
     "output_type": "stream",
     "text": [
      "100%|██████████| 2/2 [00:04<00:00,  2.40s/it]\n",
      "100%|██████████| 24/24 [00:04<00:00,  4.83it/s]"
     ]
    },
    {
     "name": "stdout",
     "output_type": "stream",
     "text": [
      "2025-09-01 20:52:19 Epoch [42/100], Train Loss: 0.6082, Valid Loss: 0.5998, Precision: 0.6897, Recall: 0.7385, F1: 0.7132\n"
     ]
    },
    {
     "name": "stderr",
     "output_type": "stream",
     "text": [
      "\n"
     ]
    },
    {
     "name": "stdout",
     "output_type": "stream",
     "text": [
      "Save model!\n"
     ]
    },
    {
     "name": "stderr",
     "output_type": "stream",
     "text": [
      "100%|██████████| 2/2 [00:04<00:00,  2.38s/it]\n",
      "100%|██████████| 24/24 [00:04<00:00,  5.43it/s]"
     ]
    },
    {
     "name": "stdout",
     "output_type": "stream",
     "text": [
      "2025-09-01 20:52:29 Epoch [43/100], Train Loss: 0.6015, Valid Loss: 0.6038, Precision: 0.7435, Recall: 0.5887, F1: 0.6571\n"
     ]
    },
    {
     "name": "stderr",
     "output_type": "stream",
     "text": [
      "\n",
      "100%|██████████| 2/2 [00:04<00:00,  2.37s/it]\n",
      "100%|██████████| 24/24 [00:04<00:00,  5.49it/s]\n"
     ]
    },
    {
     "name": "stdout",
     "output_type": "stream",
     "text": [
      "2025-09-01 20:52:38 Epoch [44/100], Train Loss: 0.6058, Valid Loss: 0.5932, Precision: 0.7295, Recall: 0.6529, F1: 0.6891\n",
      "Save model!\n"
     ]
    },
    {
     "name": "stderr",
     "output_type": "stream",
     "text": [
      "100%|██████████| 2/2 [00:04<00:00,  2.43s/it]\n",
      "100%|██████████| 24/24 [00:04<00:00,  5.42it/s]\n"
     ]
    },
    {
     "name": "stdout",
     "output_type": "stream",
     "text": [
      "2025-09-01 20:52:48 Epoch [45/100], Train Loss: 0.5968, Valid Loss: 0.5939, Precision: 0.7357, Recall: 0.6354, F1: 0.6819\n"
     ]
    },
    {
     "name": "stderr",
     "output_type": "stream",
     "text": [
      "100%|██████████| 2/2 [00:04<00:00,  2.48s/it]\n",
      "100%|██████████| 24/24 [00:05<00:00,  4.76it/s]\n"
     ]
    },
    {
     "name": "stdout",
     "output_type": "stream",
     "text": [
      "2025-09-01 20:52:58 Epoch [46/100], Train Loss: 0.5974, Valid Loss: 0.5883, Precision: 0.7082, Recall: 0.7087, F1: 0.7084\n",
      "Save model!\n"
     ]
    },
    {
     "name": "stderr",
     "output_type": "stream",
     "text": [
      "100%|██████████| 2/2 [00:04<00:00,  2.32s/it]\n",
      "100%|██████████| 24/24 [00:04<00:00,  5.15it/s]"
     ]
    },
    {
     "name": "stdout",
     "output_type": "stream",
     "text": [
      "2025-09-01 20:53:08 Epoch [47/100], Train Loss: 0.6013, Valid Loss: 0.5951, Precision: 0.7414, Recall: 0.6401, F1: 0.6870\n"
     ]
    },
    {
     "name": "stderr",
     "output_type": "stream",
     "text": [
      "\n",
      "100%|██████████| 2/2 [00:04<00:00,  2.34s/it]\n",
      "100%|██████████| 24/24 [00:04<00:00,  5.51it/s]\n"
     ]
    },
    {
     "name": "stdout",
     "output_type": "stream",
     "text": [
      "2025-09-01 20:53:17 Epoch [48/100], Train Loss: 0.5986, Valid Loss: 0.5959, Precision: 0.7763, Recall: 0.5394, F1: 0.6365\n"
     ]
    },
    {
     "name": "stderr",
     "output_type": "stream",
     "text": [
      "100%|██████████| 2/2 [00:05<00:00,  2.56s/it]\n",
      "100%|██████████| 24/24 [00:04<00:00,  5.51it/s]\n"
     ]
    },
    {
     "name": "stdout",
     "output_type": "stream",
     "text": [
      "2025-09-01 20:53:27 Epoch [49/100], Train Loss: 0.5903, Valid Loss: 0.6098, Precision: 0.7955, Recall: 0.4386, F1: 0.5655\n"
     ]
    },
    {
     "name": "stderr",
     "output_type": "stream",
     "text": [
      "100%|██████████| 2/2 [00:04<00:00,  2.39s/it]\n",
      "100%|██████████| 24/24 [00:04<00:00,  5.56it/s]\n"
     ]
    },
    {
     "name": "stdout",
     "output_type": "stream",
     "text": [
      "2025-09-01 20:53:36 Epoch [50/100], Train Loss: 0.5929, Valid Loss: 0.5762, Precision: 0.7488, Recall: 0.6412, F1: 0.6908\n",
      "Save model!\n"
     ]
    },
    {
     "name": "stderr",
     "output_type": "stream",
     "text": [
      "100%|██████████| 2/2 [00:04<00:00,  2.36s/it]\n",
      "100%|██████████| 24/24 [00:04<00:00,  5.03it/s]"
     ]
    },
    {
     "name": "stdout",
     "output_type": "stream",
     "text": [
      "2025-09-01 20:53:46 Epoch [51/100], Train Loss: 0.5928, Valid Loss: 0.5713, Precision: 0.7286, Recall: 0.7263, F1: 0.7275\n"
     ]
    },
    {
     "name": "stderr",
     "output_type": "stream",
     "text": [
      "\n"
     ]
    },
    {
     "name": "stdout",
     "output_type": "stream",
     "text": [
      "Save model!\n"
     ]
    },
    {
     "name": "stderr",
     "output_type": "stream",
     "text": [
      "100%|██████████| 2/2 [00:04<00:00,  2.47s/it]\n",
      "100%|██████████| 24/24 [00:04<00:00,  5.34it/s]\n"
     ]
    },
    {
     "name": "stdout",
     "output_type": "stream",
     "text": [
      "2025-09-01 20:53:56 Epoch [52/100], Train Loss: 0.5961, Valid Loss: 0.5712, Precision: 0.7575, Recall: 0.6562, F1: 0.7032\n",
      "Save model!\n"
     ]
    },
    {
     "name": "stderr",
     "output_type": "stream",
     "text": [
      "100%|██████████| 2/2 [00:04<00:00,  2.36s/it]\n",
      "100%|██████████| 24/24 [00:04<00:00,  5.37it/s]\n"
     ]
    },
    {
     "name": "stdout",
     "output_type": "stream",
     "text": [
      "2025-09-01 20:54:06 Epoch [53/100], Train Loss: 0.5859, Valid Loss: 0.5855, Precision: 0.7932, Recall: 0.5380, F1: 0.6411\n"
     ]
    },
    {
     "name": "stderr",
     "output_type": "stream",
     "text": [
      "100%|██████████| 2/2 [00:04<00:00,  2.38s/it]\n",
      "100%|██████████| 24/24 [00:04<00:00,  5.11it/s]\n"
     ]
    },
    {
     "name": "stdout",
     "output_type": "stream",
     "text": [
      "2025-09-01 20:54:16 Epoch [54/100], Train Loss: 0.5824, Valid Loss: 0.5657, Precision: 0.7587, Recall: 0.6587, F1: 0.7051\n",
      "Save model!\n"
     ]
    },
    {
     "name": "stderr",
     "output_type": "stream",
     "text": [
      "100%|██████████| 2/2 [00:04<00:00,  2.49s/it]\n",
      "100%|██████████| 24/24 [00:04<00:00,  5.46it/s]\n"
     ]
    },
    {
     "name": "stdout",
     "output_type": "stream",
     "text": [
      "2025-09-01 20:54:26 Epoch [55/100], Train Loss: 0.5901, Valid Loss: 0.5689, Precision: 0.7411, Recall: 0.6879, F1: 0.7135\n"
     ]
    },
    {
     "name": "stderr",
     "output_type": "stream",
     "text": [
      "100%|██████████| 2/2 [00:04<00:00,  2.41s/it]\n",
      "100%|██████████| 24/24 [00:04<00:00,  5.55it/s]\n"
     ]
    },
    {
     "name": "stdout",
     "output_type": "stream",
     "text": [
      "2025-09-01 20:54:35 Epoch [56/100], Train Loss: 0.5787, Valid Loss: 0.5677, Precision: 0.7756, Recall: 0.6083, F1: 0.6818\n"
     ]
    },
    {
     "name": "stderr",
     "output_type": "stream",
     "text": [
      "100%|██████████| 2/2 [00:04<00:00,  2.33s/it]\n",
      "100%|██████████| 24/24 [00:04<00:00,  5.27it/s]\n"
     ]
    },
    {
     "name": "stdout",
     "output_type": "stream",
     "text": [
      "2025-09-01 20:54:44 Epoch [57/100], Train Loss: 0.5742, Valid Loss: 0.5650, Precision: 0.7786, Recall: 0.6092, F1: 0.6835\n",
      "Save model!\n"
     ]
    },
    {
     "name": "stderr",
     "output_type": "stream",
     "text": [
      "100%|██████████| 2/2 [00:04<00:00,  2.37s/it]\n",
      "100%|██████████| 24/24 [00:04<00:00,  5.17it/s]\n"
     ]
    },
    {
     "name": "stdout",
     "output_type": "stream",
     "text": [
      "2025-09-01 20:54:55 Epoch [58/100], Train Loss: 0.5787, Valid Loss: 0.5635, Precision: 0.8010, Recall: 0.5719, F1: 0.6673\n",
      "Save model!\n"
     ]
    },
    {
     "name": "stderr",
     "output_type": "stream",
     "text": [
      "100%|██████████| 2/2 [00:05<00:00,  2.51s/it]\n",
      "100%|██████████| 24/24 [00:05<00:00,  4.76it/s]\n"
     ]
    },
    {
     "name": "stdout",
     "output_type": "stream",
     "text": [
      "2025-09-01 20:55:05 Epoch [59/100], Train Loss: 0.5686, Valid Loss: 0.5585, Precision: 0.7836, Recall: 0.6060, F1: 0.6835\n",
      "Save model!\n"
     ]
    },
    {
     "name": "stderr",
     "output_type": "stream",
     "text": [
      "100%|██████████| 2/2 [00:04<00:00,  2.42s/it]\n",
      "100%|██████████| 24/24 [00:04<00:00,  5.21it/s]\n"
     ]
    },
    {
     "name": "stdout",
     "output_type": "stream",
     "text": [
      "2025-09-01 20:55:15 Epoch [60/100], Train Loss: 0.5611, Valid Loss: 0.5446, Precision: 0.7726, Recall: 0.6619, F1: 0.7130\n",
      "Save model!\n"
     ]
    },
    {
     "name": "stderr",
     "output_type": "stream",
     "text": [
      "100%|██████████| 2/2 [00:04<00:00,  2.48s/it]\n",
      "100%|██████████| 24/24 [00:04<00:00,  5.38it/s]\n"
     ]
    },
    {
     "name": "stdout",
     "output_type": "stream",
     "text": [
      "2025-09-01 20:55:25 Epoch [61/100], Train Loss: 0.5618, Valid Loss: 0.5570, Precision: 0.7956, Recall: 0.5882, F1: 0.6764\n"
     ]
    },
    {
     "name": "stderr",
     "output_type": "stream",
     "text": [
      "100%|██████████| 2/2 [00:05<00:00,  2.67s/it]\n",
      "100%|██████████| 24/24 [00:04<00:00,  5.55it/s]\n"
     ]
    },
    {
     "name": "stdout",
     "output_type": "stream",
     "text": [
      "2025-09-01 20:55:35 Epoch [62/100], Train Loss: 0.5556, Valid Loss: 0.5434, Precision: 0.7896, Recall: 0.6330, F1: 0.7027\n",
      "Save model!\n"
     ]
    },
    {
     "name": "stderr",
     "output_type": "stream",
     "text": [
      "100%|██████████| 2/2 [00:04<00:00,  2.31s/it]\n",
      "100%|██████████| 24/24 [00:04<00:00,  5.22it/s]\n"
     ]
    },
    {
     "name": "stdout",
     "output_type": "stream",
     "text": [
      "2025-09-01 20:55:45 Epoch [63/100], Train Loss: 0.5607, Valid Loss: 0.5468, Precision: 0.7996, Recall: 0.6055, F1: 0.6891\n"
     ]
    },
    {
     "name": "stderr",
     "output_type": "stream",
     "text": [
      "100%|██████████| 2/2 [00:04<00:00,  2.36s/it]\n",
      "100%|██████████| 24/24 [00:04<00:00,  5.50it/s]\n"
     ]
    },
    {
     "name": "stdout",
     "output_type": "stream",
     "text": [
      "2025-09-01 20:55:54 Epoch [64/100], Train Loss: 0.5610, Valid Loss: 0.5518, Precision: 0.8163, Recall: 0.5710, F1: 0.6719\n"
     ]
    },
    {
     "name": "stderr",
     "output_type": "stream",
     "text": [
      "100%|██████████| 2/2 [00:04<00:00,  2.30s/it]\n",
      "100%|██████████| 24/24 [00:05<00:00,  4.63it/s]\n"
     ]
    },
    {
     "name": "stdout",
     "output_type": "stream",
     "text": [
      "2025-09-01 20:56:04 Epoch [65/100], Train Loss: 0.5575, Valid Loss: 0.5293, Precision: 0.7927, Recall: 0.6592, F1: 0.7198\n",
      "Save model!\n"
     ]
    },
    {
     "name": "stderr",
     "output_type": "stream",
     "text": [
      "100%|██████████| 2/2 [00:04<00:00,  2.35s/it]\n",
      "100%|██████████| 24/24 [00:04<00:00,  5.11it/s]"
     ]
    },
    {
     "name": "stdout",
     "output_type": "stream",
     "text": [
      "2025-09-01 20:56:14 Epoch [66/100], Train Loss: 0.5662, Valid Loss: 0.5647, Precision: 0.8346, Recall: 0.5122, F1: 0.6348\n"
     ]
    },
    {
     "name": "stderr",
     "output_type": "stream",
     "text": [
      "\n",
      "100%|██████████| 2/2 [00:04<00:00,  2.36s/it]\n",
      "100%|██████████| 24/24 [00:04<00:00,  5.21it/s]\n"
     ]
    },
    {
     "name": "stdout",
     "output_type": "stream",
     "text": [
      "2025-09-01 20:56:24 Epoch [67/100], Train Loss: 0.5547, Valid Loss: 0.5369, Precision: 0.7935, Recall: 0.6355, F1: 0.7058\n"
     ]
    },
    {
     "name": "stderr",
     "output_type": "stream",
     "text": [
      "100%|██████████| 2/2 [00:04<00:00,  2.49s/it]\n",
      "100%|██████████| 24/24 [00:04<00:00,  5.47it/s]\n"
     ]
    },
    {
     "name": "stdout",
     "output_type": "stream",
     "text": [
      "2025-09-01 20:56:33 Epoch [68/100], Train Loss: 0.5497, Valid Loss: 0.5434, Precision: 0.8115, Recall: 0.5897, F1: 0.6831\n"
     ]
    },
    {
     "name": "stderr",
     "output_type": "stream",
     "text": [
      "100%|██████████| 2/2 [00:04<00:00,  2.36s/it]\n",
      "100%|██████████| 24/24 [00:04<00:00,  5.11it/s]\n"
     ]
    },
    {
     "name": "stdout",
     "output_type": "stream",
     "text": [
      "2025-09-01 20:56:43 Epoch [69/100], Train Loss: 0.5442, Valid Loss: 0.5358, Precision: 0.8060, Recall: 0.6161, F1: 0.6984\n"
     ]
    },
    {
     "name": "stderr",
     "output_type": "stream",
     "text": [
      "100%|██████████| 2/2 [00:04<00:00,  2.45s/it]\n",
      "100%|██████████| 24/24 [00:04<00:00,  5.47it/s]\n"
     ]
    },
    {
     "name": "stdout",
     "output_type": "stream",
     "text": [
      "2025-09-01 20:56:52 Epoch [70/100], Train Loss: 0.5365, Valid Loss: 0.5376, Precision: 0.8286, Recall: 0.5844, F1: 0.6854\n"
     ]
    },
    {
     "name": "stderr",
     "output_type": "stream",
     "text": [
      "100%|██████████| 2/2 [00:04<00:00,  2.47s/it]\n",
      "100%|██████████| 24/24 [00:04<00:00,  5.47it/s]\n"
     ]
    },
    {
     "name": "stdout",
     "output_type": "stream",
     "text": [
      "2025-09-01 20:57:02 Epoch [71/100], Train Loss: 0.5476, Valid Loss: 0.5323, Precision: 0.8266, Recall: 0.5997, F1: 0.6951\n"
     ]
    },
    {
     "name": "stderr",
     "output_type": "stream",
     "text": [
      "100%|██████████| 2/2 [00:04<00:00,  2.41s/it]\n",
      "100%|██████████| 24/24 [00:04<00:00,  5.08it/s]\n"
     ]
    },
    {
     "name": "stdout",
     "output_type": "stream",
     "text": [
      "2025-09-01 20:57:11 Epoch [72/100], Train Loss: 0.5330, Valid Loss: 0.5344, Precision: 0.8272, Recall: 0.5901, F1: 0.6889\n"
     ]
    },
    {
     "name": "stderr",
     "output_type": "stream",
     "text": [
      "100%|██████████| 2/2 [00:04<00:00,  2.41s/it]\n",
      "100%|██████████| 24/24 [00:04<00:00,  5.45it/s]\n"
     ]
    },
    {
     "name": "stdout",
     "output_type": "stream",
     "text": [
      "2025-09-01 20:57:21 Epoch [73/100], Train Loss: 0.5419, Valid Loss: 0.5285, Precision: 0.8181, Recall: 0.6135, F1: 0.7012\n",
      "Save model!\n"
     ]
    },
    {
     "name": "stderr",
     "output_type": "stream",
     "text": [
      "100%|██████████| 2/2 [00:04<00:00,  2.34s/it]\n",
      "100%|██████████| 24/24 [00:04<00:00,  5.31it/s]\n"
     ]
    },
    {
     "name": "stdout",
     "output_type": "stream",
     "text": [
      "2025-09-01 20:57:31 Epoch [74/100], Train Loss: 0.5393, Valid Loss: 0.5357, Precision: 0.8341, Recall: 0.5796, F1: 0.6839\n"
     ]
    },
    {
     "name": "stderr",
     "output_type": "stream",
     "text": [
      "100%|██████████| 2/2 [00:04<00:00,  2.37s/it]\n",
      "100%|██████████| 24/24 [00:04<00:00,  5.49it/s]\n"
     ]
    },
    {
     "name": "stdout",
     "output_type": "stream",
     "text": [
      "2025-09-01 20:57:40 Epoch [75/100], Train Loss: 0.5400, Valid Loss: 0.5398, Precision: 0.8444, Recall: 0.5554, F1: 0.6700\n"
     ]
    },
    {
     "name": "stderr",
     "output_type": "stream",
     "text": [
      "100%|██████████| 2/2 [00:05<00:00,  2.57s/it]\n",
      "100%|██████████| 24/24 [00:04<00:00,  5.50it/s]\n"
     ]
    },
    {
     "name": "stdout",
     "output_type": "stream",
     "text": [
      "2025-09-01 20:57:50 Epoch [76/100], Train Loss: 0.5399, Valid Loss: 0.5199, Precision: 0.8157, Recall: 0.6364, F1: 0.7150\n",
      "Save model!\n"
     ]
    },
    {
     "name": "stderr",
     "output_type": "stream",
     "text": [
      "100%|██████████| 2/2 [00:04<00:00,  2.35s/it]\n",
      "100%|██████████| 24/24 [00:04<00:00,  5.11it/s]\n"
     ]
    },
    {
     "name": "stdout",
     "output_type": "stream",
     "text": [
      "2025-09-01 20:58:00 Epoch [77/100], Train Loss: 0.5558, Valid Loss: 0.5146, Precision: 0.7690, Recall: 0.7403, F1: 0.7544\n",
      "Save model!\n"
     ]
    },
    {
     "name": "stderr",
     "output_type": "stream",
     "text": [
      "100%|██████████| 2/2 [00:05<00:00,  2.51s/it]\n",
      "100%|██████████| 24/24 [00:04<00:00,  5.38it/s]\n"
     ]
    },
    {
     "name": "stdout",
     "output_type": "stream",
     "text": [
      "2025-09-01 20:58:10 Epoch [78/100], Train Loss: 0.5562, Valid Loss: 0.5175, Precision: 0.7484, Recall: 0.7848, F1: 0.7662\n"
     ]
    },
    {
     "name": "stderr",
     "output_type": "stream",
     "text": [
      "100%|██████████| 2/2 [00:04<00:00,  2.47s/it]\n",
      "100%|██████████| 24/24 [00:05<00:00,  4.78it/s]\n"
     ]
    },
    {
     "name": "stdout",
     "output_type": "stream",
     "text": [
      "2025-09-01 20:58:20 Epoch [79/100], Train Loss: 0.5407, Valid Loss: 0.5111, Precision: 0.7892, Recall: 0.7010, F1: 0.7425\n",
      "Save model!\n"
     ]
    },
    {
     "name": "stderr",
     "output_type": "stream",
     "text": [
      "100%|██████████| 2/2 [00:04<00:00,  2.34s/it]\n",
      "100%|██████████| 24/24 [00:04<00:00,  4.81it/s]"
     ]
    },
    {
     "name": "stdout",
     "output_type": "stream",
     "text": [
      "2025-09-01 20:58:30 Epoch [80/100], Train Loss: 0.5339, Valid Loss: 0.5046, Precision: 0.7965, Recall: 0.6978, F1: 0.7439\n"
     ]
    },
    {
     "name": "stderr",
     "output_type": "stream",
     "text": [
      "\n"
     ]
    },
    {
     "name": "stdout",
     "output_type": "stream",
     "text": [
      "Save model!\n"
     ]
    },
    {
     "name": "stderr",
     "output_type": "stream",
     "text": [
      "100%|██████████| 2/2 [00:04<00:00,  2.39s/it]\n",
      "100%|██████████| 24/24 [00:04<00:00,  5.30it/s]\n"
     ]
    },
    {
     "name": "stdout",
     "output_type": "stream",
     "text": [
      "2025-09-01 20:58:40 Epoch [81/100], Train Loss: 0.5379, Valid Loss: 0.5013, Precision: 0.7843, Recall: 0.7268, F1: 0.7544\n",
      "Save model!\n"
     ]
    },
    {
     "name": "stderr",
     "output_type": "stream",
     "text": [
      "100%|██████████| 2/2 [00:04<00:00,  2.39s/it]\n",
      "100%|██████████| 24/24 [00:04<00:00,  4.91it/s]\n"
     ]
    },
    {
     "name": "stdout",
     "output_type": "stream",
     "text": [
      "2025-09-01 20:58:50 Epoch [82/100], Train Loss: 0.5392, Valid Loss: 0.5017, Precision: 0.7828, Recall: 0.7354, F1: 0.7583\n"
     ]
    },
    {
     "name": "stderr",
     "output_type": "stream",
     "text": [
      "100%|██████████| 2/2 [00:04<00:00,  2.29s/it]\n",
      "100%|██████████| 24/24 [00:04<00:00,  5.20it/s]\n"
     ]
    },
    {
     "name": "stdout",
     "output_type": "stream",
     "text": [
      "2025-09-01 20:59:00 Epoch [83/100], Train Loss: 0.5334, Valid Loss: 0.5059, Precision: 0.8014, Recall: 0.6925, F1: 0.7430\n"
     ]
    },
    {
     "name": "stderr",
     "output_type": "stream",
     "text": [
      "100%|██████████| 2/2 [00:04<00:00,  2.44s/it]\n",
      "100%|██████████| 24/24 [00:04<00:00,  5.53it/s]\n"
     ]
    },
    {
     "name": "stdout",
     "output_type": "stream",
     "text": [
      "2025-09-01 20:59:09 Epoch [84/100], Train Loss: 0.5305, Valid Loss: 0.5023, Precision: 0.8055, Recall: 0.6947, F1: 0.7460\n"
     ]
    },
    {
     "name": "stderr",
     "output_type": "stream",
     "text": [
      "100%|██████████| 2/2 [00:04<00:00,  2.35s/it]\n",
      "100%|██████████| 24/24 [00:04<00:00,  5.46it/s]\n"
     ]
    },
    {
     "name": "stdout",
     "output_type": "stream",
     "text": [
      "2025-09-01 20:59:18 Epoch [85/100], Train Loss: 0.5269, Valid Loss: 0.4959, Precision: 0.7922, Recall: 0.7233, F1: 0.7562\n",
      "Save model!\n"
     ]
    },
    {
     "name": "stderr",
     "output_type": "stream",
     "text": [
      "100%|██████████| 2/2 [00:04<00:00,  2.37s/it]\n",
      "100%|██████████| 24/24 [00:05<00:00,  4.44it/s]"
     ]
    },
    {
     "name": "stdout",
     "output_type": "stream",
     "text": [
      "2025-09-01 20:59:29 Epoch [86/100], Train Loss: 0.5303, Valid Loss: 0.4963, Precision: 0.8052, Recall: 0.7067, F1: 0.7528\n"
     ]
    },
    {
     "name": "stderr",
     "output_type": "stream",
     "text": [
      "\n",
      "100%|██████████| 2/2 [00:04<00:00,  2.44s/it]\n",
      "100%|██████████| 24/24 [00:04<00:00,  5.54it/s]\n"
     ]
    },
    {
     "name": "stdout",
     "output_type": "stream",
     "text": [
      "2025-09-01 20:59:39 Epoch [87/100], Train Loss: 0.5302, Valid Loss: 0.4984, Precision: 0.8056, Recall: 0.6987, F1: 0.7484\n"
     ]
    },
    {
     "name": "stderr",
     "output_type": "stream",
     "text": [
      "100%|██████████| 2/2 [00:04<00:00,  2.40s/it]\n",
      "100%|██████████| 24/24 [00:04<00:00,  5.52it/s]\n"
     ]
    },
    {
     "name": "stdout",
     "output_type": "stream",
     "text": [
      "2025-09-01 20:59:48 Epoch [88/100], Train Loss: 0.5286, Valid Loss: 0.4984, Precision: 0.8101, Recall: 0.6912, F1: 0.7460\n"
     ]
    },
    {
     "name": "stderr",
     "output_type": "stream",
     "text": [
      "100%|██████████| 2/2 [00:04<00:00,  2.36s/it]\n",
      "100%|██████████| 24/24 [00:04<00:00,  5.34it/s]\n"
     ]
    },
    {
     "name": "stdout",
     "output_type": "stream",
     "text": [
      "2025-09-01 20:59:57 Epoch [89/100], Train Loss: 0.5247, Valid Loss: 0.4963, Precision: 0.8048, Recall: 0.7053, F1: 0.7518\n"
     ]
    },
    {
     "name": "stderr",
     "output_type": "stream",
     "text": [
      "100%|██████████| 2/2 [00:04<00:00,  2.44s/it]\n",
      "100%|██████████| 24/24 [00:04<00:00,  5.58it/s]\n"
     ]
    },
    {
     "name": "stdout",
     "output_type": "stream",
     "text": [
      "2025-09-01 21:00:07 Epoch [90/100], Train Loss: 0.5260, Valid Loss: 0.4961, Precision: 0.8118, Recall: 0.6895, F1: 0.7457\n"
     ]
    },
    {
     "name": "stderr",
     "output_type": "stream",
     "text": [
      "100%|██████████| 2/2 [00:04<00:00,  2.39s/it]\n",
      "100%|██████████| 24/24 [00:04<00:00,  5.46it/s]\n"
     ]
    },
    {
     "name": "stdout",
     "output_type": "stream",
     "text": [
      "2025-09-01 21:00:16 Epoch [91/100], Train Loss: 0.5280, Valid Loss: 0.4980, Precision: 0.8117, Recall: 0.6873, F1: 0.7443\n"
     ]
    },
    {
     "name": "stderr",
     "output_type": "stream",
     "text": [
      "100%|██████████| 2/2 [00:04<00:00,  2.36s/it]\n",
      "100%|██████████| 24/24 [00:04<00:00,  5.20it/s]\n"
     ]
    },
    {
     "name": "stdout",
     "output_type": "stream",
     "text": [
      "2025-09-01 21:00:25 Epoch [92/100], Train Loss: 0.5231, Valid Loss: 0.4965, Precision: 0.8144, Recall: 0.6891, F1: 0.7465\n"
     ]
    },
    {
     "name": "stderr",
     "output_type": "stream",
     "text": [
      "100%|██████████| 2/2 [00:04<00:00,  2.37s/it]\n",
      "100%|██████████| 24/24 [00:04<00:00,  5.42it/s]\n"
     ]
    },
    {
     "name": "stdout",
     "output_type": "stream",
     "text": [
      "2025-09-01 21:00:35 Epoch [93/100], Train Loss: 0.5252, Valid Loss: 0.4952, Precision: 0.8153, Recall: 0.6883, F1: 0.7464\n",
      "Save model!\n"
     ]
    },
    {
     "name": "stderr",
     "output_type": "stream",
     "text": [
      "100%|██████████| 2/2 [00:04<00:00,  2.47s/it]\n",
      "100%|██████████| 24/24 [00:04<00:00,  5.53it/s]\n"
     ]
    },
    {
     "name": "stdout",
     "output_type": "stream",
     "text": [
      "2025-09-01 21:00:45 Epoch [94/100], Train Loss: 0.5242, Valid Loss: 0.4960, Precision: 0.8158, Recall: 0.6920, F1: 0.7488\n"
     ]
    },
    {
     "name": "stderr",
     "output_type": "stream",
     "text": [
      "100%|██████████| 2/2 [00:04<00:00,  2.41s/it]\n",
      "100%|██████████| 24/24 [00:04<00:00,  5.11it/s]\n"
     ]
    },
    {
     "name": "stdout",
     "output_type": "stream",
     "text": [
      "2025-09-01 21:00:54 Epoch [95/100], Train Loss: 0.5300, Valid Loss: 0.4953, Precision: 0.8119, Recall: 0.6979, F1: 0.7506\n"
     ]
    },
    {
     "name": "stderr",
     "output_type": "stream",
     "text": [
      "100%|██████████| 2/2 [00:04<00:00,  2.43s/it]\n",
      "100%|██████████| 24/24 [00:04<00:00,  5.47it/s]\n"
     ]
    },
    {
     "name": "stdout",
     "output_type": "stream",
     "text": [
      "2025-09-01 21:01:04 Epoch [96/100], Train Loss: 0.5313, Valid Loss: 0.4957, Precision: 0.8114, Recall: 0.6935, F1: 0.7479\n"
     ]
    },
    {
     "name": "stderr",
     "output_type": "stream",
     "text": [
      "100%|██████████| 2/2 [00:04<00:00,  2.35s/it]\n",
      "100%|██████████| 24/24 [00:04<00:00,  5.54it/s]\n"
     ]
    },
    {
     "name": "stdout",
     "output_type": "stream",
     "text": [
      "2025-09-01 21:01:13 Epoch [97/100], Train Loss: 0.5343, Valid Loss: 0.4959, Precision: 0.8122, Recall: 0.6922, F1: 0.7474\n"
     ]
    },
    {
     "name": "stderr",
     "output_type": "stream",
     "text": [
      "100%|██████████| 2/2 [00:04<00:00,  2.49s/it]\n",
      "100%|██████████| 24/24 [00:04<00:00,  4.84it/s]"
     ]
    },
    {
     "name": "stdout",
     "output_type": "stream",
     "text": [
      "2025-09-01 21:01:23 Epoch [98/100], Train Loss: 0.5305, Valid Loss: 0.4974, Precision: 0.8146, Recall: 0.6895, F1: 0.7468\n"
     ]
    },
    {
     "name": "stderr",
     "output_type": "stream",
     "text": [
      "\n",
      "100%|██████████| 2/2 [00:04<00:00,  2.34s/it]\n",
      "100%|██████████| 24/24 [00:04<00:00,  5.30it/s]\n"
     ]
    },
    {
     "name": "stdout",
     "output_type": "stream",
     "text": [
      "2025-09-01 21:01:32 Epoch [99/100], Train Loss: 0.5384, Valid Loss: 0.4974, Precision: 0.8110, Recall: 0.6917, F1: 0.7466\n"
     ]
    },
    {
     "name": "stderr",
     "output_type": "stream",
     "text": [
      "100%|██████████| 2/2 [00:04<00:00,  2.40s/it]\n",
      "100%|██████████| 24/24 [00:04<00:00,  5.61it/s]\n"
     ]
    },
    {
     "name": "stdout",
     "output_type": "stream",
     "text": [
      "2025-09-01 21:01:42 Epoch [100/100], Train Loss: 0.5275, Valid Loss: 0.4964, Precision: 0.8141, Recall: 0.6913, F1: 0.7477\n"
     ]
    }
   ],
   "source": [
    "os.makedirs(args.output_dir, exist_ok=True)\n",
    "\n",
    "with open(os.path.join(args.output_dir, 'arguments.json'), 'w') as f:\n",
    "    json.dump(vars(args), f)\n",
    "\n",
    "# args.device = torch.device(f'cuda:{args.device}' if torch.cuda.is_available() else 'cpu')\n",
    "\n",
    "P.train()"
   ]
  },
  {
   "cell_type": "code",
   "execution_count": 6,
   "id": "61819d4c-53ea-4080-bbd4-2e11ae02ca02",
   "metadata": {},
   "outputs": [
    {
     "name": "stdout",
     "output_type": "stream",
     "text": [
      "Evaluating...\n"
     ]
    },
    {
     "name": "stderr",
     "output_type": "stream",
     "text": [
      "  0%|          | 0/511 [00:00<?, ?it/s]/home/jaehan/research/passrefinder-p/src/trainer.py:268: UserWarning: Implicit dimension choice for softmax has been deprecated. Change the call to include dim=X as an argument.\n",
      "  score_values = F.softmax(batch_pred.detach().cpu())[:,1].numpy().tolist()\n",
      "100%|██████████| 511/511 [07:21<00:00,  1.16it/s]\n"
     ]
    },
    {
     "name": "stdout",
     "output_type": "stream",
     "text": [
      "Precision: 0.7877, Recall: 0.4545, F1: 0.5764\n",
      "CPU times: user 24min 53s, sys: 5.38 s, total: 24min 58s\n",
      "Wall time: 7min 23s\n"
     ]
    }
   ],
   "source": [
    "%%time\n",
    "P.model = load_model(os.path.join(P.args.output_dir, 'model.pt'), P.model)\n",
    "result = P.evaluate()\n",
    "f1 = result['eval_f1']\n",
    "precision = result['eval_precision']\n",
    "recall = result['eval_recall']\n",
    "print(f'Precision: {precision:.4f}, Recall: {recall:.4f}, F1: {f1:.4f}')\n",
    "\n",
    "with open(os.path.join(args.output_dir, 'eval_results.json'), 'w') as f:\n",
    "    json.dump(result, f)"
   ]
  },
  {
   "cell_type": "code",
   "execution_count": null,
   "id": "efd49381-9a3b-4c71-af87-e8fe78aaef0d",
   "metadata": {},
   "outputs": [],
   "source": []
  }
 ],
 "metadata": {
  "kernelspec": {
   "display_name": "passrefinder",
   "language": "python",
   "name": "passrefinder"
  },
  "language_info": {
   "codemirror_mode": {
    "name": "ipython",
    "version": 3
   },
   "file_extension": ".py",
   "mimetype": "text/x-python",
   "name": "python",
   "nbconvert_exporter": "python",
   "pygments_lexer": "ipython3",
   "version": "3.10.14"
  }
 },
 "nbformat": 4,
 "nbformat_minor": 5
}
