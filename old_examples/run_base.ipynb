{
 "cells": [
  {
   "cell_type": "code",
   "execution_count": 1,
   "id": "3e94e028-9098-4d66-a008-e895ac8858f2",
   "metadata": {},
   "outputs": [],
   "source": [
    "import json\n",
    "import os\n",
    "os.environ[\"CUDA_DEVICE_ORDER\"]=\"PCI_BUS_ID\"\n",
    "os.environ[\"CUDA_VISIBLE_DEVICES\"]=\"1\"\n",
    "import numpy as np\n",
    "import random\n",
    "import torch\n",
    "from torch.optim import Adam\n",
    "import dgl\n",
    "from datetime import datetime\n",
    "\n",
    "from src import *\n",
    "from pprint import pprint\n",
    "current_time = datetime.now().strftime(\"%Y-%m-%d %H:%M:%S\")\n",
    "\n",
    "data_dir = './data_passrefinder-p'\n",
    "output_dir = f\"{data_dir}/output/base_passrefinder/user/{current_time}\""
   ]
  },
  {
   "cell_type": "code",
   "execution_count": 2,
   "id": "a3e4eaca-2e0c-40f8-8501-8e1b37d03c13",
   "metadata": {},
   "outputs": [
    {
     "name": "stdout",
     "output_type": "stream",
     "text": [
      "Namespace(feature_file='./data_passrefinder-p/data/feature_dict.json', reuse_rate_file='./data_passrefinder-p/data/reuse_rate_dict.json', output_dir='./data_passrefinder-p/output/base_passrefinder/user/2025-03-28 20:30:55', agg_type='attn', dropout=0.5, random_seed=42, relu=0.2, reuse_th=0.5, train_batch_size=2048, eval_batch_size=2048, embed_size=1024, hidden_size=1024, gnn_depth=2, max_lr=0.001, warmup=0.02, max_epoch=100, device=0)\n"
     ]
    }
   ],
   "source": [
    "from argparse import ArgumentParser\n",
    "parser = ArgumentParser()\n",
    "\n",
    "import argparse\n",
    "from pprint import pprint\n",
    "\n",
    "parser = argparse.ArgumentParser(description=\"Parser for model configuration\")\n",
    "\n",
    "parser.add_argument('--feature_file', type=str, default=f\"{data_dir}/data/feature_dict.json\", help='feature json file')\n",
    "parser.add_argument('--reuse_rate_file', type=str, default=f\"{data_dir}/data/reuse_rate_dict.json\", help='reuse rate json file')\n",
    "# parser.add_argument('--setting', type=str, required=True, help='graph learning setting: inductive/transductive')\n",
    "# parser.add_argument('--model_path', type=str, required=True, default=\"./model/\", help='model file path')\n",
    "parser.add_argument('--output_dir', type=str, default=output_dir, help='output path')\n",
    "parser.add_argument('--agg_type', type=str, default=\"attn\", help='aggregation type')\n",
    "# parser.add_argument('--nclient', type=int, default=5, help='number of clients')\n",
    "# parser.add_argument('--valid', type=float, default=0.2, help='split ratio of validation set')\n",
    "# parser.add_argument('--test', type=float, default=0.2, help='split ratio of test set')\n",
    "parser.add_argument('--dropout', type=float, default=0.5, help='dropout ratio')\n",
    "parser.add_argument('--random_seed', type=int, default=42, help='random seed for initialization')\n",
    "parser.add_argument('--relu', type=float, default=0.2, help='ReLU threshold')\n",
    "parser.add_argument('--reuse_th', type=float, default=0.5, help='threshold for reuse')\n",
    "parser.add_argument('--train_batch_size', type=int, default=2048, help='batch size for training')\n",
    "parser.add_argument('--eval_batch_size', type=int, default=2048, help='batch size for evaluation')\n",
    "parser.add_argument('--embed_size', type=int, default=1024, help='size of the embedding layer')\n",
    "parser.add_argument('--hidden_size', type=int, default=1024, help='size of the hidden layer')\n",
    "parser.add_argument('--gnn_depth', type=int, default=2, help='depth of the GNN')\n",
    "parser.add_argument('--max_lr', type=float, default=0.001, help='maximum learning rate')\n",
    "parser.add_argument('--warmup', type=float, default=0.02, help='warmup ratio for learning rate')\n",
    "parser.add_argument('--max_epoch', type=int, default=100, help='maximum number of epochs')\n",
    "# parser.add_argument('--early_stop', type=int, default=40, help='early stopping epochs')\n",
    "parser.add_argument('--device', type=int, default=0, help='GPU ID')\n",
    "\n",
    "args = parser.parse_args(args=[])\n",
    "pprint(args)\n",
    "\n",
    "torch.manual_seed(args.random_seed)\n",
    "torch.cuda.manual_seed(args.random_seed)\n",
    "dgl.seed(args.random_seed)\n",
    "np.random.seed(args.random_seed)\n",
    "random.seed(args.random_seed)"
   ]
  },
  {
   "cell_type": "code",
   "execution_count": 3,
   "id": "826581e9-1e24-4e6f-91c2-ae90530983c6",
   "metadata": {},
   "outputs": [
    {
     "name": "stdout",
     "output_type": "stream",
     "text": [
      "Constructing graph...\n",
      "\u001b[FConstructing graph... Done\n",
      "Splitting graph...\n",
      "\u001b[FSplitting graph... Done\n"
     ]
    }
   ],
   "source": [
    "with open(args.feature_file, 'r') as f:\n",
    "    feature_dict = json.load(f)\n",
    "\n",
    "with open(args.reuse_rate_file, 'r') as f:\n",
    "    reuse_rate_dict = json.load(f)\n",
    "    \n",
    "\n",
    "\n",
    "g = construct_graph(feature_dict, reuse_rate_dict, args.reuse_th, hidden_relation=True)\n",
    "g_dict, target_eids_dict, node_set_list = graph_split_base(g, args.random_seed)\n",
    "\n",
    "\n",
    "\n",
    "# train_loader_list = []\n",
    "# for g, nodes in zip(g_split['train'], node_split['train']):\n",
    "#     train_loader_list.append(get_data_loader(g, nodes, args.train_batch_size, args.gnn_depth, suffle=True))\n",
    "# train_nfeat_list = P.pop_train_node_feature()\n",
    "\n",
    "# valid_loader = get_data_loader(g_split['valid'], node_split['valid'])\n",
    "# valid_nfeat = P.pop_node_feature('valid')\n",
    "# test_loader = get_data_loader(g_split['test'], node_split['test'])\n",
    "# test_nfeat = P.pop_node_feature('test')\n",
    "\n",
    "\n",
    "P = PassREfinder_Base(g_dict, target_eids_dict, node_set_list, args)\n",
    "# P.print_graph()"
   ]
  },
  {
   "cell_type": "code",
   "execution_count": 4,
   "id": "a56bdc50-fce2-45a1-ab48-6b2fb26c9766",
   "metadata": {},
   "outputs": [
    {
     "name": "stdout",
     "output_type": "stream",
     "text": [
      "Graph(num_nodes={'website': 9927},\n",
      "      num_edges={('website', 'reuse', 'website'): 1211942, ('website', 'user', 'website'): 1211942},\n",
      "      metagraph=[('website', 'website', 'reuse'), ('website', 'website', 'user')])\n"
     ]
    }
   ],
   "source": [
    "print(g)"
   ]
  },
  {
   "cell_type": "code",
   "execution_count": 5,
   "id": "39297350-c825-4a1d-9944-39c489028c7f",
   "metadata": {},
   "outputs": [
    {
     "name": "stdout",
     "output_type": "stream",
     "text": [
      "2025-03-28 20:31:05 start\n"
     ]
    },
    {
     "name": "stderr",
     "output_type": "stream",
     "text": [
      "100%|██████████| 24/24 [00:05<00:00,  4.57it/s]\n",
      "100%|██████████| 24/24 [00:05<00:00,  4.43it/s]"
     ]
    },
    {
     "name": "stdout",
     "output_type": "stream",
     "text": [
      "2025-03-28 20:31:16 Epoch [1/100], Train Loss: 0.7045, Valid Loss: 0.6966, Precision: 0.0000, Recall: 0.0000, F1: 0.0000\n"
     ]
    },
    {
     "name": "stderr",
     "output_type": "stream",
     "text": [
      "\n",
      "/home/jaehan/anaconda3/envs/passrefinder/lib/python3.10/site-packages/sklearn/metrics/_classification.py:1509: UndefinedMetricWarning: Precision is ill-defined and being set to 0.0 due to no predicted samples. Use `zero_division` parameter to control this behavior.\n",
      "  _warn_prf(average, modifier, f\"{metric.capitalize()} is\", len(result))\n"
     ]
    },
    {
     "name": "stdout",
     "output_type": "stream",
     "text": [
      "Save model!\n"
     ]
    },
    {
     "name": "stderr",
     "output_type": "stream",
     "text": [
      "100%|██████████| 24/24 [00:04<00:00,  5.11it/s]\n",
      "100%|██████████| 24/24 [00:05<00:00,  4.73it/s]\n"
     ]
    },
    {
     "name": "stdout",
     "output_type": "stream",
     "text": [
      "2025-03-28 20:31:26 Epoch [2/100], Train Loss: 0.6862, Valid Loss: 0.6807, Precision: 0.5604, Recall: 0.7613, F1: 0.6455\n",
      "Save model!\n"
     ]
    },
    {
     "name": "stderr",
     "output_type": "stream",
     "text": [
      "100%|██████████| 24/24 [00:04<00:00,  5.02it/s]\n",
      "100%|██████████| 24/24 [00:05<00:00,  4.27it/s]"
     ]
    },
    {
     "name": "stdout",
     "output_type": "stream",
     "text": [
      "2025-03-28 20:31:37 Epoch [3/100], Train Loss: 0.6173, Valid Loss: 0.5636, Precision: 0.8322, Recall: 0.5190, F1: 0.6393\n"
     ]
    },
    {
     "name": "stderr",
     "output_type": "stream",
     "text": [
      "\n"
     ]
    },
    {
     "name": "stdout",
     "output_type": "stream",
     "text": [
      "Save model!\n"
     ]
    },
    {
     "name": "stderr",
     "output_type": "stream",
     "text": [
      "100%|██████████| 24/24 [00:04<00:00,  5.03it/s]\n",
      "100%|██████████| 24/24 [00:05<00:00,  4.67it/s]\n"
     ]
    },
    {
     "name": "stdout",
     "output_type": "stream",
     "text": [
      "2025-03-28 20:31:48 Epoch [4/100], Train Loss: 0.5458, Valid Loss: 0.6297, Precision: 0.9239, Recall: 0.2500, F1: 0.3935\n"
     ]
    },
    {
     "name": "stderr",
     "output_type": "stream",
     "text": [
      "100%|██████████| 24/24 [00:04<00:00,  5.03it/s]\n",
      "100%|██████████| 24/24 [00:05<00:00,  4.77it/s]\n"
     ]
    },
    {
     "name": "stdout",
     "output_type": "stream",
     "text": [
      "2025-03-28 20:31:58 Epoch [5/100], Train Loss: 0.5190, Valid Loss: 0.6399, Precision: 0.9228, Recall: 0.2642, F1: 0.4109\n"
     ]
    },
    {
     "name": "stderr",
     "output_type": "stream",
     "text": [
      "100%|██████████| 24/24 [00:04<00:00,  5.08it/s]\n",
      "100%|██████████| 24/24 [00:05<00:00,  4.39it/s]\n"
     ]
    },
    {
     "name": "stdout",
     "output_type": "stream",
     "text": [
      "2025-03-28 20:32:08 Epoch [6/100], Train Loss: 0.4743, Valid Loss: 0.5484, Precision: 0.9089, Recall: 0.4348, F1: 0.5882\n",
      "Save model!\n"
     ]
    },
    {
     "name": "stderr",
     "output_type": "stream",
     "text": [
      "100%|██████████| 24/24 [00:04<00:00,  5.04it/s]\n",
      "100%|██████████| 24/24 [00:05<00:00,  4.47it/s]"
     ]
    },
    {
     "name": "stdout",
     "output_type": "stream",
     "text": [
      "2025-03-28 20:32:20 Epoch [7/100], Train Loss: 0.4458, Valid Loss: 0.5696, Precision: 0.9102, Recall: 0.4017, F1: 0.5574\n"
     ]
    },
    {
     "name": "stderr",
     "output_type": "stream",
     "text": [
      "\n",
      "100%|██████████| 24/24 [00:04<00:00,  5.13it/s]\n",
      "100%|██████████| 24/24 [00:05<00:00,  4.73it/s]\n"
     ]
    },
    {
     "name": "stdout",
     "output_type": "stream",
     "text": [
      "2025-03-28 20:32:29 Epoch [8/100], Train Loss: 0.4255, Valid Loss: 0.4751, Precision: 0.8584, Recall: 0.6378, F1: 0.7319\n",
      "Save model!\n"
     ]
    },
    {
     "name": "stderr",
     "output_type": "stream",
     "text": [
      "100%|██████████| 24/24 [00:04<00:00,  5.06it/s]\n",
      "100%|██████████| 24/24 [00:04<00:00,  5.02it/s]\n"
     ]
    },
    {
     "name": "stdout",
     "output_type": "stream",
     "text": [
      "2025-03-28 20:32:40 Epoch [9/100], Train Loss: 0.3871, Valid Loss: 0.4192, Precision: 0.8331, Recall: 0.7784, F1: 0.8048\n",
      "Save model!\n"
     ]
    },
    {
     "name": "stderr",
     "output_type": "stream",
     "text": [
      "100%|██████████| 24/24 [00:04<00:00,  5.42it/s]\n",
      "100%|██████████| 24/24 [00:04<00:00,  4.94it/s]\n"
     ]
    },
    {
     "name": "stdout",
     "output_type": "stream",
     "text": [
      "2025-03-28 20:32:50 Epoch [10/100], Train Loss: 0.3851, Valid Loss: 0.4812, Precision: 0.8834, Recall: 0.6114, F1: 0.7226\n"
     ]
    },
    {
     "name": "stderr",
     "output_type": "stream",
     "text": [
      "100%|██████████| 24/24 [00:04<00:00,  5.44it/s]\n",
      "100%|██████████| 24/24 [00:05<00:00,  4.80it/s]\n"
     ]
    },
    {
     "name": "stdout",
     "output_type": "stream",
     "text": [
      "2025-03-28 20:33:00 Epoch [11/100], Train Loss: 0.3846, Valid Loss: 0.4360, Precision: 0.8143, Recall: 0.7846, F1: 0.7991\n"
     ]
    },
    {
     "name": "stderr",
     "output_type": "stream",
     "text": [
      "100%|██████████| 24/24 [00:04<00:00,  5.31it/s]\n",
      "100%|██████████| 24/24 [00:04<00:00,  4.92it/s]\n"
     ]
    },
    {
     "name": "stdout",
     "output_type": "stream",
     "text": [
      "2025-03-28 20:33:09 Epoch [12/100], Train Loss: 0.3775, Valid Loss: 0.4311, Precision: 0.7967, Recall: 0.8328, F1: 0.8143\n"
     ]
    },
    {
     "name": "stderr",
     "output_type": "stream",
     "text": [
      "100%|██████████| 24/24 [00:04<00:00,  5.19it/s]\n",
      "100%|██████████| 24/24 [00:04<00:00,  5.06it/s]\n"
     ]
    },
    {
     "name": "stdout",
     "output_type": "stream",
     "text": [
      "2025-03-28 20:33:19 Epoch [13/100], Train Loss: 0.3529, Valid Loss: 0.4189, Precision: 0.8462, Recall: 0.7583, F1: 0.7999\n",
      "Save model!\n"
     ]
    },
    {
     "name": "stderr",
     "output_type": "stream",
     "text": [
      "100%|██████████| 24/24 [00:04<00:00,  5.38it/s]\n",
      "100%|██████████| 24/24 [00:05<00:00,  4.79it/s]\n"
     ]
    },
    {
     "name": "stdout",
     "output_type": "stream",
     "text": [
      "2025-03-28 20:33:29 Epoch [14/100], Train Loss: 0.3537, Valid Loss: 0.4487, Precision: 0.8195, Recall: 0.7608, F1: 0.7891\n"
     ]
    },
    {
     "name": "stderr",
     "output_type": "stream",
     "text": [
      "100%|██████████| 24/24 [00:04<00:00,  5.44it/s]\n",
      "100%|██████████| 24/24 [00:04<00:00,  5.04it/s]\n"
     ]
    },
    {
     "name": "stdout",
     "output_type": "stream",
     "text": [
      "2025-03-28 20:33:38 Epoch [15/100], Train Loss: 0.3536, Valid Loss: 0.4153, Precision: 0.8390, Recall: 0.7784, F1: 0.8076\n",
      "Save model!\n"
     ]
    },
    {
     "name": "stderr",
     "output_type": "stream",
     "text": [
      "100%|██████████| 24/24 [00:04<00:00,  5.39it/s]\n",
      "100%|██████████| 24/24 [00:04<00:00,  5.02it/s]\n"
     ]
    },
    {
     "name": "stdout",
     "output_type": "stream",
     "text": [
      "2025-03-28 20:33:49 Epoch [16/100], Train Loss: 0.3404, Valid Loss: 0.5115, Precision: 0.8920, Recall: 0.6378, F1: 0.7438\n"
     ]
    },
    {
     "name": "stderr",
     "output_type": "stream",
     "text": [
      "100%|██████████| 24/24 [00:04<00:00,  5.34it/s]\n",
      "100%|██████████| 24/24 [00:05<00:00,  4.80it/s]\n"
     ]
    },
    {
     "name": "stdout",
     "output_type": "stream",
     "text": [
      "2025-03-28 20:33:58 Epoch [17/100], Train Loss: 0.3346, Valid Loss: 0.4712, Precision: 0.8886, Recall: 0.6492, F1: 0.7502\n"
     ]
    },
    {
     "name": "stderr",
     "output_type": "stream",
     "text": [
      "100%|██████████| 24/24 [00:04<00:00,  5.36it/s]\n",
      "100%|██████████| 24/24 [00:04<00:00,  5.05it/s]\n"
     ]
    },
    {
     "name": "stdout",
     "output_type": "stream",
     "text": [
      "2025-03-28 20:34:08 Epoch [18/100], Train Loss: 0.3275, Valid Loss: 0.4547, Precision: 0.8564, Recall: 0.7135, F1: 0.7784\n"
     ]
    },
    {
     "name": "stderr",
     "output_type": "stream",
     "text": [
      "100%|██████████| 24/24 [00:04<00:00,  5.56it/s]\n",
      "100%|██████████| 24/24 [00:04<00:00,  5.05it/s]\n"
     ]
    },
    {
     "name": "stdout",
     "output_type": "stream",
     "text": [
      "2025-03-28 20:34:17 Epoch [19/100], Train Loss: 0.3309, Valid Loss: 0.4095, Precision: 0.8091, Recall: 0.8407, F1: 0.8246\n",
      "Save model!\n"
     ]
    },
    {
     "name": "stderr",
     "output_type": "stream",
     "text": [
      "100%|██████████| 24/24 [00:04<00:00,  5.27it/s]\n",
      "100%|██████████| 24/24 [00:04<00:00,  5.06it/s]\n"
     ]
    },
    {
     "name": "stdout",
     "output_type": "stream",
     "text": [
      "2025-03-28 20:34:27 Epoch [20/100], Train Loss: 0.3294, Valid Loss: 0.4173, Precision: 0.8108, Recall: 0.8246, F1: 0.8177\n"
     ]
    },
    {
     "name": "stderr",
     "output_type": "stream",
     "text": [
      "100%|██████████| 24/24 [00:04<00:00,  5.49it/s]\n",
      "100%|██████████| 24/24 [00:04<00:00,  5.01it/s]\n"
     ]
    },
    {
     "name": "stdout",
     "output_type": "stream",
     "text": [
      "2025-03-28 20:34:36 Epoch [21/100], Train Loss: 0.3191, Valid Loss: 0.4400, Precision: 0.8444, Recall: 0.7315, F1: 0.7839\n"
     ]
    },
    {
     "name": "stderr",
     "output_type": "stream",
     "text": [
      "100%|██████████| 24/24 [00:04<00:00,  5.40it/s]\n",
      "100%|██████████| 24/24 [00:05<00:00,  4.80it/s]\n"
     ]
    },
    {
     "name": "stdout",
     "output_type": "stream",
     "text": [
      "2025-03-28 20:34:46 Epoch [22/100], Train Loss: 0.3043, Valid Loss: 0.4458, Precision: 0.8498, Recall: 0.7440, F1: 0.7934\n"
     ]
    },
    {
     "name": "stderr",
     "output_type": "stream",
     "text": [
      "100%|██████████| 24/24 [00:04<00:00,  5.48it/s]\n",
      "100%|██████████| 24/24 [00:04<00:00,  5.12it/s]\n"
     ]
    },
    {
     "name": "stdout",
     "output_type": "stream",
     "text": [
      "2025-03-28 20:34:55 Epoch [23/100], Train Loss: 0.2992, Valid Loss: 0.4545, Precision: 0.8362, Recall: 0.7551, F1: 0.7936\n"
     ]
    },
    {
     "name": "stderr",
     "output_type": "stream",
     "text": [
      "100%|██████████| 24/24 [00:04<00:00,  5.40it/s]\n",
      "100%|██████████| 24/24 [00:04<00:00,  5.06it/s]\n"
     ]
    },
    {
     "name": "stdout",
     "output_type": "stream",
     "text": [
      "2025-03-28 20:35:04 Epoch [24/100], Train Loss: 0.2915, Valid Loss: 0.4384, Precision: 0.8465, Recall: 0.7413, F1: 0.7904\n"
     ]
    },
    {
     "name": "stderr",
     "output_type": "stream",
     "text": [
      "100%|██████████| 24/24 [00:04<00:00,  5.35it/s]\n",
      "100%|██████████| 24/24 [00:04<00:00,  4.84it/s]\n"
     ]
    },
    {
     "name": "stdout",
     "output_type": "stream",
     "text": [
      "2025-03-28 20:35:14 Epoch [25/100], Train Loss: 0.2863, Valid Loss: 0.4341, Precision: 0.8508, Recall: 0.7495, F1: 0.7969\n"
     ]
    },
    {
     "name": "stderr",
     "output_type": "stream",
     "text": [
      "100%|██████████| 24/24 [00:04<00:00,  5.43it/s]\n",
      "100%|██████████| 24/24 [00:04<00:00,  5.06it/s]\n"
     ]
    },
    {
     "name": "stdout",
     "output_type": "stream",
     "text": [
      "2025-03-28 20:35:23 Epoch [26/100], Train Loss: 0.2894, Valid Loss: 0.4092, Precision: 0.8245, Recall: 0.8056, F1: 0.8149\n",
      "Save model!\n"
     ]
    },
    {
     "name": "stderr",
     "output_type": "stream",
     "text": [
      "100%|██████████| 24/24 [00:04<00:00,  5.50it/s]\n",
      "100%|██████████| 24/24 [00:04<00:00,  5.08it/s]\n"
     ]
    },
    {
     "name": "stdout",
     "output_type": "stream",
     "text": [
      "2025-03-28 20:35:33 Epoch [27/100], Train Loss: 0.2888, Valid Loss: 0.4969, Precision: 0.8760, Recall: 0.6482, F1: 0.7450\n"
     ]
    },
    {
     "name": "stderr",
     "output_type": "stream",
     "text": [
      "100%|██████████| 24/24 [00:04<00:00,  5.20it/s]\n",
      "100%|██████████| 24/24 [00:04<00:00,  5.08it/s]\n"
     ]
    },
    {
     "name": "stdout",
     "output_type": "stream",
     "text": [
      "2025-03-28 20:35:43 Epoch [28/100], Train Loss: 0.2840, Valid Loss: 0.4341, Precision: 0.8575, Recall: 0.7572, F1: 0.8042\n"
     ]
    },
    {
     "name": "stderr",
     "output_type": "stream",
     "text": [
      "100%|██████████| 24/24 [00:04<00:00,  5.28it/s]\n",
      "100%|██████████| 24/24 [00:04<00:00,  5.00it/s]\n"
     ]
    },
    {
     "name": "stdout",
     "output_type": "stream",
     "text": [
      "2025-03-28 20:35:52 Epoch [29/100], Train Loss: 0.2868, Valid Loss: 0.4541, Precision: 0.8455, Recall: 0.7636, F1: 0.8025\n"
     ]
    },
    {
     "name": "stderr",
     "output_type": "stream",
     "text": [
      "100%|██████████| 24/24 [00:04<00:00,  5.48it/s]\n",
      "100%|██████████| 24/24 [00:05<00:00,  4.72it/s]"
     ]
    },
    {
     "name": "stdout",
     "output_type": "stream",
     "text": [
      "2025-03-28 20:36:01 Epoch [30/100], Train Loss: 0.2863, Valid Loss: 0.4206, Precision: 0.8167, Recall: 0.8062, F1: 0.8114\n"
     ]
    },
    {
     "name": "stderr",
     "output_type": "stream",
     "text": [
      "\n",
      "100%|██████████| 24/24 [00:04<00:00,  5.34it/s]\n",
      "100%|██████████| 24/24 [00:04<00:00,  5.11it/s]\n"
     ]
    },
    {
     "name": "stdout",
     "output_type": "stream",
     "text": [
      "2025-03-28 20:36:11 Epoch [31/100], Train Loss: 0.2811, Valid Loss: 0.4241, Precision: 0.8408, Recall: 0.7605, F1: 0.7986\n"
     ]
    },
    {
     "name": "stderr",
     "output_type": "stream",
     "text": [
      "100%|██████████| 24/24 [00:04<00:00,  5.43it/s]\n",
      "100%|██████████| 24/24 [00:04<00:00,  4.95it/s]\n"
     ]
    },
    {
     "name": "stdout",
     "output_type": "stream",
     "text": [
      "2025-03-28 20:36:20 Epoch [32/100], Train Loss: 0.2838, Valid Loss: 0.4185, Precision: 0.8595, Recall: 0.7588, F1: 0.8060\n"
     ]
    },
    {
     "name": "stderr",
     "output_type": "stream",
     "text": [
      "100%|██████████| 24/24 [00:04<00:00,  5.28it/s]\n",
      "100%|██████████| 24/24 [00:05<00:00,  4.78it/s]\n"
     ]
    },
    {
     "name": "stdout",
     "output_type": "stream",
     "text": [
      "2025-03-28 20:36:30 Epoch [33/100], Train Loss: 0.2775, Valid Loss: 0.4191, Precision: 0.8400, Recall: 0.8001, F1: 0.8196\n"
     ]
    },
    {
     "name": "stderr",
     "output_type": "stream",
     "text": [
      "100%|██████████| 24/24 [00:04<00:00,  5.35it/s]\n",
      "100%|██████████| 24/24 [00:04<00:00,  5.05it/s]\n"
     ]
    },
    {
     "name": "stdout",
     "output_type": "stream",
     "text": [
      "2025-03-28 20:36:39 Epoch [34/100], Train Loss: 0.2727, Valid Loss: 0.4233, Precision: 0.8474, Recall: 0.7538, F1: 0.7979\n"
     ]
    },
    {
     "name": "stderr",
     "output_type": "stream",
     "text": [
      "100%|██████████| 24/24 [00:04<00:00,  5.49it/s]\n",
      "100%|██████████| 24/24 [00:04<00:00,  5.04it/s]\n"
     ]
    },
    {
     "name": "stdout",
     "output_type": "stream",
     "text": [
      "2025-03-28 20:36:48 Epoch [35/100], Train Loss: 0.2665, Valid Loss: 0.4226, Precision: 0.8546, Recall: 0.7598, F1: 0.8044\n"
     ]
    },
    {
     "name": "stderr",
     "output_type": "stream",
     "text": [
      "100%|██████████| 24/24 [00:05<00:00,  4.77it/s]\n",
      "100%|██████████| 24/24 [00:04<00:00,  4.95it/s]\n"
     ]
    },
    {
     "name": "stdout",
     "output_type": "stream",
     "text": [
      "2025-03-28 20:36:58 Epoch [36/100], Train Loss: 0.2707, Valid Loss: 0.4362, Precision: 0.8768, Recall: 0.7154, F1: 0.7879\n"
     ]
    },
    {
     "name": "stderr",
     "output_type": "stream",
     "text": [
      "100%|██████████| 24/24 [00:04<00:00,  4.99it/s]\n",
      "100%|██████████| 24/24 [00:04<00:00,  5.05it/s]\n"
     ]
    },
    {
     "name": "stdout",
     "output_type": "stream",
     "text": [
      "2025-03-28 20:37:08 Epoch [37/100], Train Loss: 0.2677, Valid Loss: 0.4301, Precision: 0.8670, Recall: 0.7385, F1: 0.7976\n"
     ]
    },
    {
     "name": "stderr",
     "output_type": "stream",
     "text": [
      "100%|██████████| 24/24 [00:04<00:00,  4.96it/s]\n",
      "100%|██████████| 24/24 [00:05<00:00,  4.78it/s]\n"
     ]
    },
    {
     "name": "stdout",
     "output_type": "stream",
     "text": [
      "2025-03-28 20:37:18 Epoch [38/100], Train Loss: 0.2654, Valid Loss: 0.4206, Precision: 0.8484, Recall: 0.7673, F1: 0.8058\n"
     ]
    },
    {
     "name": "stderr",
     "output_type": "stream",
     "text": [
      "100%|██████████| 24/24 [00:04<00:00,  5.20it/s]\n",
      "100%|██████████| 24/24 [00:04<00:00,  5.02it/s]\n"
     ]
    },
    {
     "name": "stdout",
     "output_type": "stream",
     "text": [
      "2025-03-28 20:37:27 Epoch [39/100], Train Loss: 0.2678, Valid Loss: 0.4387, Precision: 0.8455, Recall: 0.7478, F1: 0.7937\n"
     ]
    },
    {
     "name": "stderr",
     "output_type": "stream",
     "text": [
      "100%|██████████| 24/24 [00:04<00:00,  5.24it/s]\n",
      "100%|██████████| 24/24 [00:04<00:00,  4.99it/s]\n"
     ]
    },
    {
     "name": "stdout",
     "output_type": "stream",
     "text": [
      "2025-03-28 20:37:37 Epoch [40/100], Train Loss: 0.2658, Valid Loss: 0.4074, Precision: 0.8370, Recall: 0.8054, F1: 0.8209\n",
      "Save model!\n"
     ]
    },
    {
     "name": "stderr",
     "output_type": "stream",
     "text": [
      "100%|██████████| 24/24 [00:04<00:00,  5.19it/s]\n",
      "100%|██████████| 24/24 [00:04<00:00,  4.84it/s]\n"
     ]
    },
    {
     "name": "stdout",
     "output_type": "stream",
     "text": [
      "2025-03-28 20:37:47 Epoch [41/100], Train Loss: 0.2595, Valid Loss: 0.4192, Precision: 0.8487, Recall: 0.7691, F1: 0.8069\n"
     ]
    },
    {
     "name": "stderr",
     "output_type": "stream",
     "text": [
      "100%|██████████| 24/24 [00:04<00:00,  5.14it/s]\n",
      "100%|██████████| 24/24 [00:04<00:00,  5.12it/s]\n"
     ]
    },
    {
     "name": "stdout",
     "output_type": "stream",
     "text": [
      "2025-03-28 20:37:57 Epoch [42/100], Train Loss: 0.2560, Valid Loss: 0.4235, Precision: 0.8463, Recall: 0.7766, F1: 0.8100\n"
     ]
    },
    {
     "name": "stderr",
     "output_type": "stream",
     "text": [
      "100%|██████████| 24/24 [00:04<00:00,  5.38it/s]\n",
      "100%|██████████| 24/24 [00:05<00:00,  4.76it/s]\n"
     ]
    },
    {
     "name": "stdout",
     "output_type": "stream",
     "text": [
      "2025-03-28 20:38:06 Epoch [43/100], Train Loss: 0.2551, Valid Loss: 0.4166, Precision: 0.8561, Recall: 0.7551, F1: 0.8024\n"
     ]
    },
    {
     "name": "stderr",
     "output_type": "stream",
     "text": [
      "100%|██████████| 24/24 [00:04<00:00,  5.45it/s]\n",
      "100%|██████████| 24/24 [00:04<00:00,  5.11it/s]\n"
     ]
    },
    {
     "name": "stdout",
     "output_type": "stream",
     "text": [
      "2025-03-28 20:38:16 Epoch [44/100], Train Loss: 0.2610, Valid Loss: 0.4321, Precision: 0.8679, Recall: 0.7319, F1: 0.7941\n"
     ]
    },
    {
     "name": "stderr",
     "output_type": "stream",
     "text": [
      "100%|██████████| 24/24 [00:04<00:00,  5.45it/s]\n",
      "100%|██████████| 24/24 [00:04<00:00,  4.98it/s]\n"
     ]
    },
    {
     "name": "stdout",
     "output_type": "stream",
     "text": [
      "2025-03-28 20:38:25 Epoch [45/100], Train Loss: 0.2609, Valid Loss: 0.4287, Precision: 0.8428, Recall: 0.7745, F1: 0.8072\n"
     ]
    },
    {
     "name": "stderr",
     "output_type": "stream",
     "text": [
      "100%|██████████| 24/24 [00:04<00:00,  5.40it/s]\n",
      "100%|██████████| 24/24 [00:05<00:00,  4.61it/s]\n"
     ]
    },
    {
     "name": "stdout",
     "output_type": "stream",
     "text": [
      "2025-03-28 20:38:35 Epoch [46/100], Train Loss: 0.2582, Valid Loss: 0.4292, Precision: 0.8324, Recall: 0.7983, F1: 0.8150\n"
     ]
    },
    {
     "name": "stderr",
     "output_type": "stream",
     "text": [
      "100%|██████████| 24/24 [00:04<00:00,  5.23it/s]\n",
      "100%|██████████| 24/24 [00:04<00:00,  4.96it/s]\n"
     ]
    },
    {
     "name": "stdout",
     "output_type": "stream",
     "text": [
      "2025-03-28 20:38:44 Epoch [47/100], Train Loss: 0.2494, Valid Loss: 0.4309, Precision: 0.8634, Recall: 0.7427, F1: 0.7985\n"
     ]
    },
    {
     "name": "stderr",
     "output_type": "stream",
     "text": [
      "100%|██████████| 24/24 [00:04<00:00,  5.34it/s]\n",
      "100%|██████████| 24/24 [00:04<00:00,  5.08it/s]\n"
     ]
    },
    {
     "name": "stdout",
     "output_type": "stream",
     "text": [
      "2025-03-28 20:38:54 Epoch [48/100], Train Loss: 0.2545, Valid Loss: 0.4694, Precision: 0.8521, Recall: 0.7256, F1: 0.7837\n"
     ]
    },
    {
     "name": "stderr",
     "output_type": "stream",
     "text": [
      "100%|██████████| 24/24 [00:04<00:00,  5.55it/s]\n",
      "100%|██████████| 24/24 [00:05<00:00,  4.79it/s]\n"
     ]
    },
    {
     "name": "stdout",
     "output_type": "stream",
     "text": [
      "2025-03-28 20:39:03 Epoch [49/100], Train Loss: 0.2557, Valid Loss: 0.4413, Precision: 0.8460, Recall: 0.7516, F1: 0.7961\n"
     ]
    },
    {
     "name": "stderr",
     "output_type": "stream",
     "text": [
      "100%|██████████| 24/24 [00:04<00:00,  5.36it/s]\n",
      "100%|██████████| 24/24 [00:04<00:00,  5.00it/s]\n"
     ]
    },
    {
     "name": "stdout",
     "output_type": "stream",
     "text": [
      "2025-03-28 20:39:12 Epoch [50/100], Train Loss: 0.2511, Valid Loss: 0.4160, Precision: 0.8244, Recall: 0.8244, F1: 0.8244\n"
     ]
    },
    {
     "name": "stderr",
     "output_type": "stream",
     "text": [
      "100%|██████████| 24/24 [00:04<00:00,  5.40it/s]\n",
      "100%|██████████| 24/24 [00:04<00:00,  5.02it/s]\n"
     ]
    },
    {
     "name": "stdout",
     "output_type": "stream",
     "text": [
      "2025-03-28 20:39:22 Epoch [51/100], Train Loss: 0.2588, Valid Loss: 0.4342, Precision: 0.8584, Recall: 0.7327, F1: 0.7906\n"
     ]
    },
    {
     "name": "stderr",
     "output_type": "stream",
     "text": [
      "100%|██████████| 24/24 [00:04<00:00,  5.52it/s]\n",
      "100%|██████████| 24/24 [00:05<00:00,  4.77it/s]\n"
     ]
    },
    {
     "name": "stdout",
     "output_type": "stream",
     "text": [
      "2025-03-28 20:39:31 Epoch [52/100], Train Loss: 0.2565, Valid Loss: 0.4646, Precision: 0.8607, Recall: 0.7095, F1: 0.7778\n"
     ]
    },
    {
     "name": "stderr",
     "output_type": "stream",
     "text": [
      "100%|██████████| 24/24 [00:04<00:00,  5.41it/s]\n",
      "100%|██████████| 24/24 [00:04<00:00,  5.02it/s]\n"
     ]
    },
    {
     "name": "stdout",
     "output_type": "stream",
     "text": [
      "2025-03-28 20:39:40 Epoch [53/100], Train Loss: 0.2514, Valid Loss: 0.4405, Precision: 0.8341, Recall: 0.7697, F1: 0.8006\n"
     ]
    },
    {
     "name": "stderr",
     "output_type": "stream",
     "text": [
      "100%|██████████| 24/24 [00:04<00:00,  5.48it/s]\n",
      "100%|██████████| 24/24 [00:05<00:00,  4.79it/s]"
     ]
    },
    {
     "name": "stdout",
     "output_type": "stream",
     "text": [
      "2025-03-28 20:39:50 Epoch [54/100], Train Loss: 0.2485, Valid Loss: 0.4435, Precision: 0.8337, Recall: 0.7973, F1: 0.8151\n"
     ]
    },
    {
     "name": "stderr",
     "output_type": "stream",
     "text": [
      "\n",
      "100%|██████████| 24/24 [00:04<00:00,  5.38it/s]\n",
      "100%|██████████| 24/24 [00:04<00:00,  5.05it/s]\n"
     ]
    },
    {
     "name": "stdout",
     "output_type": "stream",
     "text": [
      "2025-03-28 20:39:59 Epoch [55/100], Train Loss: 0.2573, Valid Loss: 0.4838, Precision: 0.8640, Recall: 0.6875, F1: 0.7657\n"
     ]
    },
    {
     "name": "stderr",
     "output_type": "stream",
     "text": [
      "100%|██████████| 24/24 [00:04<00:00,  5.24it/s]\n",
      "100%|██████████| 24/24 [00:04<00:00,  5.09it/s]\n"
     ]
    },
    {
     "name": "stdout",
     "output_type": "stream",
     "text": [
      "2025-03-28 20:40:09 Epoch [56/100], Train Loss: 0.2479, Valid Loss: 0.4488, Precision: 0.8325, Recall: 0.7786, F1: 0.8047\n"
     ]
    },
    {
     "name": "stderr",
     "output_type": "stream",
     "text": [
      "100%|██████████| 24/24 [00:04<00:00,  5.42it/s]\n",
      "100%|██████████| 24/24 [00:04<00:00,  4.83it/s]\n"
     ]
    },
    {
     "name": "stdout",
     "output_type": "stream",
     "text": [
      "2025-03-28 20:40:18 Epoch [57/100], Train Loss: 0.2469, Valid Loss: 0.4269, Precision: 0.8454, Recall: 0.7885, F1: 0.8160\n"
     ]
    },
    {
     "name": "stderr",
     "output_type": "stream",
     "text": [
      "100%|██████████| 24/24 [00:04<00:00,  5.27it/s]\n",
      "100%|██████████| 24/24 [00:04<00:00,  5.10it/s]\n"
     ]
    },
    {
     "name": "stdout",
     "output_type": "stream",
     "text": [
      "2025-03-28 20:40:27 Epoch [58/100], Train Loss: 0.2431, Valid Loss: 0.4508, Precision: 0.8557, Recall: 0.7610, F1: 0.8056\n"
     ]
    },
    {
     "name": "stderr",
     "output_type": "stream",
     "text": [
      "100%|██████████| 24/24 [00:04<00:00,  5.40it/s]\n",
      "100%|██████████| 24/24 [00:04<00:00,  5.13it/s]\n"
     ]
    },
    {
     "name": "stdout",
     "output_type": "stream",
     "text": [
      "2025-03-28 20:40:37 Epoch [59/100], Train Loss: 0.2391, Valid Loss: 0.4429, Precision: 0.8360, Recall: 0.7937, F1: 0.8143\n"
     ]
    },
    {
     "name": "stderr",
     "output_type": "stream",
     "text": [
      "100%|██████████| 24/24 [00:04<00:00,  5.03it/s]\n",
      "100%|██████████| 24/24 [00:04<00:00,  5.11it/s]\n"
     ]
    },
    {
     "name": "stdout",
     "output_type": "stream",
     "text": [
      "2025-03-28 20:40:46 Epoch [60/100], Train Loss: 0.2385, Valid Loss: 0.4440, Precision: 0.8562, Recall: 0.7674, F1: 0.8094\n"
     ]
    },
    {
     "name": "stderr",
     "output_type": "stream",
     "text": [
      "100%|██████████| 24/24 [00:04<00:00,  5.00it/s]\n",
      "100%|██████████| 24/24 [00:04<00:00,  5.05it/s]\n"
     ]
    },
    {
     "name": "stdout",
     "output_type": "stream",
     "text": [
      "2025-03-28 20:40:56 Epoch [61/100], Train Loss: 0.2425, Valid Loss: 0.4546, Precision: 0.8564, Recall: 0.7687, F1: 0.8102\n"
     ]
    },
    {
     "name": "stderr",
     "output_type": "stream",
     "text": [
      "100%|██████████| 24/24 [00:04<00:00,  5.34it/s]\n",
      "100%|██████████| 24/24 [00:05<00:00,  4.76it/s]\n"
     ]
    },
    {
     "name": "stdout",
     "output_type": "stream",
     "text": [
      "2025-03-28 20:41:05 Epoch [62/100], Train Loss: 0.2376, Valid Loss: 0.4478, Precision: 0.8375, Recall: 0.7902, F1: 0.8132\n"
     ]
    },
    {
     "name": "stderr",
     "output_type": "stream",
     "text": [
      "100%|██████████| 24/24 [00:04<00:00,  5.18it/s]\n",
      "100%|██████████| 24/24 [00:04<00:00,  5.03it/s]\n"
     ]
    },
    {
     "name": "stdout",
     "output_type": "stream",
     "text": [
      "2025-03-28 20:41:15 Epoch [63/100], Train Loss: 0.2342, Valid Loss: 0.4488, Precision: 0.8395, Recall: 0.7855, F1: 0.8116\n"
     ]
    },
    {
     "name": "stderr",
     "output_type": "stream",
     "text": [
      "100%|██████████| 24/24 [00:04<00:00,  5.27it/s]\n",
      "100%|██████████| 24/24 [00:04<00:00,  5.09it/s]\n"
     ]
    },
    {
     "name": "stdout",
     "output_type": "stream",
     "text": [
      "2025-03-28 20:41:24 Epoch [64/100], Train Loss: 0.2318, Valid Loss: 0.4293, Precision: 0.8304, Recall: 0.8152, F1: 0.8227\n"
     ]
    },
    {
     "name": "stderr",
     "output_type": "stream",
     "text": [
      "100%|██████████| 24/24 [00:04<00:00,  5.14it/s]\n",
      "100%|██████████| 24/24 [00:04<00:00,  5.16it/s]\n"
     ]
    },
    {
     "name": "stdout",
     "output_type": "stream",
     "text": [
      "2025-03-28 20:41:34 Epoch [65/100], Train Loss: 0.2324, Valid Loss: 0.4517, Precision: 0.8456, Recall: 0.7776, F1: 0.8102\n"
     ]
    },
    {
     "name": "stderr",
     "output_type": "stream",
     "text": [
      "100%|██████████| 24/24 [00:04<00:00,  5.44it/s]\n",
      "100%|██████████| 24/24 [00:04<00:00,  5.06it/s]\n"
     ]
    },
    {
     "name": "stdout",
     "output_type": "stream",
     "text": [
      "2025-03-28 20:41:43 Epoch [66/100], Train Loss: 0.2312, Valid Loss: 0.4455, Precision: 0.8495, Recall: 0.7658, F1: 0.8055\n"
     ]
    },
    {
     "name": "stderr",
     "output_type": "stream",
     "text": [
      "100%|██████████| 24/24 [00:04<00:00,  5.28it/s]\n",
      "100%|██████████| 24/24 [00:05<00:00,  4.80it/s]\n"
     ]
    },
    {
     "name": "stdout",
     "output_type": "stream",
     "text": [
      "2025-03-28 20:41:53 Epoch [67/100], Train Loss: 0.2285, Valid Loss: 0.4506, Precision: 0.8515, Recall: 0.7588, F1: 0.8025\n"
     ]
    },
    {
     "name": "stderr",
     "output_type": "stream",
     "text": [
      "100%|██████████| 24/24 [00:04<00:00,  5.39it/s]\n",
      "100%|██████████| 24/24 [00:04<00:00,  5.09it/s]\n"
     ]
    },
    {
     "name": "stdout",
     "output_type": "stream",
     "text": [
      "2025-03-28 20:42:02 Epoch [68/100], Train Loss: 0.2310, Valid Loss: 0.4479, Precision: 0.8483, Recall: 0.7581, F1: 0.8006\n"
     ]
    },
    {
     "name": "stderr",
     "output_type": "stream",
     "text": [
      "100%|██████████| 24/24 [00:04<00:00,  5.55it/s]\n",
      "100%|██████████| 24/24 [00:04<00:00,  5.10it/s]\n"
     ]
    },
    {
     "name": "stdout",
     "output_type": "stream",
     "text": [
      "2025-03-28 20:42:11 Epoch [69/100], Train Loss: 0.2310, Valid Loss: 0.4643, Precision: 0.8601, Recall: 0.7464, F1: 0.7992\n"
     ]
    },
    {
     "name": "stderr",
     "output_type": "stream",
     "text": [
      "100%|██████████| 24/24 [00:04<00:00,  5.41it/s]\n",
      "100%|██████████| 24/24 [00:04<00:00,  4.83it/s]\n"
     ]
    },
    {
     "name": "stdout",
     "output_type": "stream",
     "text": [
      "2025-03-28 20:42:20 Epoch [70/100], Train Loss: 0.2278, Valid Loss: 0.4657, Precision: 0.8625, Recall: 0.7452, F1: 0.7996\n"
     ]
    },
    {
     "name": "stderr",
     "output_type": "stream",
     "text": [
      "100%|██████████| 24/24 [00:04<00:00,  5.44it/s]\n",
      "100%|██████████| 24/24 [00:04<00:00,  5.05it/s]\n"
     ]
    },
    {
     "name": "stdout",
     "output_type": "stream",
     "text": [
      "2025-03-28 20:42:30 Epoch [71/100], Train Loss: 0.2280, Valid Loss: 0.4780, Precision: 0.8720, Recall: 0.7283, F1: 0.7937\n"
     ]
    },
    {
     "name": "stderr",
     "output_type": "stream",
     "text": [
      "100%|██████████| 24/24 [00:04<00:00,  5.47it/s]\n",
      "100%|██████████| 24/24 [00:04<00:00,  5.03it/s]\n"
     ]
    },
    {
     "name": "stdout",
     "output_type": "stream",
     "text": [
      "2025-03-28 20:42:39 Epoch [72/100], Train Loss: 0.2263, Valid Loss: 0.4631, Precision: 0.8669, Recall: 0.7377, F1: 0.7971\n"
     ]
    },
    {
     "name": "stderr",
     "output_type": "stream",
     "text": [
      "100%|██████████| 24/24 [00:04<00:00,  5.43it/s]\n",
      "100%|██████████| 24/24 [00:04<00:00,  4.81it/s]\n"
     ]
    },
    {
     "name": "stdout",
     "output_type": "stream",
     "text": [
      "2025-03-28 20:42:48 Epoch [73/100], Train Loss: 0.2291, Valid Loss: 0.4519, Precision: 0.8640, Recall: 0.7443, F1: 0.7997\n"
     ]
    },
    {
     "name": "stderr",
     "output_type": "stream",
     "text": [
      "100%|██████████| 24/24 [00:04<00:00,  5.42it/s]\n",
      "100%|██████████| 24/24 [00:04<00:00,  5.06it/s]\n"
     ]
    },
    {
     "name": "stdout",
     "output_type": "stream",
     "text": [
      "2025-03-28 20:42:58 Epoch [74/100], Train Loss: 0.2286, Valid Loss: 0.4554, Precision: 0.8583, Recall: 0.7514, F1: 0.8013\n"
     ]
    },
    {
     "name": "stderr",
     "output_type": "stream",
     "text": [
      "100%|██████████| 24/24 [00:04<00:00,  5.16it/s]\n",
      "100%|██████████| 24/24 [00:05<00:00,  4.73it/s]\n"
     ]
    },
    {
     "name": "stdout",
     "output_type": "stream",
     "text": [
      "2025-03-28 20:43:08 Epoch [75/100], Train Loss: 0.2272, Valid Loss: 0.4542, Precision: 0.8482, Recall: 0.7746, F1: 0.8097\n"
     ]
    },
    {
     "name": "stderr",
     "output_type": "stream",
     "text": [
      "100%|██████████| 24/24 [00:04<00:00,  5.45it/s]\n",
      "100%|██████████| 24/24 [00:04<00:00,  5.00it/s]\n"
     ]
    },
    {
     "name": "stdout",
     "output_type": "stream",
     "text": [
      "2025-03-28 20:43:17 Epoch [76/100], Train Loss: 0.2253, Valid Loss: 0.4505, Precision: 0.8503, Recall: 0.7712, F1: 0.8088\n"
     ]
    },
    {
     "name": "stderr",
     "output_type": "stream",
     "text": [
      "100%|██████████| 24/24 [00:04<00:00,  5.40it/s]\n",
      "100%|██████████| 24/24 [00:04<00:00,  5.06it/s]\n"
     ]
    },
    {
     "name": "stdout",
     "output_type": "stream",
     "text": [
      "2025-03-28 20:43:26 Epoch [77/100], Train Loss: 0.2232, Valid Loss: 0.4593, Precision: 0.8484, Recall: 0.7682, F1: 0.8063\n"
     ]
    },
    {
     "name": "stderr",
     "output_type": "stream",
     "text": [
      "100%|██████████| 24/24 [00:04<00:00,  5.50it/s]\n",
      "100%|██████████| 24/24 [00:04<00:00,  4.91it/s]\n"
     ]
    },
    {
     "name": "stdout",
     "output_type": "stream",
     "text": [
      "2025-03-28 20:43:35 Epoch [78/100], Train Loss: 0.2240, Valid Loss: 0.4705, Precision: 0.8589, Recall: 0.7451, F1: 0.7979\n"
     ]
    },
    {
     "name": "stderr",
     "output_type": "stream",
     "text": [
      "100%|██████████| 24/24 [00:04<00:00,  5.43it/s]\n",
      "100%|██████████| 24/24 [00:04<00:00,  5.13it/s]\n"
     ]
    },
    {
     "name": "stdout",
     "output_type": "stream",
     "text": [
      "2025-03-28 20:43:45 Epoch [79/100], Train Loss: 0.2237, Valid Loss: 0.4493, Precision: 0.8459, Recall: 0.7823, F1: 0.8129\n"
     ]
    },
    {
     "name": "stderr",
     "output_type": "stream",
     "text": [
      "100%|██████████| 24/24 [00:04<00:00,  5.45it/s]\n",
      "100%|██████████| 24/24 [00:04<00:00,  5.02it/s]\n"
     ]
    },
    {
     "name": "stdout",
     "output_type": "stream",
     "text": [
      "2025-03-28 20:43:54 Epoch [80/100], Train Loss: 0.2208, Valid Loss: 0.4455, Precision: 0.8542, Recall: 0.7701, F1: 0.8099\n"
     ]
    },
    {
     "name": "stderr",
     "output_type": "stream",
     "text": [
      "100%|██████████| 24/24 [00:04<00:00,  5.23it/s]\n",
      "100%|██████████| 24/24 [00:05<00:00,  4.74it/s]\n"
     ]
    },
    {
     "name": "stdout",
     "output_type": "stream",
     "text": [
      "2025-03-28 20:44:04 Epoch [81/100], Train Loss: 0.2211, Valid Loss: 0.4540, Precision: 0.8563, Recall: 0.7610, F1: 0.8058\n"
     ]
    },
    {
     "name": "stderr",
     "output_type": "stream",
     "text": [
      "100%|██████████| 24/24 [00:04<00:00,  5.45it/s]\n",
      "100%|██████████| 24/24 [00:04<00:00,  5.05it/s]\n"
     ]
    },
    {
     "name": "stdout",
     "output_type": "stream",
     "text": [
      "2025-03-28 20:44:13 Epoch [82/100], Train Loss: 0.2240, Valid Loss: 0.4581, Precision: 0.8539, Recall: 0.7613, F1: 0.8049\n"
     ]
    },
    {
     "name": "stderr",
     "output_type": "stream",
     "text": [
      "100%|██████████| 24/24 [00:04<00:00,  5.46it/s]\n",
      "100%|██████████| 24/24 [00:04<00:00,  4.83it/s]\n"
     ]
    },
    {
     "name": "stdout",
     "output_type": "stream",
     "text": [
      "2025-03-28 20:44:22 Epoch [83/100], Train Loss: 0.2190, Valid Loss: 0.4609, Precision: 0.8544, Recall: 0.7619, F1: 0.8055\n"
     ]
    },
    {
     "name": "stderr",
     "output_type": "stream",
     "text": [
      "100%|██████████| 24/24 [00:04<00:00,  5.36it/s]\n",
      "100%|██████████| 24/24 [00:04<00:00,  5.06it/s]\n"
     ]
    },
    {
     "name": "stdout",
     "output_type": "stream",
     "text": [
      "2025-03-28 20:44:32 Epoch [84/100], Train Loss: 0.2202, Valid Loss: 0.4590, Precision: 0.8535, Recall: 0.7645, F1: 0.8065\n"
     ]
    },
    {
     "name": "stderr",
     "output_type": "stream",
     "text": [
      "100%|██████████| 24/24 [00:04<00:00,  5.40it/s]\n",
      "100%|██████████| 24/24 [00:04<00:00,  5.04it/s]\n"
     ]
    },
    {
     "name": "stdout",
     "output_type": "stream",
     "text": [
      "2025-03-28 20:44:41 Epoch [85/100], Train Loss: 0.2213, Valid Loss: 0.4574, Precision: 0.8541, Recall: 0.7638, F1: 0.8064\n"
     ]
    },
    {
     "name": "stderr",
     "output_type": "stream",
     "text": [
      "100%|██████████| 24/24 [00:04<00:00,  5.42it/s]\n",
      "100%|██████████| 24/24 [00:05<00:00,  4.78it/s]\n"
     ]
    },
    {
     "name": "stdout",
     "output_type": "stream",
     "text": [
      "2025-03-28 20:44:50 Epoch [86/100], Train Loss: 0.2229, Valid Loss: 0.4530, Precision: 0.8538, Recall: 0.7651, F1: 0.8070\n"
     ]
    },
    {
     "name": "stderr",
     "output_type": "stream",
     "text": [
      "100%|██████████| 24/24 [00:04<00:00,  5.55it/s]\n",
      "100%|██████████| 24/24 [00:04<00:00,  5.09it/s]\n"
     ]
    },
    {
     "name": "stdout",
     "output_type": "stream",
     "text": [
      "2025-03-28 20:45:00 Epoch [87/100], Train Loss: 0.2197, Valid Loss: 0.4507, Precision: 0.8472, Recall: 0.7780, F1: 0.8111\n"
     ]
    },
    {
     "name": "stderr",
     "output_type": "stream",
     "text": [
      "100%|██████████| 24/24 [00:04<00:00,  5.47it/s]\n",
      "100%|██████████| 24/24 [00:04<00:00,  5.05it/s]\n"
     ]
    },
    {
     "name": "stdout",
     "output_type": "stream",
     "text": [
      "2025-03-28 20:45:09 Epoch [88/100], Train Loss: 0.2198, Valid Loss: 0.4587, Precision: 0.8546, Recall: 0.7629, F1: 0.8062\n"
     ]
    },
    {
     "name": "stderr",
     "output_type": "stream",
     "text": [
      "100%|██████████| 24/24 [00:04<00:00,  5.56it/s]\n",
      "100%|██████████| 24/24 [00:05<00:00,  4.75it/s]"
     ]
    },
    {
     "name": "stdout",
     "output_type": "stream",
     "text": [
      "2025-03-28 20:45:18 Epoch [89/100], Train Loss: 0.2184, Valid Loss: 0.4581, Precision: 0.8514, Recall: 0.7683, F1: 0.8077\n"
     ]
    },
    {
     "name": "stderr",
     "output_type": "stream",
     "text": [
      "\n",
      "100%|██████████| 24/24 [00:04<00:00,  5.40it/s]\n",
      "100%|██████████| 24/24 [00:04<00:00,  5.00it/s]\n"
     ]
    },
    {
     "name": "stdout",
     "output_type": "stream",
     "text": [
      "2025-03-28 20:45:28 Epoch [90/100], Train Loss: 0.2177, Valid Loss: 0.4584, Precision: 0.8497, Recall: 0.7726, F1: 0.8093\n"
     ]
    },
    {
     "name": "stderr",
     "output_type": "stream",
     "text": [
      "100%|██████████| 24/24 [00:04<00:00,  5.51it/s]\n",
      "100%|██████████| 24/24 [00:04<00:00,  5.09it/s]\n"
     ]
    },
    {
     "name": "stdout",
     "output_type": "stream",
     "text": [
      "2025-03-28 20:45:37 Epoch [91/100], Train Loss: 0.2207, Valid Loss: 0.4637, Precision: 0.8564, Recall: 0.7594, F1: 0.8050\n"
     ]
    },
    {
     "name": "stderr",
     "output_type": "stream",
     "text": [
      "100%|██████████| 24/24 [00:04<00:00,  5.09it/s]\n",
      "100%|██████████| 24/24 [00:04<00:00,  5.01it/s]\n"
     ]
    },
    {
     "name": "stdout",
     "output_type": "stream",
     "text": [
      "2025-03-28 20:45:46 Epoch [92/100], Train Loss: 0.2176, Valid Loss: 0.4597, Precision: 0.8537, Recall: 0.7652, F1: 0.8070\n"
     ]
    },
    {
     "name": "stderr",
     "output_type": "stream",
     "text": [
      "100%|██████████| 24/24 [00:04<00:00,  5.35it/s]\n",
      "100%|██████████| 24/24 [00:04<00:00,  4.92it/s]\n"
     ]
    },
    {
     "name": "stdout",
     "output_type": "stream",
     "text": [
      "2025-03-28 20:45:56 Epoch [93/100], Train Loss: 0.2180, Valid Loss: 0.4566, Precision: 0.8510, Recall: 0.7710, F1: 0.8091\n"
     ]
    },
    {
     "name": "stderr",
     "output_type": "stream",
     "text": [
      "100%|██████████| 24/24 [00:04<00:00,  5.34it/s]\n",
      "100%|██████████| 24/24 [00:05<00:00,  4.65it/s]\n"
     ]
    },
    {
     "name": "stdout",
     "output_type": "stream",
     "text": [
      "2025-03-28 20:46:06 Epoch [94/100], Train Loss: 0.2177, Valid Loss: 0.4577, Precision: 0.8524, Recall: 0.7670, F1: 0.8074\n"
     ]
    },
    {
     "name": "stderr",
     "output_type": "stream",
     "text": [
      "100%|██████████| 24/24 [00:04<00:00,  5.41it/s]\n",
      "100%|██████████| 24/24 [00:04<00:00,  4.97it/s]\n"
     ]
    },
    {
     "name": "stdout",
     "output_type": "stream",
     "text": [
      "2025-03-28 20:46:15 Epoch [95/100], Train Loss: 0.2168, Valid Loss: 0.4584, Precision: 0.8527, Recall: 0.7671, F1: 0.8076\n"
     ]
    },
    {
     "name": "stderr",
     "output_type": "stream",
     "text": [
      "100%|██████████| 24/24 [00:04<00:00,  5.26it/s]\n",
      "100%|██████████| 24/24 [00:04<00:00,  5.00it/s]\n"
     ]
    },
    {
     "name": "stdout",
     "output_type": "stream",
     "text": [
      "2025-03-28 20:46:24 Epoch [96/100], Train Loss: 0.2190, Valid Loss: 0.4583, Precision: 0.8524, Recall: 0.7676, F1: 0.8078\n"
     ]
    },
    {
     "name": "stderr",
     "output_type": "stream",
     "text": [
      "100%|██████████| 24/24 [00:04<00:00,  5.31it/s]\n",
      "100%|██████████| 24/24 [00:05<00:00,  4.68it/s]\n"
     ]
    },
    {
     "name": "stdout",
     "output_type": "stream",
     "text": [
      "2025-03-28 20:46:34 Epoch [97/100], Train Loss: 0.2189, Valid Loss: 0.4586, Precision: 0.8528, Recall: 0.7665, F1: 0.8073\n"
     ]
    },
    {
     "name": "stderr",
     "output_type": "stream",
     "text": [
      "100%|██████████| 24/24 [00:04<00:00,  5.42it/s]\n",
      "100%|██████████| 24/24 [00:04<00:00,  4.94it/s]"
     ]
    },
    {
     "name": "stdout",
     "output_type": "stream",
     "text": [
      "2025-03-28 20:46:44 Epoch [98/100], Train Loss: 0.2196, Valid Loss: 0.4585, Precision: 0.8528, Recall: 0.7664, F1: 0.8073\n"
     ]
    },
    {
     "name": "stderr",
     "output_type": "stream",
     "text": [
      "\n",
      "100%|██████████| 24/24 [00:04<00:00,  5.40it/s]\n",
      "100%|██████████| 24/24 [00:05<00:00,  4.59it/s]\n"
     ]
    },
    {
     "name": "stdout",
     "output_type": "stream",
     "text": [
      "2025-03-28 20:46:53 Epoch [99/100], Train Loss: 0.2195, Valid Loss: 0.4584, Precision: 0.8528, Recall: 0.7665, F1: 0.8074\n"
     ]
    },
    {
     "name": "stderr",
     "output_type": "stream",
     "text": [
      "100%|██████████| 24/24 [00:04<00:00,  5.34it/s]\n",
      "100%|██████████| 24/24 [00:04<00:00,  4.94it/s]\n"
     ]
    },
    {
     "name": "stdout",
     "output_type": "stream",
     "text": [
      "2025-03-28 20:47:03 Epoch [100/100], Train Loss: 0.2182, Valid Loss: 0.4584, Precision: 0.8528, Recall: 0.7665, F1: 0.8074\n"
     ]
    }
   ],
   "source": [
    "os.makedirs(args.output_dir, exist_ok=True)\n",
    "\n",
    "with open(os.path.join(args.output_dir, 'arguments.json'), 'w') as f:\n",
    "    json.dump(vars(args), f)\n",
    "\n",
    "# args.device = torch.device(f'cuda:{args.device}' if torch.cuda.is_available() else 'cpu')\n",
    "\n",
    "P.train()"
   ]
  },
  {
   "cell_type": "code",
   "execution_count": 6,
   "id": "61819d4c-53ea-4080-bbd4-2e11ae02ca02",
   "metadata": {},
   "outputs": [
    {
     "name": "stdout",
     "output_type": "stream",
     "text": [
      "Evaluating...\n",
      "Precision: 0.8619, Recall: 0.6630, F1: 0.7495\n",
      "CPU times: user 29min 4s, sys: 7.66 s, total: 29min 12s\n",
      "Wall time: 7min 26s\n"
     ]
    }
   ],
   "source": [
    "%%time\n",
    "P.model = load_model(os.path.join(P.args.output_dir, 'model.pt'), P.model)\n",
    "result = P.evaluate()\n",
    "f1 = result['eval_f1']\n",
    "precision = result['eval_precision']\n",
    "recall = result['eval_recall']\n",
    "print(f'Precision: {precision:.4f}, Recall: {recall:.4f}, F1: {f1:.4f}')\n",
    "\n",
    "with open(os.path.join(args.output_dir, 'eval_results.json'), 'w') as f:\n",
    "    json.dump(result, f)"
   ]
  },
  {
   "cell_type": "code",
   "execution_count": null,
   "id": "efd49381-9a3b-4c71-af87-e8fe78aaef0d",
   "metadata": {},
   "outputs": [],
   "source": []
  }
 ],
 "metadata": {
  "kernelspec": {
   "display_name": "passrefinder",
   "language": "python",
   "name": "passrefinder"
  },
  "language_info": {
   "codemirror_mode": {
    "name": "ipython",
    "version": 3
   },
   "file_extension": ".py",
   "mimetype": "text/x-python",
   "name": "python",
   "nbconvert_exporter": "python",
   "pygments_lexer": "ipython3",
   "version": "3.10.14"
  }
 },
 "nbformat": 4,
 "nbformat_minor": 5
}
